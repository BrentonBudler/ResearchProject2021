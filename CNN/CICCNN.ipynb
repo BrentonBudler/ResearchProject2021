{
 "cells": [
  {
   "cell_type": "markdown",
   "id": "85d530d0",
   "metadata": {},
   "source": [
    "# CNN for CIC-CSE-IDS2018 Dataset"
   ]
  },
  {
   "cell_type": "code",
   "execution_count": 175,
   "id": "81807fd9",
   "metadata": {},
   "outputs": [],
   "source": [
    "import pandas as pd \n",
    "import numpy as np \n",
    "import matplotlib.pyplot as plt \n",
    "import seaborn as sns \n",
    "\n",
    "from sklearn.model_selection import train_test_split\n",
    "from sklearn.preprocessing import MinMaxScaler\n",
    "from tensorflow.keras.utils import to_categorical\n",
    "\n",
    "from tensorflow.keras.models import Sequential\n",
    "from tensorflow.keras.layers import Dense, Conv2D, MaxPool2D, Flatten, Dropout\n",
    "from sklearn.metrics import classification_report, confusion_matrix"
   ]
  },
  {
   "cell_type": "code",
   "execution_count": 149,
   "id": "bb4cb61f",
   "metadata": {},
   "outputs": [],
   "source": [
    "data = pd.read_csv(\"undersampled_cic.csv\")"
   ]
  },
  {
   "cell_type": "code",
   "execution_count": 150,
   "id": "c34567b8",
   "metadata": {},
   "outputs": [
    {
     "data": {
      "text/html": [
       "<div>\n",
       "<style scoped>\n",
       "    .dataframe tbody tr th:only-of-type {\n",
       "        vertical-align: middle;\n",
       "    }\n",
       "\n",
       "    .dataframe tbody tr th {\n",
       "        vertical-align: top;\n",
       "    }\n",
       "\n",
       "    .dataframe thead th {\n",
       "        text-align: right;\n",
       "    }\n",
       "</style>\n",
       "<table border=\"1\" class=\"dataframe\">\n",
       "  <thead>\n",
       "    <tr style=\"text-align: right;\">\n",
       "      <th></th>\n",
       "      <th>Flow Duration</th>\n",
       "      <th>Tot Fwd Pkts</th>\n",
       "      <th>Tot Bwd Pkts</th>\n",
       "      <th>TotLen Fwd Pkts</th>\n",
       "      <th>TotLen Bwd Pkts</th>\n",
       "      <th>Fwd Pkt Len Max</th>\n",
       "      <th>Fwd Pkt Len Min</th>\n",
       "      <th>Fwd Pkt Len Mean</th>\n",
       "      <th>Fwd Pkt Len Std</th>\n",
       "      <th>Bwd Pkt Len Max</th>\n",
       "      <th>...</th>\n",
       "      <th>Active Min</th>\n",
       "      <th>Idle Mean</th>\n",
       "      <th>Idle Std</th>\n",
       "      <th>Idle Max</th>\n",
       "      <th>Idle Min</th>\n",
       "      <th>protocol__0</th>\n",
       "      <th>protocol__6</th>\n",
       "      <th>protocol__17</th>\n",
       "      <th>target</th>\n",
       "      <th>additional</th>\n",
       "    </tr>\n",
       "  </thead>\n",
       "  <tbody>\n",
       "    <tr>\n",
       "      <th>0</th>\n",
       "      <td>551</td>\n",
       "      <td>2</td>\n",
       "      <td>0</td>\n",
       "      <td>0.0</td>\n",
       "      <td>0.0</td>\n",
       "      <td>0.0</td>\n",
       "      <td>0.0</td>\n",
       "      <td>0.000000</td>\n",
       "      <td>0.000000</td>\n",
       "      <td>0.0</td>\n",
       "      <td>...</td>\n",
       "      <td>0.0</td>\n",
       "      <td>0.000000e+00</td>\n",
       "      <td>0.000000</td>\n",
       "      <td>0.0</td>\n",
       "      <td>0.0</td>\n",
       "      <td>0</td>\n",
       "      <td>1</td>\n",
       "      <td>0</td>\n",
       "      <td>3</td>\n",
       "      <td>0</td>\n",
       "    </tr>\n",
       "    <tr>\n",
       "      <th>1</th>\n",
       "      <td>112638867</td>\n",
       "      <td>3</td>\n",
       "      <td>0</td>\n",
       "      <td>0.0</td>\n",
       "      <td>0.0</td>\n",
       "      <td>0.0</td>\n",
       "      <td>0.0</td>\n",
       "      <td>0.000000</td>\n",
       "      <td>0.000000</td>\n",
       "      <td>0.0</td>\n",
       "      <td>...</td>\n",
       "      <td>0.0</td>\n",
       "      <td>5.631943e+07</td>\n",
       "      <td>1679.378605</td>\n",
       "      <td>56320621.0</td>\n",
       "      <td>56318246.0</td>\n",
       "      <td>1</td>\n",
       "      <td>0</td>\n",
       "      <td>0</td>\n",
       "      <td>3</td>\n",
       "      <td>0</td>\n",
       "    </tr>\n",
       "    <tr>\n",
       "      <th>2</th>\n",
       "      <td>8966</td>\n",
       "      <td>3</td>\n",
       "      <td>4</td>\n",
       "      <td>326.0</td>\n",
       "      <td>129.0</td>\n",
       "      <td>326.0</td>\n",
       "      <td>0.0</td>\n",
       "      <td>108.666667</td>\n",
       "      <td>188.216188</td>\n",
       "      <td>112.0</td>\n",
       "      <td>...</td>\n",
       "      <td>0.0</td>\n",
       "      <td>0.000000e+00</td>\n",
       "      <td>0.000000</td>\n",
       "      <td>0.0</td>\n",
       "      <td>0.0</td>\n",
       "      <td>0</td>\n",
       "      <td>1</td>\n",
       "      <td>0</td>\n",
       "      <td>5</td>\n",
       "      <td>0</td>\n",
       "    </tr>\n",
       "    <tr>\n",
       "      <th>3</th>\n",
       "      <td>111816159</td>\n",
       "      <td>17</td>\n",
       "      <td>23</td>\n",
       "      <td>2872.0</td>\n",
       "      <td>1709.0</td>\n",
       "      <td>1460.0</td>\n",
       "      <td>0.0</td>\n",
       "      <td>168.941176</td>\n",
       "      <td>474.948217</td>\n",
       "      <td>428.0</td>\n",
       "      <td>...</td>\n",
       "      <td>63064.0</td>\n",
       "      <td>9.999056e+06</td>\n",
       "      <td>23491.769152</td>\n",
       "      <td>10014914.0</td>\n",
       "      <td>9952970.0</td>\n",
       "      <td>0</td>\n",
       "      <td>1</td>\n",
       "      <td>0</td>\n",
       "      <td>0</td>\n",
       "      <td>0</td>\n",
       "    </tr>\n",
       "    <tr>\n",
       "      <th>4</th>\n",
       "      <td>369756</td>\n",
       "      <td>22</td>\n",
       "      <td>22</td>\n",
       "      <td>1976.0</td>\n",
       "      <td>2665.0</td>\n",
       "      <td>640.0</td>\n",
       "      <td>0.0</td>\n",
       "      <td>89.818182</td>\n",
       "      <td>138.033687</td>\n",
       "      <td>976.0</td>\n",
       "      <td>...</td>\n",
       "      <td>0.0</td>\n",
       "      <td>0.000000e+00</td>\n",
       "      <td>0.000000</td>\n",
       "      <td>0.0</td>\n",
       "      <td>0.0</td>\n",
       "      <td>0</td>\n",
       "      <td>1</td>\n",
       "      <td>0</td>\n",
       "      <td>1</td>\n",
       "      <td>0</td>\n",
       "    </tr>\n",
       "  </tbody>\n",
       "</table>\n",
       "<p>5 rows × 81 columns</p>\n",
       "</div>"
      ],
      "text/plain": [
       "   Flow Duration  Tot Fwd Pkts  Tot Bwd Pkts  TotLen Fwd Pkts  \\\n",
       "0            551             2             0              0.0   \n",
       "1      112638867             3             0              0.0   \n",
       "2           8966             3             4            326.0   \n",
       "3      111816159            17            23           2872.0   \n",
       "4         369756            22            22           1976.0   \n",
       "\n",
       "   TotLen Bwd Pkts  Fwd Pkt Len Max  Fwd Pkt Len Min  Fwd Pkt Len Mean  \\\n",
       "0              0.0              0.0              0.0          0.000000   \n",
       "1              0.0              0.0              0.0          0.000000   \n",
       "2            129.0            326.0              0.0        108.666667   \n",
       "3           1709.0           1460.0              0.0        168.941176   \n",
       "4           2665.0            640.0              0.0         89.818182   \n",
       "\n",
       "   Fwd Pkt Len Std  Bwd Pkt Len Max  ...  Active Min     Idle Mean  \\\n",
       "0         0.000000              0.0  ...         0.0  0.000000e+00   \n",
       "1         0.000000              0.0  ...         0.0  5.631943e+07   \n",
       "2       188.216188            112.0  ...         0.0  0.000000e+00   \n",
       "3       474.948217            428.0  ...     63064.0  9.999056e+06   \n",
       "4       138.033687            976.0  ...         0.0  0.000000e+00   \n",
       "\n",
       "       Idle Std    Idle Max    Idle Min  protocol__0  protocol__6  \\\n",
       "0      0.000000         0.0         0.0            0            1   \n",
       "1   1679.378605  56320621.0  56318246.0            1            0   \n",
       "2      0.000000         0.0         0.0            0            1   \n",
       "3  23491.769152  10014914.0   9952970.0            0            1   \n",
       "4      0.000000         0.0         0.0            0            1   \n",
       "\n",
       "   protocol__17  target  additional  \n",
       "0             0       3           0  \n",
       "1             0       3           0  \n",
       "2             0       5           0  \n",
       "3             0       0           0  \n",
       "4             0       1           0  \n",
       "\n",
       "[5 rows x 81 columns]"
      ]
     },
     "execution_count": 150,
     "metadata": {},
     "output_type": "execute_result"
    }
   ],
   "source": [
    "# We will create an additional 1 features which will just contain zeros as this will result in 80 features which we\n",
    "# Can transform into 10X8 square input \n",
    "data[\"additional\"]= 0 \n",
    "data.head()"
   ]
  },
  {
   "cell_type": "code",
   "execution_count": 151,
   "id": "dfdafc13",
   "metadata": {},
   "outputs": [],
   "source": [
    "X = data.drop(\"target\",axis=1).values\n",
    "y = data[\"target\"].values\n",
    "\n",
    "X_train, X_test, y_train, y_test = train_test_split(X, y, test_size=0.3, random_state=42, stratify = data[\"target\"])\n",
    "\n",
    "min_max_scaler = MinMaxScaler()\n",
    "X_train = min_max_scaler.fit_transform(X_train)\n",
    "X_test = min_max_scaler.transform(X_test)\n",
    "\n",
    "y_cat_train = to_categorical(y_train)\n",
    "y_cat_test = to_categorical(y_test)"
   ]
  },
  {
   "cell_type": "code",
   "execution_count": 152,
   "id": "96a3e178",
   "metadata": {},
   "outputs": [],
   "source": [
    "X_train = X_train.reshape(4545,10,8,1) #reshaping into 10x8 input images \n",
    "X_test = X_test.reshape(1948,10,8,1) #reshaping into 10x8 input images "
   ]
  },
  {
   "cell_type": "code",
   "execution_count": 153,
   "id": "aba86f9e",
   "metadata": {},
   "outputs": [
    {
     "data": {
      "image/png": "[encoded data removed]",
      "text/plain": [
       "<Figure size 1080x432 with 4 Axes>"
      ]
     },
     "metadata": {
      "needs_background": "light"
     },
     "output_type": "display_data"
    }
   ],
   "source": [
    "fig, axs = plt.subplots(nrows =1 , ncols =4, figsize= (15,6))\n",
    "axs[0].imshow(X_train[0])\n",
    "axs[1].imshow(X_train[1])\n",
    "axs[2].imshow(X_train[2])\n",
    "axs[3].imshow(X_train[9])\n",
    "plt.show()"
   ]
  },
  {
   "cell_type": "code",
   "execution_count": 186,
   "id": "756e713f",
   "metadata": {},
   "outputs": [],
   "source": [
    "model = Sequential()\n",
    "\n",
    "model.add(Conv2D(filters=8, kernel_size=(2,2), input_shape=(10,8,1), padding = 'same', activation='relu'))\n",
    "model.add(MaxPool2D(pool_size=(2, 2)))\n",
    "\n",
    "model.add(Conv2D(filters=16, kernel_size=(2,2), input_shape=(10,8,1), padding = 'same', activation='relu'))\n",
    "model.add(MaxPool2D(pool_size=(2, 2)))\n",
    "\n",
    "model.add(Flatten())\n",
    "\n",
    "model.add(Dense(64,activation='relu'))\n",
    "\n",
    "# OUTPUT LAYER - equal to number of classes \n",
    "model.add(Dense(7,activation = \"softmax\"))\n",
    "\n",
    "model.compile(loss=\"categorical_crossentropy\", optimizer = 'adam', metrics=[\"accuracy\"])"
   ]
  },
  {
   "cell_type": "code",
   "execution_count": 187,
   "id": "2b70a380",
   "metadata": {},
   "outputs": [
    {
     "name": "stdout",
     "output_type": "stream",
     "text": [
      "Epoch 1/50\n",
      "12/36 [=========>....................] - ETA: 0s - loss: 1.9396 - accuracy: 0.1634"
     ]
    },
    {
     "name": "stderr",
     "output_type": "stream",
     "text": [
      "2021-08-17 10:48:27.907531: I tensorflow/core/grappler/optimizers/custom_graph_optimizer_registry.cc:112] Plugin optimizer for device_type GPU is enabled.\n"
     ]
    },
    {
     "name": "stdout",
     "output_type": "stream",
     "text": [
      "36/36 [==============================] - 1s 14ms/step - loss: 1.9093 - accuracy: 0.2383 - val_loss: 1.8580 - val_accuracy: 0.2941\n",
      "Epoch 2/50\n",
      " 7/36 [====>.........................] - ETA: 0s - loss: 1.8497 - accuracy: 0.3337"
     ]
    },
    {
     "name": "stderr",
     "output_type": "stream",
     "text": [
      "2021-08-17 10:48:28.340144: I tensorflow/core/grappler/optimizers/custom_graph_optimizer_registry.cc:112] Plugin optimizer for device_type GPU is enabled.\n"
     ]
    },
    {
     "name": "stdout",
     "output_type": "stream",
     "text": [
      "36/36 [==============================] - 0s 12ms/step - loss: 1.7767 - accuracy: 0.4112 - val_loss: 1.6667 - val_accuracy: 0.4286\n",
      "Epoch 3/50\n",
      "36/36 [==============================] - 0s 12ms/step - loss: 1.5455 - accuracy: 0.4073 - val_loss: 1.4262 - val_accuracy: 0.4050\n",
      "Epoch 4/50\n",
      "36/36 [==============================] - 0s 13ms/step - loss: 1.3384 - accuracy: 0.4634 - val_loss: 1.2718 - val_accuracy: 0.5113\n",
      "Epoch 5/50\n",
      "36/36 [==============================] - 0s 13ms/step - loss: 1.2038 - accuracy: 0.5054 - val_loss: 1.1408 - val_accuracy: 0.5118\n",
      "Epoch 6/50\n",
      "36/36 [==============================] - 0s 13ms/step - loss: 1.0897 - accuracy: 0.5897 - val_loss: 1.0348 - val_accuracy: 0.6247\n",
      "Epoch 7/50\n",
      "36/36 [==============================] - 0s 13ms/step - loss: 0.9797 - accuracy: 0.6504 - val_loss: 0.9220 - val_accuracy: 0.6843\n",
      "Epoch 8/50\n",
      "36/36 [==============================] - 0s 13ms/step - loss: 0.8771 - accuracy: 0.6937 - val_loss: 0.8198 - val_accuracy: 0.6997\n",
      "Epoch 9/50\n",
      "36/36 [==============================] - 0s 13ms/step - loss: 0.7796 - accuracy: 0.7430 - val_loss: 0.7333 - val_accuracy: 0.7721\n",
      "Epoch 10/50\n",
      "36/36 [==============================] - 0s 12ms/step - loss: 0.7018 - accuracy: 0.7666 - val_loss: 0.6676 - val_accuracy: 0.7449\n",
      "Epoch 11/50\n",
      "36/36 [==============================] - 0s 12ms/step - loss: 0.6506 - accuracy: 0.7738 - val_loss: 0.6109 - val_accuracy: 0.7823\n",
      "Epoch 12/50\n",
      "36/36 [==============================] - 0s 13ms/step - loss: 0.6085 - accuracy: 0.7815 - val_loss: 0.5779 - val_accuracy: 0.7911\n",
      "Epoch 13/50\n",
      "36/36 [==============================] - 0s 12ms/step - loss: 0.5750 - accuracy: 0.7795 - val_loss: 0.5563 - val_accuracy: 0.7716\n",
      "Epoch 14/50\n",
      "36/36 [==============================] - 0s 13ms/step - loss: 0.5514 - accuracy: 0.7859 - val_loss: 0.5329 - val_accuracy: 0.7900\n",
      "Epoch 15/50\n",
      "36/36 [==============================] - 0s 13ms/step - loss: 0.5374 - accuracy: 0.7848 - val_loss: 0.5178 - val_accuracy: 0.7916\n",
      "Epoch 16/50\n",
      "36/36 [==============================] - 0s 12ms/step - loss: 0.5283 - accuracy: 0.7846 - val_loss: 0.5047 - val_accuracy: 0.7947\n",
      "Epoch 17/50\n",
      "36/36 [==============================] - 0s 13ms/step - loss: 0.5082 - accuracy: 0.7901 - val_loss: 0.4960 - val_accuracy: 0.8239\n",
      "Epoch 18/50\n",
      "36/36 [==============================] - 0s 12ms/step - loss: 0.4971 - accuracy: 0.7982 - val_loss: 0.4930 - val_accuracy: 0.7782\n",
      "Epoch 19/50\n",
      "36/36 [==============================] - 0s 12ms/step - loss: 0.4945 - accuracy: 0.7934 - val_loss: 0.4769 - val_accuracy: 0.7977\n",
      "Epoch 20/50\n",
      "36/36 [==============================] - 0s 12ms/step - loss: 0.4837 - accuracy: 0.7958 - val_loss: 0.4691 - val_accuracy: 0.7977\n",
      "Epoch 21/50\n",
      "36/36 [==============================] - 0s 12ms/step - loss: 0.4757 - accuracy: 0.8059 - val_loss: 0.4668 - val_accuracy: 0.8008\n",
      "Epoch 22/50\n",
      "36/36 [==============================] - 0s 12ms/step - loss: 0.4704 - accuracy: 0.8037 - val_loss: 0.4621 - val_accuracy: 0.8075\n",
      "Epoch 23/50\n",
      "36/36 [==============================] - 0s 12ms/step - loss: 0.4674 - accuracy: 0.8084 - val_loss: 0.4682 - val_accuracy: 0.7952\n",
      "Epoch 24/50\n",
      "36/36 [==============================] - 0s 12ms/step - loss: 0.4643 - accuracy: 0.8044 - val_loss: 0.4585 - val_accuracy: 0.8003\n",
      "Epoch 25/50\n",
      "36/36 [==============================] - 0s 12ms/step - loss: 0.4632 - accuracy: 0.8077 - val_loss: 0.4538 - val_accuracy: 0.8080\n",
      "Epoch 26/50\n",
      "36/36 [==============================] - 0s 12ms/step - loss: 0.4552 - accuracy: 0.8070 - val_loss: 0.4536 - val_accuracy: 0.7854\n",
      "Epoch 27/50\n",
      "36/36 [==============================] - 0s 12ms/step - loss: 0.4483 - accuracy: 0.8139 - val_loss: 0.4487 - val_accuracy: 0.8018\n",
      "Epoch 28/50\n",
      "36/36 [==============================] - 0s 12ms/step - loss: 0.4471 - accuracy: 0.8117 - val_loss: 0.4552 - val_accuracy: 0.8044\n",
      "Epoch 29/50\n",
      "36/36 [==============================] - 0s 12ms/step - loss: 0.4454 - accuracy: 0.8128 - val_loss: 0.4421 - val_accuracy: 0.8070\n",
      "Epoch 30/50\n",
      "36/36 [==============================] - 0s 12ms/step - loss: 0.4393 - accuracy: 0.8092 - val_loss: 0.4376 - val_accuracy: 0.8116\n",
      "Epoch 31/50\n",
      "36/36 [==============================] - 0s 12ms/step - loss: 0.4341 - accuracy: 0.8147 - val_loss: 0.4362 - val_accuracy: 0.8121\n",
      "Epoch 32/50\n",
      "36/36 [==============================] - 0s 12ms/step - loss: 0.4345 - accuracy: 0.8136 - val_loss: 0.4384 - val_accuracy: 0.8095\n",
      "Epoch 33/50\n",
      "36/36 [==============================] - 0s 12ms/step - loss: 0.4290 - accuracy: 0.8163 - val_loss: 0.4375 - val_accuracy: 0.7864\n",
      "Epoch 34/50\n",
      "36/36 [==============================] - 0s 13ms/step - loss: 0.4305 - accuracy: 0.8084 - val_loss: 0.4548 - val_accuracy: 0.7854\n",
      "Epoch 35/50\n",
      "36/36 [==============================] - 0s 13ms/step - loss: 0.4287 - accuracy: 0.8139 - val_loss: 0.4404 - val_accuracy: 0.7870\n",
      "Epoch 36/50\n",
      "36/36 [==============================] - 0s 13ms/step - loss: 0.4224 - accuracy: 0.8205 - val_loss: 0.4459 - val_accuracy: 0.8039\n",
      "Epoch 37/50\n",
      "36/36 [==============================] - 0s 12ms/step - loss: 0.4225 - accuracy: 0.8209 - val_loss: 0.4326 - val_accuracy: 0.8106\n",
      "Epoch 38/50\n",
      "36/36 [==============================] - 0s 13ms/step - loss: 0.4159 - accuracy: 0.8194 - val_loss: 0.4288 - val_accuracy: 0.8095\n",
      "Epoch 39/50\n",
      "36/36 [==============================] - 0s 12ms/step - loss: 0.4214 - accuracy: 0.8253 - val_loss: 0.4337 - val_accuracy: 0.7952\n",
      "Epoch 40/50\n",
      "36/36 [==============================] - 0s 13ms/step - loss: 0.4161 - accuracy: 0.8200 - val_loss: 0.4255 - val_accuracy: 0.8126\n",
      "Epoch 41/50\n",
      "36/36 [==============================] - 0s 13ms/step - loss: 0.4115 - accuracy: 0.8231 - val_loss: 0.4211 - val_accuracy: 0.8208\n",
      "Epoch 42/50\n",
      "36/36 [==============================] - 0s 12ms/step - loss: 0.4108 - accuracy: 0.8242 - val_loss: 0.4205 - val_accuracy: 0.8157\n",
      "Epoch 43/50\n",
      "36/36 [==============================] - 0s 13ms/step - loss: 0.4097 - accuracy: 0.8205 - val_loss: 0.4243 - val_accuracy: 0.8368\n",
      "Epoch 44/50\n",
      "36/36 [==============================] - 0s 12ms/step - loss: 0.4089 - accuracy: 0.8205 - val_loss: 0.4207 - val_accuracy: 0.8403\n",
      "Epoch 45/50\n",
      "36/36 [==============================] - 0s 13ms/step - loss: 0.4047 - accuracy: 0.8229 - val_loss: 0.4169 - val_accuracy: 0.8142\n",
      "Epoch 46/50\n",
      "36/36 [==============================] - 0s 13ms/step - loss: 0.4014 - accuracy: 0.8264 - val_loss: 0.4149 - val_accuracy: 0.8152\n",
      "Epoch 47/50\n",
      "36/36 [==============================] - 0s 13ms/step - loss: 0.4030 - accuracy: 0.8244 - val_loss: 0.4172 - val_accuracy: 0.8152\n",
      "Epoch 48/50\n",
      "36/36 [==============================] - 0s 13ms/step - loss: 0.3994 - accuracy: 0.8306 - val_loss: 0.4170 - val_accuracy: 0.8101\n",
      "Epoch 49/50\n",
      "36/36 [==============================] - 0s 12ms/step - loss: 0.3999 - accuracy: 0.8244 - val_loss: 0.4209 - val_accuracy: 0.7941\n",
      "Epoch 50/50\n",
      "36/36 [==============================] - 0s 12ms/step - loss: 0.3975 - accuracy: 0.8187 - val_loss: 0.4137 - val_accuracy: 0.8162\n"
     ]
    },
    {
     "data": {
      "text/plain": [
       "<tensorflow.python.keras.callbacks.History at 0x2b6accd90>"
      ]
     },
     "execution_count": 187,
     "metadata": {},
     "output_type": "execute_result"
    }
   ],
   "source": [
    "model.fit(X_train, y_cat_train, epochs = 50, batch_size = 128, validation_data = (X_test, y_cat_test))"
   ]
  },
  {
   "cell_type": "code",
   "execution_count": 188,
   "id": "f8cad27c",
   "metadata": {},
   "outputs": [],
   "source": [
    "metrics = pd.DataFrame(model.history.history)"
   ]
  },
  {
   "cell_type": "code",
   "execution_count": 189,
   "id": "90fe03db",
   "metadata": {},
   "outputs": [
    {
     "data": {
      "text/plain": [
       "<AxesSubplot:>"
      ]
     },
     "execution_count": 189,
     "metadata": {},
     "output_type": "execute_result"
    },
    {
     "data": {
      "image/png": "[encoded data removed]",
      "text/plain": [
       "<Figure size 432x288 with 1 Axes>"
      ]
     },
     "metadata": {
      "needs_background": "light"
     },
     "output_type": "display_data"
    }
   ],
   "source": [
    "metrics[[\"loss\",\"val_loss\"]].plot()"
   ]
  },
  {
   "cell_type": "code",
   "execution_count": 190,
   "id": "fe5d657b",
   "metadata": {},
   "outputs": [
    {
     "data": {
      "text/plain": [
       "<AxesSubplot:>"
      ]
     },
     "execution_count": 190,
     "metadata": {},
     "output_type": "execute_result"
    },
    {
     "data": {
      "image/png": "[encoded data removed]",
      "text/plain": [
       "<Figure size 432x288 with 1 Axes>"
      ]
     },
     "metadata": {
      "needs_background": "light"
     },
     "output_type": "display_data"
    }
   ],
   "source": [
    "metrics[[\"accuracy\",\"val_accuracy\"]].plot()"
   ]
  },
  {
   "cell_type": "code",
   "execution_count": 191,
   "id": "9f91addb",
   "metadata": {},
   "outputs": [
    {
     "name": "stderr",
     "output_type": "stream",
     "text": [
      "2021-08-17 10:50:25.573068: I tensorflow/core/grappler/optimizers/custom_graph_optimizer_registry.cc:112] Plugin optimizer for device_type GPU is enabled.\n"
     ]
    }
   ],
   "source": [
    "predictions = np.argmax(model.predict(X_test), axis=-1)"
   ]
  },
  {
   "cell_type": "code",
   "execution_count": 192,
   "id": "1f7a39d7",
   "metadata": {},
   "outputs": [
    {
     "name": "stdout",
     "output_type": "stream",
     "text": [
      "              precision    recall  f1-score   support\n",
      "\n",
      "           0       0.65      0.46      0.54       278\n",
      "           1       1.00      1.00      1.00       278\n",
      "           2       0.98      1.00      0.99       278\n",
      "           3       0.86      0.68      0.76       278\n",
      "           4       0.59      0.61      0.60       279\n",
      "           5       0.68      1.00      0.81       279\n",
      "           6       0.99      0.97      0.98       278\n",
      "\n",
      "    accuracy                           0.82      1948\n",
      "   macro avg       0.82      0.82      0.81      1948\n",
      "weighted avg       0.82      0.82      0.81      1948\n",
      "\n"
     ]
    }
   ],
   "source": [
    "print(classification_report(y_test, predictions))"
   ]
  },
  {
   "cell_type": "code",
   "execution_count": 115,
   "id": "3fac52d2",
   "metadata": {},
   "outputs": [
    {
     "name": "stdout",
     "output_type": "stream",
     "text": [
      "[[124   0   3  29 112   7   3]\n",
      " [  0 278   0   0   0   0   0]\n",
      " [  0   2 276   0   0   0   0]\n",
      " [  1   0   0 196   3  78   0]\n",
      " [ 70   2   1  31 157  10   8]\n",
      " [  1   0   0   0   5 273   0]\n",
      " [  0   0   0   7   0   1 270]]\n"
     ]
    }
   ],
   "source": [
    "print(confusion_matrix(y_test, predictions))"
   ]
  },
  {
   "cell_type": "code",
   "execution_count": null,
   "id": "1695afcb",
   "metadata": {},
   "outputs": [],
   "source": []
  }
 ],
 "metadata": {
  "kernelspec": {
   "display_name": "Python 3 (ipykernel)",
   "language": "python",
   "name": "python3"
  },
  "language_info": {
   "codemirror_mode": {
    "name": "ipython",
    "version": 3
   },
   "file_extension": ".py",
   "mimetype": "text/x-python",
   "name": "python",
   "nbconvert_exporter": "python",
   "pygments_lexer": "ipython3",
   "version": "3.9.6"
  }
 },
 "nbformat": 4,
 "nbformat_minor": 5
}
