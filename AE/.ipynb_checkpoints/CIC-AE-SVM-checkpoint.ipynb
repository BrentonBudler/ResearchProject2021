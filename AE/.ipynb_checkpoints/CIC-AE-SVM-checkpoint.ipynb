{
 "cells": [
  {
   "cell_type": "markdown",
   "id": "4b3d3fef",
   "metadata": {},
   "source": [
    "# AutoEncoder CIC"
   ]
  },
  {
   "cell_type": "code",
   "execution_count": 51,
   "id": "0504b950",
   "metadata": {},
   "outputs": [],
   "source": [
    "import numpy as np\n",
    "import pandas as pd \n",
    "import matplotlib.pyplot as plt \n",
    "import seaborn as sns \n",
    "\n",
    "from sklearn.model_selection import train_test_split\n",
    "from sklearn.preprocessing import MinMaxScaler\n",
    "from sklearn.metrics import classification_report, confusion_matrix\n",
    "\n",
    "from tensorflow.keras.models import Sequential\n",
    "from tensorflow.keras.layers import Dense\n",
    "from tensorflow.keras.optimizers import SGD"
   ]
  },
  {
   "cell_type": "code",
   "execution_count": 52,
   "id": "1bfeffb1",
   "metadata": {
    "scrolled": true
   },
   "outputs": [
    {
     "data": {
      "text/html": [
       "<div>\n",
       "<style scoped>\n",
       "    .dataframe tbody tr th:only-of-type {\n",
       "        vertical-align: middle;\n",
       "    }\n",
       "\n",
       "    .dataframe tbody tr th {\n",
       "        vertical-align: top;\n",
       "    }\n",
       "\n",
       "    .dataframe thead th {\n",
       "        text-align: right;\n",
       "    }\n",
       "</style>\n",
       "<table border=\"1\" class=\"dataframe\">\n",
       "  <thead>\n",
       "    <tr style=\"text-align: right;\">\n",
       "      <th></th>\n",
       "      <th>Flow Duration</th>\n",
       "      <th>Tot Fwd Pkts</th>\n",
       "      <th>Tot Bwd Pkts</th>\n",
       "      <th>TotLen Fwd Pkts</th>\n",
       "      <th>TotLen Bwd Pkts</th>\n",
       "      <th>Fwd Pkt Len Max</th>\n",
       "      <th>Fwd Pkt Len Min</th>\n",
       "      <th>Fwd Pkt Len Mean</th>\n",
       "      <th>Fwd Pkt Len Std</th>\n",
       "      <th>Bwd Pkt Len Max</th>\n",
       "      <th>...</th>\n",
       "      <th>Active Max</th>\n",
       "      <th>Active Min</th>\n",
       "      <th>Idle Mean</th>\n",
       "      <th>Idle Std</th>\n",
       "      <th>Idle Max</th>\n",
       "      <th>Idle Min</th>\n",
       "      <th>protocol__0</th>\n",
       "      <th>protocol__6</th>\n",
       "      <th>protocol__17</th>\n",
       "      <th>target</th>\n",
       "    </tr>\n",
       "  </thead>\n",
       "  <tbody>\n",
       "    <tr>\n",
       "      <th>0</th>\n",
       "      <td>551</td>\n",
       "      <td>2</td>\n",
       "      <td>0</td>\n",
       "      <td>0.0</td>\n",
       "      <td>0.0</td>\n",
       "      <td>0.0</td>\n",
       "      <td>0.0</td>\n",
       "      <td>0.000000</td>\n",
       "      <td>0.000000</td>\n",
       "      <td>0.0</td>\n",
       "      <td>...</td>\n",
       "      <td>0.0</td>\n",
       "      <td>0.0</td>\n",
       "      <td>0.000000e+00</td>\n",
       "      <td>0.000000</td>\n",
       "      <td>0.0</td>\n",
       "      <td>0.0</td>\n",
       "      <td>0</td>\n",
       "      <td>1</td>\n",
       "      <td>0</td>\n",
       "      <td>3</td>\n",
       "    </tr>\n",
       "    <tr>\n",
       "      <th>1</th>\n",
       "      <td>112638867</td>\n",
       "      <td>3</td>\n",
       "      <td>0</td>\n",
       "      <td>0.0</td>\n",
       "      <td>0.0</td>\n",
       "      <td>0.0</td>\n",
       "      <td>0.0</td>\n",
       "      <td>0.000000</td>\n",
       "      <td>0.000000</td>\n",
       "      <td>0.0</td>\n",
       "      <td>...</td>\n",
       "      <td>0.0</td>\n",
       "      <td>0.0</td>\n",
       "      <td>5.631943e+07</td>\n",
       "      <td>1679.378605</td>\n",
       "      <td>56320621.0</td>\n",
       "      <td>56318246.0</td>\n",
       "      <td>1</td>\n",
       "      <td>0</td>\n",
       "      <td>0</td>\n",
       "      <td>3</td>\n",
       "    </tr>\n",
       "    <tr>\n",
       "      <th>2</th>\n",
       "      <td>8966</td>\n",
       "      <td>3</td>\n",
       "      <td>4</td>\n",
       "      <td>326.0</td>\n",
       "      <td>129.0</td>\n",
       "      <td>326.0</td>\n",
       "      <td>0.0</td>\n",
       "      <td>108.666667</td>\n",
       "      <td>188.216188</td>\n",
       "      <td>112.0</td>\n",
       "      <td>...</td>\n",
       "      <td>0.0</td>\n",
       "      <td>0.0</td>\n",
       "      <td>0.000000e+00</td>\n",
       "      <td>0.000000</td>\n",
       "      <td>0.0</td>\n",
       "      <td>0.0</td>\n",
       "      <td>0</td>\n",
       "      <td>1</td>\n",
       "      <td>0</td>\n",
       "      <td>5</td>\n",
       "    </tr>\n",
       "    <tr>\n",
       "      <th>3</th>\n",
       "      <td>111816159</td>\n",
       "      <td>17</td>\n",
       "      <td>23</td>\n",
       "      <td>2872.0</td>\n",
       "      <td>1709.0</td>\n",
       "      <td>1460.0</td>\n",
       "      <td>0.0</td>\n",
       "      <td>168.941176</td>\n",
       "      <td>474.948217</td>\n",
       "      <td>428.0</td>\n",
       "      <td>...</td>\n",
       "      <td>578105.0</td>\n",
       "      <td>63064.0</td>\n",
       "      <td>9.999056e+06</td>\n",
       "      <td>23491.769152</td>\n",
       "      <td>10014914.0</td>\n",
       "      <td>9952970.0</td>\n",
       "      <td>0</td>\n",
       "      <td>1</td>\n",
       "      <td>0</td>\n",
       "      <td>0</td>\n",
       "    </tr>\n",
       "    <tr>\n",
       "      <th>4</th>\n",
       "      <td>369756</td>\n",
       "      <td>22</td>\n",
       "      <td>22</td>\n",
       "      <td>1976.0</td>\n",
       "      <td>2665.0</td>\n",
       "      <td>640.0</td>\n",
       "      <td>0.0</td>\n",
       "      <td>89.818182</td>\n",
       "      <td>138.033687</td>\n",
       "      <td>976.0</td>\n",
       "      <td>...</td>\n",
       "      <td>0.0</td>\n",
       "      <td>0.0</td>\n",
       "      <td>0.000000e+00</td>\n",
       "      <td>0.000000</td>\n",
       "      <td>0.0</td>\n",
       "      <td>0.0</td>\n",
       "      <td>0</td>\n",
       "      <td>1</td>\n",
       "      <td>0</td>\n",
       "      <td>1</td>\n",
       "    </tr>\n",
       "  </tbody>\n",
       "</table>\n",
       "<p>5 rows × 80 columns</p>\n",
       "</div>"
      ],
      "text/plain": [
       "   Flow Duration  Tot Fwd Pkts  Tot Bwd Pkts  TotLen Fwd Pkts  \\\n",
       "0            551             2             0              0.0   \n",
       "1      112638867             3             0              0.0   \n",
       "2           8966             3             4            326.0   \n",
       "3      111816159            17            23           2872.0   \n",
       "4         369756            22            22           1976.0   \n",
       "\n",
       "   TotLen Bwd Pkts  Fwd Pkt Len Max  Fwd Pkt Len Min  Fwd Pkt Len Mean  \\\n",
       "0              0.0              0.0              0.0          0.000000   \n",
       "1              0.0              0.0              0.0          0.000000   \n",
       "2            129.0            326.0              0.0        108.666667   \n",
       "3           1709.0           1460.0              0.0        168.941176   \n",
       "4           2665.0            640.0              0.0         89.818182   \n",
       "\n",
       "   Fwd Pkt Len Std  Bwd Pkt Len Max  ...  Active Max  Active Min  \\\n",
       "0         0.000000              0.0  ...         0.0         0.0   \n",
       "1         0.000000              0.0  ...         0.0         0.0   \n",
       "2       188.216188            112.0  ...         0.0         0.0   \n",
       "3       474.948217            428.0  ...    578105.0     63064.0   \n",
       "4       138.033687            976.0  ...         0.0         0.0   \n",
       "\n",
       "      Idle Mean      Idle Std    Idle Max    Idle Min  protocol__0  \\\n",
       "0  0.000000e+00      0.000000         0.0         0.0            0   \n",
       "1  5.631943e+07   1679.378605  56320621.0  56318246.0            1   \n",
       "2  0.000000e+00      0.000000         0.0         0.0            0   \n",
       "3  9.999056e+06  23491.769152  10014914.0   9952970.0            0   \n",
       "4  0.000000e+00      0.000000         0.0         0.0            0   \n",
       "\n",
       "   protocol__6  protocol__17  target  \n",
       "0            1             0       3  \n",
       "1            0             0       3  \n",
       "2            1             0       5  \n",
       "3            1             0       0  \n",
       "4            1             0       1  \n",
       "\n",
       "[5 rows x 80 columns]"
      ]
     },
     "execution_count": 52,
     "metadata": {},
     "output_type": "execute_result"
    }
   ],
   "source": [
    "data = pd.read_csv(\"undersampled_cic.csv\")\n",
    "data.head()"
   ]
  },
  {
   "cell_type": "code",
   "execution_count": 53,
   "id": "6ce445c6",
   "metadata": {},
   "outputs": [],
   "source": [
    "X = data.drop(\"target\",axis=1).values\n",
    "y = data[\"target\"].values"
   ]
  },
  {
   "cell_type": "code",
   "execution_count": 54,
   "id": "1ab89af3",
   "metadata": {},
   "outputs": [],
   "source": [
    "min_max_scaler = MinMaxScaler()\n",
    "X = min_max_scaler.fit_transform(X)"
   ]
  },
  {
   "cell_type": "code",
   "execution_count": 55,
   "id": "abb14202",
   "metadata": {},
   "outputs": [],
   "source": [
    "encoder = Sequential()\n",
    "encoder.add(Dense(20, activation='relu',input_shape=[79]))\n",
    "\n",
    "\n",
    "decoder = Sequential()\n",
    "decoder.add(Dense(79, activation='relu', input_shape=[20]))"
   ]
  },
  {
   "cell_type": "code",
   "execution_count": 56,
   "id": "451b5dfb",
   "metadata": {},
   "outputs": [],
   "source": [
    "autoencoder = Sequential([encoder,decoder])\n",
    "autoencoder.compile(loss='mse',optimizer = 'adam')"
   ]
  },
  {
   "cell_type": "code",
   "execution_count": 57,
   "id": "4229e6a9",
   "metadata": {
    "scrolled": false
   },
   "outputs": [
    {
     "name": "stdout",
     "output_type": "stream",
     "text": [
      "Epoch 1/15\n",
      " 34/203 [====>.........................] - ETA: 0s - loss: 0.0443"
     ]
    },
    {
     "name": "stderr",
     "output_type": "stream",
     "text": [
      "2021-08-25 20:21:43.172059: I tensorflow/core/grappler/optimizers/custom_graph_optimizer_registry.cc:112] Plugin optimizer for device_type GPU is enabled.\n"
     ]
    },
    {
     "name": "stdout",
     "output_type": "stream",
     "text": [
      "203/203 [==============================] - 1s 5ms/step - loss: 0.0224\n",
      "Epoch 2/15\n",
      "203/203 [==============================] - 1s 5ms/step - loss: 0.0063\n",
      "Epoch 3/15\n",
      "203/203 [==============================] - 1s 5ms/step - loss: 0.0048\n",
      "Epoch 4/15\n",
      "203/203 [==============================] - 1s 5ms/step - loss: 0.0044\n",
      "Epoch 5/15\n",
      "203/203 [==============================] - 1s 5ms/step - loss: 0.0042\n",
      "Epoch 6/15\n",
      "203/203 [==============================] - 1s 5ms/step - loss: 0.0041\n",
      "Epoch 7/15\n",
      "203/203 [==============================] - 1s 5ms/step - loss: 0.0040\n",
      "Epoch 8/15\n",
      "203/203 [==============================] - 1s 5ms/step - loss: 0.0040\n",
      "Epoch 9/15\n",
      "203/203 [==============================] - 1s 5ms/step - loss: 0.0040\n",
      "Epoch 10/15\n",
      "203/203 [==============================] - 1s 5ms/step - loss: 0.0040\n",
      "Epoch 11/15\n",
      "203/203 [==============================] - 1s 5ms/step - loss: 0.0036\n",
      "Epoch 12/15\n",
      "203/203 [==============================] - 1s 5ms/step - loss: 0.0032\n",
      "Epoch 13/15\n",
      "203/203 [==============================] - 1s 5ms/step - loss: 0.0032\n",
      "Epoch 14/15\n",
      "203/203 [==============================] - 1s 5ms/step - loss: 0.0032\n",
      "Epoch 15/15\n",
      "203/203 [==============================] - 1s 5ms/step - loss: 0.0032\n"
     ]
    },
    {
     "data": {
      "text/plain": [
       "<tensorflow.python.keras.callbacks.History at 0x2a49c9880>"
      ]
     },
     "execution_count": 57,
     "metadata": {},
     "output_type": "execute_result"
    }
   ],
   "source": [
    "autoencoder.fit(X, X, epochs=15)"
   ]
  },
  {
   "cell_type": "code",
   "execution_count": 58,
   "id": "1d05526d",
   "metadata": {
    "scrolled": true
   },
   "outputs": [
    {
     "name": "stderr",
     "output_type": "stream",
     "text": [
      "2021-08-25 20:21:58.064894: I tensorflow/core/grappler/optimizers/custom_graph_optimizer_registry.cc:112] Plugin optimizer for device_type GPU is enabled.\n"
     ]
    },
    {
     "data": {
      "text/plain": [
       "(6493, 20)"
      ]
     },
     "execution_count": 58,
     "metadata": {},
     "output_type": "execute_result"
    }
   ],
   "source": [
    "X = encoder.predict(X)\n",
    "X.shape"
   ]
  },
  {
   "cell_type": "code",
   "execution_count": 201,
   "id": "50b76d29",
   "metadata": {},
   "outputs": [],
   "source": [
    "X_train, X_test, y_train, y_test = train_test_split(X, y, test_size=0.3)"
   ]
  },
  {
   "cell_type": "code",
   "execution_count": 202,
   "id": "873fa291",
   "metadata": {},
   "outputs": [],
   "source": [
    "# One hot encode the y values \n",
    "#y_train = pd.get_dummies(y_train).values\n",
    "#y_test = pd.get_dummies(y_test).values\n",
    "\n",
    "# Scale X values \n",
    "min_max_scaler = MinMaxScaler()\n",
    "X_train = min_max_scaler.fit_transform(X_train)\n",
    "X_test = min_max_scaler.transform(X_test)"
   ]
  },
  {
   "cell_type": "code",
   "execution_count": 203,
   "id": "f336f6aa",
   "metadata": {},
   "outputs": [],
   "source": [
    "from sklearn import svm\n",
    "from sklearn import metrics"
   ]
  },
  {
   "cell_type": "code",
   "execution_count": 204,
   "id": "49498f84",
   "metadata": {},
   "outputs": [
    {
     "data": {
      "text/plain": [
       "SVC()"
      ]
     },
     "execution_count": 204,
     "metadata": {},
     "output_type": "execute_result"
    }
   ],
   "source": [
    "clf = svm.SVC()\n",
    "clf.fit(X_train,y_train)"
   ]
  },
  {
   "cell_type": "code",
   "execution_count": 205,
   "id": "70ca3ba0",
   "metadata": {},
   "outputs": [],
   "source": [
    "y_pred = clf.predict(X_test)"
   ]
  },
  {
   "cell_type": "code",
   "execution_count": 206,
   "id": "5a5fd89c",
   "metadata": {},
   "outputs": [],
   "source": [
    "acc = metrics.accuracy_score(y_test, y_pred)"
   ]
  },
  {
   "cell_type": "code",
   "execution_count": 207,
   "id": "f6d3e507",
   "metadata": {},
   "outputs": [
    {
     "data": {
      "text/plain": [
       "0.7920944558521561"
      ]
     },
     "execution_count": 207,
     "metadata": {},
     "output_type": "execute_result"
    }
   ],
   "source": [
    "acc"
   ]
  },
  {
   "cell_type": "code",
   "execution_count": null,
   "id": "5e11e34e",
   "metadata": {},
   "outputs": [],
   "source": []
  },
  {
   "cell_type": "markdown",
   "id": "461bf023",
   "metadata": {},
   "source": [
    "## Neural Network"
   ]
  },
  {
   "cell_type": "code",
   "execution_count": 73,
   "id": "0ecbbfab",
   "metadata": {},
   "outputs": [],
   "source": [
    "X_train, X_test, y_train, y_test = train_test_split(X, y, test_size=0.3, random_state=42)\n",
    "# One hot encode the y values \n",
    "y_train = pd.get_dummies(y_train).values\n",
    "y_test = pd.get_dummies(y_test).values\n",
    "\n",
    "# Scale X values \n",
    "min_max_scaler = MinMaxScaler()\n",
    "X_train = min_max_scaler.fit_transform(X_train)\n",
    "X_test = min_max_scaler.transform(X_test)"
   ]
  },
  {
   "cell_type": "code",
   "execution_count": 61,
   "id": "0b6e8531",
   "metadata": {},
   "outputs": [],
   "source": [
    "model = Sequential()\n",
    "\n",
    "model.add(Dense(20, activation = 'relu'))\n",
    "model.add(Dense(20, activation = 'relu'))\n",
    "model.add(Dense(20, activation = 'relu'))\n",
    "model.add(Dense(20, activation = 'relu'))\n",
    "\n",
    "\n",
    "model.add(Dense(y_train.shape[1], activation = 'sigmoid'))\n",
    "\n",
    "model.compile(loss='categorical_crossentropy', optimizer='adam')"
   ]
  },
  {
   "cell_type": "code",
   "execution_count": 62,
   "id": "8098be19",
   "metadata": {},
   "outputs": [
    {
     "name": "stdout",
     "output_type": "stream",
     "text": [
      "Epoch 1/50\n",
      "14/18 [======================>.......] - ETA: 0s - loss: 1.9395"
     ]
    },
    {
     "name": "stderr",
     "output_type": "stream",
     "text": [
      "2021-08-25 20:21:58.324522: I tensorflow/core/grappler/optimizers/custom_graph_optimizer_registry.cc:112] Plugin optimizer for device_type GPU is enabled.\n"
     ]
    },
    {
     "name": "stdout",
     "output_type": "stream",
     "text": [
      "18/18 [==============================] - 0s 14ms/step - loss: 1.9380 - val_loss: 1.9285\n",
      "Epoch 2/50\n",
      "14/18 [======================>.......] - ETA: 0s - loss: 1.9197"
     ]
    },
    {
     "name": "stderr",
     "output_type": "stream",
     "text": [
      "2021-08-25 20:21:58.542790: I tensorflow/core/grappler/optimizers/custom_graph_optimizer_registry.cc:112] Plugin optimizer for device_type GPU is enabled.\n"
     ]
    },
    {
     "name": "stdout",
     "output_type": "stream",
     "text": [
      "18/18 [==============================] - 0s 11ms/step - loss: 1.9166 - val_loss: 1.9003\n",
      "Epoch 3/50\n",
      "18/18 [==============================] - 0s 10ms/step - loss: 1.8785 - val_loss: 1.8474\n",
      "Epoch 4/50\n",
      "18/18 [==============================] - 0s 10ms/step - loss: 1.8087 - val_loss: 1.7588\n",
      "Epoch 5/50\n",
      "18/18 [==============================] - 0s 10ms/step - loss: 1.7019 - val_loss: 1.6349\n",
      "Epoch 6/50\n",
      "18/18 [==============================] - 0s 11ms/step - loss: 1.5733 - val_loss: 1.5021\n",
      "Epoch 7/50\n",
      "18/18 [==============================] - 0s 11ms/step - loss: 1.4537 - val_loss: 1.3854\n",
      "Epoch 8/50\n",
      "18/18 [==============================] - 0s 11ms/step - loss: 1.3452 - val_loss: 1.2818\n",
      "Epoch 9/50\n",
      "18/18 [==============================] - 0s 10ms/step - loss: 1.2484 - val_loss: 1.1889\n",
      "Epoch 10/50\n",
      "18/18 [==============================] - 0s 11ms/step - loss: 1.1647 - val_loss: 1.1102\n",
      "Epoch 11/50\n",
      "18/18 [==============================] - 0s 10ms/step - loss: 1.0975 - val_loss: 1.0466\n",
      "Epoch 12/50\n",
      "18/18 [==============================] - 0s 10ms/step - loss: 1.0439 - val_loss: 0.9893\n",
      "Epoch 13/50\n",
      "18/18 [==============================] - 0s 10ms/step - loss: 0.9961 - val_loss: 0.9457\n",
      "Epoch 14/50\n",
      "18/18 [==============================] - 0s 10ms/step - loss: 0.9535 - val_loss: 0.9025\n",
      "Epoch 15/50\n",
      "18/18 [==============================] - 0s 10ms/step - loss: 0.9148 - val_loss: 0.8633\n",
      "Epoch 16/50\n",
      "18/18 [==============================] - 0s 11ms/step - loss: 0.8826 - val_loss: 0.8333\n",
      "Epoch 17/50\n",
      "18/18 [==============================] - 0s 11ms/step - loss: 0.8513 - val_loss: 0.7966\n",
      "Epoch 18/50\n",
      "18/18 [==============================] - 0s 11ms/step - loss: 0.8222 - val_loss: 0.7636\n",
      "Epoch 19/50\n",
      "18/18 [==============================] - 0s 11ms/step - loss: 0.7947 - val_loss: 0.7348\n",
      "Epoch 20/50\n",
      "18/18 [==============================] - 0s 11ms/step - loss: 0.7747 - val_loss: 0.7131\n",
      "Epoch 21/50\n",
      "18/18 [==============================] - 0s 10ms/step - loss: 0.7509 - val_loss: 0.6871\n",
      "Epoch 22/50\n",
      "18/18 [==============================] - 0s 11ms/step - loss: 0.7303 - val_loss: 0.6690\n",
      "Epoch 23/50\n",
      "18/18 [==============================] - 0s 11ms/step - loss: 0.7127 - val_loss: 0.6518\n",
      "Epoch 24/50\n",
      "18/18 [==============================] - 0s 11ms/step - loss: 0.6987 - val_loss: 0.6395\n",
      "Epoch 25/50\n",
      "18/18 [==============================] - 0s 10ms/step - loss: 0.6871 - val_loss: 0.6241\n",
      "Epoch 26/50\n",
      "18/18 [==============================] - 0s 10ms/step - loss: 0.6689 - val_loss: 0.6105\n",
      "Epoch 27/50\n",
      "18/18 [==============================] - 0s 10ms/step - loss: 0.6596 - val_loss: 0.5994\n",
      "Epoch 28/50\n",
      "18/18 [==============================] - 0s 10ms/step - loss: 0.6463 - val_loss: 0.5818\n",
      "Epoch 29/50\n",
      "18/18 [==============================] - 0s 10ms/step - loss: 0.6346 - val_loss: 0.5715\n",
      "Epoch 30/50\n",
      "18/18 [==============================] - 0s 10ms/step - loss: 0.6248 - val_loss: 0.5783\n",
      "Epoch 31/50\n",
      "18/18 [==============================] - 0s 10ms/step - loss: 0.6191 - val_loss: 0.5523\n",
      "Epoch 32/50\n",
      "18/18 [==============================] - 0s 10ms/step - loss: 0.6080 - val_loss: 0.5464\n",
      "Epoch 33/50\n",
      "18/18 [==============================] - 0s 11ms/step - loss: 0.6080 - val_loss: 0.5472\n",
      "Epoch 34/50\n",
      "18/18 [==============================] - 0s 10ms/step - loss: 0.5976 - val_loss: 0.5314\n",
      "Epoch 35/50\n",
      "18/18 [==============================] - 0s 11ms/step - loss: 0.5867 - val_loss: 0.5210\n",
      "Epoch 36/50\n",
      "18/18 [==============================] - 0s 11ms/step - loss: 0.5764 - val_loss: 0.5203\n",
      "Epoch 37/50\n",
      "18/18 [==============================] - 0s 11ms/step - loss: 0.5712 - val_loss: 0.5179\n",
      "Epoch 38/50\n",
      "18/18 [==============================] - 0s 11ms/step - loss: 0.5675 - val_loss: 0.5178\n",
      "Epoch 39/50\n",
      "18/18 [==============================] - 0s 11ms/step - loss: 0.5655 - val_loss: 0.5029\n",
      "Epoch 40/50\n",
      "18/18 [==============================] - 0s 11ms/step - loss: 0.5602 - val_loss: 0.5012\n",
      "Epoch 41/50\n",
      "18/18 [==============================] - 0s 11ms/step - loss: 0.5571 - val_loss: 0.5014\n",
      "Epoch 42/50\n",
      "18/18 [==============================] - 0s 11ms/step - loss: 0.5542 - val_loss: 0.4974\n",
      "Epoch 43/50\n",
      "18/18 [==============================] - 0s 12ms/step - loss: 0.5445 - val_loss: 0.4870\n",
      "Epoch 44/50\n",
      "18/18 [==============================] - 0s 11ms/step - loss: 0.5382 - val_loss: 0.4841\n",
      "Epoch 45/50\n",
      "18/18 [==============================] - 0s 11ms/step - loss: 0.5360 - val_loss: 0.4799\n",
      "Epoch 46/50\n",
      "18/18 [==============================] - 0s 11ms/step - loss: 0.5297 - val_loss: 0.4744\n",
      "Epoch 47/50\n",
      "18/18 [==============================] - 0s 11ms/step - loss: 0.5241 - val_loss: 0.4725\n",
      "Epoch 48/50\n",
      "18/18 [==============================] - 0s 11ms/step - loss: 0.5240 - val_loss: 0.4701\n",
      "Epoch 49/50\n",
      "18/18 [==============================] - 0s 11ms/step - loss: 0.5169 - val_loss: 0.4654\n",
      "Epoch 50/50\n",
      "18/18 [==============================] - 0s 10ms/step - loss: 0.5154 - val_loss: 0.4668\n"
     ]
    },
    {
     "data": {
      "text/plain": [
       "<tensorflow.python.keras.callbacks.History at 0x2a49acc10>"
      ]
     },
     "execution_count": 62,
     "metadata": {},
     "output_type": "execute_result"
    }
   ],
   "source": [
    "model.fit(x = X_train, y = y_train, epochs = 50, batch_size = 256, verbose = 1, validation_data = (X_test,y_test))"
   ]
  },
  {
   "cell_type": "code",
   "execution_count": 63,
   "id": "b2e4b52b",
   "metadata": {},
   "outputs": [
    {
     "data": {
      "image/png": "[encoded data removed]",
      "text/plain": [
       "<Figure size 432x288 with 1 Axes>"
      ]
     },
     "metadata": {
      "needs_background": "light"
     },
     "output_type": "display_data"
    }
   ],
   "source": [
    "model_loss = pd.DataFrame(model.history.history)\n",
    "model_loss.plot()\n",
    "plt.show()"
   ]
  },
  {
   "cell_type": "code",
   "execution_count": 64,
   "id": "9494a5c1",
   "metadata": {},
   "outputs": [
    {
     "name": "stderr",
     "output_type": "stream",
     "text": [
      "2021-08-25 20:22:08.011967: I tensorflow/core/grappler/optimizers/custom_graph_optimizer_registry.cc:112] Plugin optimizer for device_type GPU is enabled.\n"
     ]
    },
    {
     "data": {
      "text/plain": [
       "array([6, 4, 1, ..., 4, 4, 2])"
      ]
     },
     "execution_count": 64,
     "metadata": {},
     "output_type": "execute_result"
    }
   ],
   "source": [
    "predictions = np.argmax(model.predict(X_test), axis=-1)\n",
    "predictions"
   ]
  },
  {
   "cell_type": "code",
   "execution_count": 65,
   "id": "a993bb36",
   "metadata": {},
   "outputs": [],
   "source": [
    "y_compare = np.argmax(y_test,axis=1)"
   ]
  },
  {
   "cell_type": "code",
   "execution_count": 66,
   "id": "9eb69fa5",
   "metadata": {
    "scrolled": false
   },
   "outputs": [
    {
     "name": "stdout",
     "output_type": "stream",
     "text": [
      "              precision    recall  f1-score   support\n",
      "\n",
      "           0       0.61      0.32      0.42       272\n",
      "           1       0.96      1.00      0.98       285\n",
      "           2       0.97      0.95      0.96       288\n",
      "           3       0.89      0.57      0.70       247\n",
      "           4       0.55      0.67      0.60       269\n",
      "           5       0.65      0.99      0.78       289\n",
      "           6       0.97      0.98      0.98       298\n",
      "\n",
      "    accuracy                           0.79      1948\n",
      "   macro avg       0.80      0.78      0.77      1948\n",
      "weighted avg       0.80      0.79      0.78      1948\n",
      "\n"
     ]
    }
   ],
   "source": [
    "print(classification_report(y_compare, predictions))"
   ]
  },
  {
   "cell_type": "code",
   "execution_count": null,
   "id": "028d83cd",
   "metadata": {},
   "outputs": [],
   "source": []
  },
  {
   "cell_type": "code",
   "execution_count": null,
   "id": "ab01734b",
   "metadata": {},
   "outputs": [],
   "source": []
  },
  {
   "cell_type": "code",
   "execution_count": null,
   "id": "0cb89c67",
   "metadata": {},
   "outputs": [],
   "source": []
  },
  {
   "cell_type": "code",
   "execution_count": null,
   "id": "53af7bc4",
   "metadata": {},
   "outputs": [],
   "source": []
  },
  {
   "cell_type": "code",
   "execution_count": null,
   "id": "9bf4f39a",
   "metadata": {},
   "outputs": [],
   "source": []
  },
  {
   "cell_type": "code",
   "execution_count": 179,
   "id": "c759cb72",
   "metadata": {},
   "outputs": [
    {
     "data": {
      "image/png": "[encoded data removed]",
      "text/plain": [
       "<Figure size 1080x720 with 1 Axes>"
      ]
     },
     "metadata": {
      "needs_background": "light"
     },
     "output_type": "display_data"
    }
   ],
   "source": [
    "plt.figure(figsize=(15,10))\n",
    "sns.scatterplot(x = \"A\", y = \"B\", data = results, hue = y)\n",
    "plt.show()"
   ]
  },
  {
   "cell_type": "markdown",
   "id": "20ec2005",
   "metadata": {},
   "source": [
    "For choosing the number of features to reduce to before feeding it to a classifier you will have to either look at explained variance plots or reconstruction error like Xiao et al do."
   ]
  },
  {
   "cell_type": "code",
   "execution_count": null,
   "id": "288fd23b",
   "metadata": {},
   "outputs": [],
   "source": []
  }
 ],
 "metadata": {
  "kernelspec": {
   "display_name": "Python 3.9 (tensorflow)",
   "language": "python",
   "name": "tensorflow"
  },
  "language_info": {
   "codemirror_mode": {
    "name": "ipython",
    "version": 3
   },
   "file_extension": ".py",
   "mimetype": "text/x-python",
   "name": "python",
   "nbconvert_exporter": "python",
   "pygments_lexer": "ipython3",
   "version": "3.9.6"
  }
 },
 "nbformat": 4,
 "nbformat_minor": 5
}
