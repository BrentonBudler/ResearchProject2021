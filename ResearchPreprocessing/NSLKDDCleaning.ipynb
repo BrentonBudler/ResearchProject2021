{
 "cells": [
  {
   "cell_type": "markdown",
   "id": "1bc58334",
   "metadata": {},
   "source": [
    "# NSLKDD Dataset Cleaning"
   ]
  },
  {
   "cell_type": "markdown",
   "id": "40ebfbd8",
   "metadata": {},
   "source": [
    "Explanation of dataset"
   ]
  },
  {
   "cell_type": "code",
   "execution_count": 1,
   "id": "3e586a47",
   "metadata": {},
   "outputs": [],
   "source": [
    "import numpy as np\n",
    "import pandas as pd \n",
    "import matplotlib.pyplot as plt \n",
    "import seaborn as sns "
   ]
  },
  {
   "cell_type": "markdown",
   "id": "5ce5871e",
   "metadata": {},
   "source": [
    "The features spreadsheet contains  the name of each feature as well as a brief description of what information each feature stores. "
   ]
  },
  {
   "cell_type": "code",
   "execution_count": 2,
   "id": "10c6bec8",
   "metadata": {},
   "outputs": [
    {
     "data": {
      "text/html": [
       "<div>\n",
       "<style scoped>\n",
       "    .dataframe tbody tr th:only-of-type {\n",
       "        vertical-align: middle;\n",
       "    }\n",
       "\n",
       "    .dataframe tbody tr th {\n",
       "        vertical-align: top;\n",
       "    }\n",
       "\n",
       "    .dataframe thead th {\n",
       "        text-align: right;\n",
       "    }\n",
       "</style>\n",
       "<table border=\"1\" class=\"dataframe\">\n",
       "  <thead>\n",
       "    <tr style=\"text-align: right;\">\n",
       "      <th></th>\n",
       "      <th>Feature</th>\n",
       "      <th>Feature Name</th>\n",
       "      <th>Description</th>\n",
       "      <th>Type</th>\n",
       "      <th>Value Type</th>\n",
       "      <th>Ranges (Between both train and test)</th>\n",
       "    </tr>\n",
       "    <tr>\n",
       "      <th>#</th>\n",
       "      <th></th>\n",
       "      <th></th>\n",
       "      <th></th>\n",
       "      <th></th>\n",
       "      <th></th>\n",
       "      <th></th>\n",
       "    </tr>\n",
       "  </thead>\n",
       "  <tbody>\n",
       "    <tr>\n",
       "      <th>1</th>\n",
       "      <td>duration</td>\n",
       "      <td>Duration</td>\n",
       "      <td>Length of time duration of the connection</td>\n",
       "      <td>Continuous</td>\n",
       "      <td>Integers</td>\n",
       "      <td>0 - 54451</td>\n",
       "    </tr>\n",
       "    <tr>\n",
       "      <th>2</th>\n",
       "      <td>protocol_type</td>\n",
       "      <td>Protocol Type</td>\n",
       "      <td>Protocol used in the connection</td>\n",
       "      <td>Categorical</td>\n",
       "      <td>Strings</td>\n",
       "      <td>NaN</td>\n",
       "    </tr>\n",
       "    <tr>\n",
       "      <th>3</th>\n",
       "      <td>service</td>\n",
       "      <td>Service</td>\n",
       "      <td>Destination network service used</td>\n",
       "      <td>Categorical</td>\n",
       "      <td>Strings</td>\n",
       "      <td>NaN</td>\n",
       "    </tr>\n",
       "    <tr>\n",
       "      <th>4</th>\n",
       "      <td>flag</td>\n",
       "      <td>Flag</td>\n",
       "      <td>Status of the connection – Normal or Error</td>\n",
       "      <td>Categorical</td>\n",
       "      <td>Strings</td>\n",
       "      <td>NaN</td>\n",
       "    </tr>\n",
       "    <tr>\n",
       "      <th>5</th>\n",
       "      <td>src_bytes</td>\n",
       "      <td>Src Bytes</td>\n",
       "      <td>Number of data bytes transferred from source t...</td>\n",
       "      <td>Continuous</td>\n",
       "      <td>Integers</td>\n",
       "      <td>0 - 1379963888</td>\n",
       "    </tr>\n",
       "  </tbody>\n",
       "</table>\n",
       "</div>"
      ],
      "text/plain": [
       "         Feature   Feature Name  \\\n",
       "#                                 \n",
       "1       duration       Duration   \n",
       "2  protocol_type  Protocol Type   \n",
       "3        service        Service   \n",
       "4           flag           Flag   \n",
       "5      src_bytes      Src Bytes   \n",
       "\n",
       "                                         Description         Type Value Type  \\\n",
       "#                                                                              \n",
       "1          Length of time duration of the connection   Continuous   Integers   \n",
       "2                    Protocol used in the connection  Categorical    Strings   \n",
       "3                   Destination network service used  Categorical    Strings   \n",
       "4         Status of the connection – Normal or Error  Categorical    Strings   \n",
       "5  Number of data bytes transferred from source t...   Continuous   Integers   \n",
       "\n",
       "  Ranges (Between both train and test)  \n",
       "#                                       \n",
       "1                           0 - 54451   \n",
       "2                                  NaN  \n",
       "3                                  NaN  \n",
       "4                                  NaN  \n",
       "5                      0 - 1379963888   "
      ]
     },
     "execution_count": 2,
     "metadata": {},
     "output_type": "execute_result"
    }
   ],
   "source": [
    "features_df = pd.read_excel(\"Features.xlsx\",index_col=\"#\")\n",
    "features_df.head()"
   ]
  },
  {
   "cell_type": "markdown",
   "id": "c1faac7c",
   "metadata": {},
   "source": [
    "The \"Feature\" column of this dataframe can be used to create a list of the features in the same order they appear in the dataset."
   ]
  },
  {
   "cell_type": "code",
   "execution_count": 3,
   "id": "88b43796",
   "metadata": {},
   "outputs": [
    {
     "data": {
      "text/plain": [
       "array(['duration', 'protocol_type', 'service', 'flag', 'src_bytes',\n",
       "       'dst_bytes', 'land', 'wrong_fragment', 'urgent', 'hot',\n",
       "       'num_failed_logins', 'logged_in', 'num_compromised', 'root_shell',\n",
       "       'su_attempted', 'num_root', 'num_file_creations', 'num_shells',\n",
       "       'num_access_files', 'num_outbound_cmds', 'is_hot_login',\n",
       "       'is_guest_login', 'count', 'srv_count', 'serror_rate',\n",
       "       'srv_serror_rate', 'rerror_rate', 'srv_rerror_rate',\n",
       "       'same_srv_rate', 'diff_srv_rate', 'srv_diff_host_rate',\n",
       "       'dst_host_count', 'dst_host_srv_count', 'dst_host_same_srv_rate',\n",
       "       'dst_host_diff_srv_rate', 'dst_host_same_src_port_rate',\n",
       "       'dst_host_srv_diff_host_rate', 'dst_host_serror_rate',\n",
       "       'dst_host_srv_serror_rate', 'dst_host_rerror_rate',\n",
       "       'dst_host_srv_rerror_rate', 'class', 'difficulty_level'],\n",
       "      dtype=object)"
      ]
     },
     "execution_count": 3,
     "metadata": {},
     "output_type": "execute_result"
    }
   ],
   "source": [
    "feature_list = features_df[\"Feature\"].values\n",
    "feature_list"
   ]
  },
  {
   "cell_type": "markdown",
   "id": "f7da45e3",
   "metadata": {},
   "source": [
    "Of these features the following are categorical and require encoding:\n",
    "* <code>protocol_type</code>: Protocol used in the connection (3 categories)\n",
    "* <code>service</code>: Destination network service used (70 categories)\n",
    "* <code>flag</code>:  Status of the connection (11 categories)\n",
    "* <code>class</code>: Classification of the traffic input (23 categories)"
   ]
  },
  {
   "cell_type": "markdown",
   "id": "1c42ab8d",
   "metadata": {},
   "source": [
    "The <code>class</code> feature contains all attack types which need to be included for binary and five-class classification."
   ]
  },
  {
   "cell_type": "code",
   "execution_count": 4,
   "id": "c31795d5",
   "metadata": {},
   "outputs": [],
   "source": [
    "def target_binary_class(class_feature):\n",
    "    \"\"\" Returns 1 for attack and 0 for benign network traffic \"\"\"\n",
    "    return int(class_feature != \"normal\")"
   ]
  },
  {
   "cell_type": "code",
   "execution_count": 9,
   "id": "c81eceb7",
   "metadata": {},
   "outputs": [],
   "source": [
    "def clean_nslkdd_dataset(data):\n",
    "    # Create Binary Target Feature and drop class features\n",
    "    data[\"target\"] = np.vectorize(target_binary_class)(data[\"class\"])\n",
    "    data = data.drop(\"class\", axis=1)\n",
    "\n",
    "    # Drop difficulty level as it was derived \n",
    "    data = data.drop(\"difficulty_level\", axis=1)\n",
    "\n",
    "    # Drop num_outbounds_cmds as it always zero\n",
    "    data = data.drop(\"num_outbound_cmds\", axis=1)\n",
    "\n",
    "    # Encode categorical features using one-hot encoding \n",
    "    dum_df = pd.get_dummies(data[[\"protocol_type\",\"service\",\"flag\"]])\n",
    "    data = data.drop([\"protocol_type\",\"service\",\"flag\"],axis=1)\n",
    "    data = pd.concat([data,dum_df],axis=1)\n",
    "    \n",
    "    # Return cleaned data set\n",
    "    return data "
   ]
  },
  {
   "cell_type": "markdown",
   "id": "c0bb15b8",
   "metadata": {},
   "source": [
    "Reading in and cleaning the train and test data"
   ]
  },
  {
   "cell_type": "code",
   "execution_count": 16,
   "id": "5476e35b",
   "metadata": {
    "scrolled": false
   },
   "outputs": [],
   "source": [
    "train_data = pd.read_csv(\"KDDTrain+.txt\",names = feature_list)\n",
    "test_data = pd.read_csv(\"KDDTest+.txt\",names = feature_list)\n",
    "\n",
    "train_data = clean_nslkdd_dataset(train_data)\n",
    "test_data = clean_nslkdd_dataset(test_data)"
   ]
  },
  {
   "cell_type": "markdown",
   "id": "ecc2bc7b",
   "metadata": {},
   "source": [
    "Exporting clean data"
   ]
  },
  {
   "cell_type": "code",
   "execution_count": 47,
   "id": "d000e655",
   "metadata": {},
   "outputs": [],
   "source": [
    "train_data.to_csv(\"nslkdd_train_cleaned.csv\",index=False)\n",
    "test_data.to_csv(\"nslkdd_test_cleaned.csv\",index=False)"
   ]
  },
  {
   "cell_type": "markdown",
   "id": "de824bec",
   "metadata": {},
   "source": [
    "# NSLKDD Dataset Exploratory Data Analysis"
   ]
  },
  {
   "cell_type": "markdown",
   "id": "ca0d5127",
   "metadata": {},
   "source": [
    "Important to see the class balance"
   ]
  },
  {
   "cell_type": "code",
   "execution_count": 45,
   "id": "fc5e15a0",
   "metadata": {},
   "outputs": [
    {
     "data": {
      "image/png": "[encoded data removed]",
      "text/plain": [
       "<Figure size 432x288 with 2 Axes>"
      ]
     },
     "metadata": {
      "needs_background": "light"
     },
     "output_type": "display_data"
    }
   ],
   "source": [
    "# Maybe include a percentage label for each bar \n",
    "\n",
    "fig, axs = plt.subplots(nrows=1,ncols=2)\n",
    "fig.suptitle(\"Target Class Distribution\")\n",
    "\n",
    "sns.countplot(x=\"target\", data = train_data, ax=axs[0])\n",
    "axs[0].set_title(\"Train Data\")\n",
    "\n",
    "sns.countplot(x=\"target\", data = test_data, ax=axs[1])\n",
    "axs[1].set_title(\"Test Data\")\n",
    "axs[1].set_ylabel(\"\")\n",
    "\n",
    "plt.tight_layout()\n",
    "plt.show()"
   ]
  },
  {
   "cell_type": "code",
   "execution_count": 61,
   "id": "f57196b0",
   "metadata": {
    "scrolled": false
   },
   "outputs": [
    {
     "data": {
      "text/plain": [
       "<AxesSubplot:>"
      ]
     },
     "execution_count": 61,
     "metadata": {},
     "output_type": "execute_result"
    },
    {
     "data": {
      "image/png": "[encoded data removed]",
      "text/plain": [
       "<Figure size 1440x360 with 1 Axes>"
      ]
     },
     "metadata": {
      "needs_background": "light"
     },
     "output_type": "display_data"
    }
   ],
   "source": [
    "plt.figure(figsize=(20,5))\n",
    "train_data.corr()[\"target\"].sort_values()[100:-1].plot(kind='bar')"
   ]
  }
 ],
 "metadata": {
  "kernelspec": {
   "display_name": "Python 3.9 (tensorflow)",
   "language": "python",
   "name": "tensorflow"
  },
  "language_info": {
   "codemirror_mode": {
    "name": "ipython",
    "version": 3
   },
   "file_extension": ".py",
   "mimetype": "text/x-python",
   "name": "python",
   "nbconvert_exporter": "python",
   "pygments_lexer": "ipython3",
   "version": "3.9.6"
  }
 },
 "nbformat": 4,
 "nbformat_minor": 5
}
