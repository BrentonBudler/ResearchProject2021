{
 "cells": [
  {
   "cell_type": "markdown",
   "id": "e78c6d75",
   "metadata": {},
   "source": [
    "# Deep Neural Network - CIC2018"
   ]
  },
  {
   "cell_type": "code",
   "execution_count": 3,
   "id": "f78a7abc",
   "metadata": {},
   "outputs": [],
   "source": [
    "import numpy as np\n",
    "import pandas as pd \n",
    "import matplotlib.pyplot as plt \n",
    "import seaborn as sns \n",
    "\n",
    "from sklearn.model_selection import train_test_split\n",
    "from sklearn.preprocessing import MinMaxScaler\n",
    "from sklearn.metrics import classification_report, confusion_matrix\n",
    "\n",
    "from tensorflow.keras.models import Sequential \n",
    "from tensorflow.keras.layers import Dense, Dropout"
   ]
  },
  {
   "cell_type": "code",
   "execution_count": 4,
   "id": "cdd1fc2b",
   "metadata": {},
   "outputs": [
    {
     "data": {
      "text/html": [
       "<div>\n",
       "<style scoped>\n",
       "    .dataframe tbody tr th:only-of-type {\n",
       "        vertical-align: middle;\n",
       "    }\n",
       "\n",
       "    .dataframe tbody tr th {\n",
       "        vertical-align: top;\n",
       "    }\n",
       "\n",
       "    .dataframe thead th {\n",
       "        text-align: right;\n",
       "    }\n",
       "</style>\n",
       "<table border=\"1\" class=\"dataframe\">\n",
       "  <thead>\n",
       "    <tr style=\"text-align: right;\">\n",
       "      <th></th>\n",
       "      <th>Flow Duration</th>\n",
       "      <th>Tot Fwd Pkts</th>\n",
       "      <th>Tot Bwd Pkts</th>\n",
       "      <th>TotLen Fwd Pkts</th>\n",
       "      <th>TotLen Bwd Pkts</th>\n",
       "      <th>Fwd Pkt Len Max</th>\n",
       "      <th>Fwd Pkt Len Min</th>\n",
       "      <th>Fwd Pkt Len Mean</th>\n",
       "      <th>Fwd Pkt Len Std</th>\n",
       "      <th>Bwd Pkt Len Max</th>\n",
       "      <th>...</th>\n",
       "      <th>Active Max</th>\n",
       "      <th>Active Min</th>\n",
       "      <th>Idle Mean</th>\n",
       "      <th>Idle Std</th>\n",
       "      <th>Idle Max</th>\n",
       "      <th>Idle Min</th>\n",
       "      <th>protocol__0</th>\n",
       "      <th>protocol__6</th>\n",
       "      <th>protocol__17</th>\n",
       "      <th>target</th>\n",
       "    </tr>\n",
       "  </thead>\n",
       "  <tbody>\n",
       "    <tr>\n",
       "      <th>0</th>\n",
       "      <td>551</td>\n",
       "      <td>2</td>\n",
       "      <td>0</td>\n",
       "      <td>0.0</td>\n",
       "      <td>0.0</td>\n",
       "      <td>0.0</td>\n",
       "      <td>0.0</td>\n",
       "      <td>0.000000</td>\n",
       "      <td>0.000000</td>\n",
       "      <td>0.0</td>\n",
       "      <td>...</td>\n",
       "      <td>0.0</td>\n",
       "      <td>0.0</td>\n",
       "      <td>0.000000e+00</td>\n",
       "      <td>0.000000</td>\n",
       "      <td>0.0</td>\n",
       "      <td>0.0</td>\n",
       "      <td>0</td>\n",
       "      <td>1</td>\n",
       "      <td>0</td>\n",
       "      <td>3</td>\n",
       "    </tr>\n",
       "    <tr>\n",
       "      <th>1</th>\n",
       "      <td>112638867</td>\n",
       "      <td>3</td>\n",
       "      <td>0</td>\n",
       "      <td>0.0</td>\n",
       "      <td>0.0</td>\n",
       "      <td>0.0</td>\n",
       "      <td>0.0</td>\n",
       "      <td>0.000000</td>\n",
       "      <td>0.000000</td>\n",
       "      <td>0.0</td>\n",
       "      <td>...</td>\n",
       "      <td>0.0</td>\n",
       "      <td>0.0</td>\n",
       "      <td>5.631943e+07</td>\n",
       "      <td>1679.378605</td>\n",
       "      <td>56320621.0</td>\n",
       "      <td>56318246.0</td>\n",
       "      <td>1</td>\n",
       "      <td>0</td>\n",
       "      <td>0</td>\n",
       "      <td>3</td>\n",
       "    </tr>\n",
       "    <tr>\n",
       "      <th>2</th>\n",
       "      <td>8966</td>\n",
       "      <td>3</td>\n",
       "      <td>4</td>\n",
       "      <td>326.0</td>\n",
       "      <td>129.0</td>\n",
       "      <td>326.0</td>\n",
       "      <td>0.0</td>\n",
       "      <td>108.666667</td>\n",
       "      <td>188.216188</td>\n",
       "      <td>112.0</td>\n",
       "      <td>...</td>\n",
       "      <td>0.0</td>\n",
       "      <td>0.0</td>\n",
       "      <td>0.000000e+00</td>\n",
       "      <td>0.000000</td>\n",
       "      <td>0.0</td>\n",
       "      <td>0.0</td>\n",
       "      <td>0</td>\n",
       "      <td>1</td>\n",
       "      <td>0</td>\n",
       "      <td>5</td>\n",
       "    </tr>\n",
       "    <tr>\n",
       "      <th>3</th>\n",
       "      <td>111816159</td>\n",
       "      <td>17</td>\n",
       "      <td>23</td>\n",
       "      <td>2872.0</td>\n",
       "      <td>1709.0</td>\n",
       "      <td>1460.0</td>\n",
       "      <td>0.0</td>\n",
       "      <td>168.941176</td>\n",
       "      <td>474.948217</td>\n",
       "      <td>428.0</td>\n",
       "      <td>...</td>\n",
       "      <td>578105.0</td>\n",
       "      <td>63064.0</td>\n",
       "      <td>9.999056e+06</td>\n",
       "      <td>23491.769152</td>\n",
       "      <td>10014914.0</td>\n",
       "      <td>9952970.0</td>\n",
       "      <td>0</td>\n",
       "      <td>1</td>\n",
       "      <td>0</td>\n",
       "      <td>0</td>\n",
       "    </tr>\n",
       "    <tr>\n",
       "      <th>4</th>\n",
       "      <td>369756</td>\n",
       "      <td>22</td>\n",
       "      <td>22</td>\n",
       "      <td>1976.0</td>\n",
       "      <td>2665.0</td>\n",
       "      <td>640.0</td>\n",
       "      <td>0.0</td>\n",
       "      <td>89.818182</td>\n",
       "      <td>138.033687</td>\n",
       "      <td>976.0</td>\n",
       "      <td>...</td>\n",
       "      <td>0.0</td>\n",
       "      <td>0.0</td>\n",
       "      <td>0.000000e+00</td>\n",
       "      <td>0.000000</td>\n",
       "      <td>0.0</td>\n",
       "      <td>0.0</td>\n",
       "      <td>0</td>\n",
       "      <td>1</td>\n",
       "      <td>0</td>\n",
       "      <td>1</td>\n",
       "    </tr>\n",
       "  </tbody>\n",
       "</table>\n",
       "<p>5 rows × 80 columns</p>\n",
       "</div>"
      ],
      "text/plain": [
       "   Flow Duration  Tot Fwd Pkts  Tot Bwd Pkts  TotLen Fwd Pkts  \\\n",
       "0            551             2             0              0.0   \n",
       "1      112638867             3             0              0.0   \n",
       "2           8966             3             4            326.0   \n",
       "3      111816159            17            23           2872.0   \n",
       "4         369756            22            22           1976.0   \n",
       "\n",
       "   TotLen Bwd Pkts  Fwd Pkt Len Max  Fwd Pkt Len Min  Fwd Pkt Len Mean  \\\n",
       "0              0.0              0.0              0.0          0.000000   \n",
       "1              0.0              0.0              0.0          0.000000   \n",
       "2            129.0            326.0              0.0        108.666667   \n",
       "3           1709.0           1460.0              0.0        168.941176   \n",
       "4           2665.0            640.0              0.0         89.818182   \n",
       "\n",
       "   Fwd Pkt Len Std  Bwd Pkt Len Max  ...  Active Max  Active Min  \\\n",
       "0         0.000000              0.0  ...         0.0         0.0   \n",
       "1         0.000000              0.0  ...         0.0         0.0   \n",
       "2       188.216188            112.0  ...         0.0         0.0   \n",
       "3       474.948217            428.0  ...    578105.0     63064.0   \n",
       "4       138.033687            976.0  ...         0.0         0.0   \n",
       "\n",
       "      Idle Mean      Idle Std    Idle Max    Idle Min  protocol__0  \\\n",
       "0  0.000000e+00      0.000000         0.0         0.0            0   \n",
       "1  5.631943e+07   1679.378605  56320621.0  56318246.0            1   \n",
       "2  0.000000e+00      0.000000         0.0         0.0            0   \n",
       "3  9.999056e+06  23491.769152  10014914.0   9952970.0            0   \n",
       "4  0.000000e+00      0.000000         0.0         0.0            0   \n",
       "\n",
       "   protocol__6  protocol__17  target  \n",
       "0            1             0       3  \n",
       "1            0             0       3  \n",
       "2            1             0       5  \n",
       "3            1             0       0  \n",
       "4            1             0       1  \n",
       "\n",
       "[5 rows x 80 columns]"
      ]
     },
     "execution_count": 4,
     "metadata": {},
     "output_type": "execute_result"
    }
   ],
   "source": [
    "data = pd.read_csv(\"undersampled_cic.csv\")\n",
    "data.head()"
   ]
  },
  {
   "cell_type": "markdown",
   "id": "b421f6c3",
   "metadata": {},
   "source": [
    "## Binary Classification"
   ]
  },
  {
   "cell_type": "markdown",
   "id": "5087bee7",
   "metadata": {},
   "source": [
    "Assingning training and testing data"
   ]
  },
  {
   "cell_type": "code",
   "execution_count": 4,
   "id": "c5ff6cf2",
   "metadata": {},
   "outputs": [],
   "source": [
    "X_train = train_data.drop([\"bin_target\",\"fiv_target\"],axis=1).values\n",
    "y_train = train_data[\"bin_target\"].values\n",
    "\n",
    "X_test = test_data.drop([\"bin_target\",\"fiv_target\"],axis=1).values\n",
    "y_test = test_data[\"bin_target\"].values"
   ]
  },
  {
   "cell_type": "markdown",
   "id": "e8ff8f27",
   "metadata": {},
   "source": [
    "Data Preprocessing - Scaling"
   ]
  },
  {
   "cell_type": "code",
   "execution_count": 5,
   "id": "f601966d",
   "metadata": {},
   "outputs": [],
   "source": [
    "min_max_scaler = MinMaxScaler()\n",
    "X_train = min_max_scaler.fit_transform(X_train)\n",
    "X_test = min_max_scaler.transform(X_test)"
   ]
  },
  {
   "cell_type": "markdown",
   "id": "1657e6cf",
   "metadata": {},
   "source": [
    "Model Construction"
   ]
  },
  {
   "cell_type": "code",
   "execution_count": 6,
   "id": "0d8eb0d9",
   "metadata": {},
   "outputs": [
    {
     "name": "stdout",
     "output_type": "stream",
     "text": [
      "Metal device set to: Apple M1\n"
     ]
    },
    {
     "name": "stderr",
     "output_type": "stream",
     "text": [
      "2021-08-10 10:45:42.076632: I tensorflow/core/common_runtime/pluggable_device/pluggable_device_factory.cc:305] Could not identify NUMA node of platform GPU ID 0, defaulting to 0. Your kernel may not have been built with NUMA support.\n",
      "2021-08-10 10:45:42.076705: I tensorflow/core/common_runtime/pluggable_device/pluggable_device_factory.cc:271] Created TensorFlow device (/job:localhost/replica:0/task:0/device:GPU:0 with 0 MB memory) -> physical PluggableDevice (device: 0, name: METAL, pci bus id: <undefined>)\n"
     ]
    }
   ],
   "source": [
    "model = Sequential()\n",
    "\n",
    "model.add(Dense(100, activation = 'relu'))\n",
    "model.add(Dense(100, activation = 'relu'))\n",
    "model.add(Dense(30, activation = 'relu'))\n",
    "\n",
    "model.add(Dense(1, activation = 'sigmoid'))\n",
    "\n",
    "model.compile(loss='binary_crossentropy', optimizer='adam')"
   ]
  },
  {
   "cell_type": "code",
   "execution_count": 7,
   "id": "2459a14f",
   "metadata": {},
   "outputs": [
    {
     "name": "stdout",
     "output_type": "stream",
     "text": [
      "Epoch 1/25\n"
     ]
    },
    {
     "name": "stderr",
     "output_type": "stream",
     "text": [
      "2021-08-10 10:45:42.166212: I tensorflow/compiler/mlir/mlir_graph_optimization_pass.cc:176] None of the MLIR Optimization Passes are enabled (registered 2)\n",
      "2021-08-10 10:45:42.166373: W tensorflow/core/platform/profile_utils/cpu_utils.cc:128] Failed to get CPU frequency: 0 Hz\n",
      "2021-08-10 10:45:42.304975: I tensorflow/core/grappler/optimizers/custom_graph_optimizer_registry.cc:112] Plugin optimizer for device_type GPU is enabled.\n"
     ]
    },
    {
     "name": "stdout",
     "output_type": "stream",
     "text": [
      "486/493 [============================>.] - ETA: 0s - loss: 0.0826"
     ]
    },
    {
     "name": "stderr",
     "output_type": "stream",
     "text": [
      "2021-08-10 10:45:45.393901: I tensorflow/core/grappler/optimizers/custom_graph_optimizer_registry.cc:112] Plugin optimizer for device_type GPU is enabled.\n"
     ]
    },
    {
     "name": "stdout",
     "output_type": "stream",
     "text": [
      "493/493 [==============================] - 5s 9ms/step - loss: 0.0821 - val_loss: 0.0351\n",
      "Epoch 2/25\n",
      "493/493 [==============================] - 4s 9ms/step - loss: 0.0312 - val_loss: 0.0252\n",
      "Epoch 3/25\n",
      "493/493 [==============================] - 4s 9ms/step - loss: 0.0231 - val_loss: 0.0219\n",
      "Epoch 4/25\n",
      "493/493 [==============================] - 4s 9ms/step - loss: 0.0180 - val_loss: 0.0158\n",
      "Epoch 5/25\n",
      "493/493 [==============================] - 4s 9ms/step - loss: 0.0156 - val_loss: 0.0130\n",
      "Epoch 6/25\n",
      "493/493 [==============================] - 4s 9ms/step - loss: 0.0145 - val_loss: 0.0153\n",
      "Epoch 7/25\n",
      "493/493 [==============================] - 4s 9ms/step - loss: 0.0135 - val_loss: 0.0120\n",
      "Epoch 8/25\n",
      "493/493 [==============================] - 4s 9ms/step - loss: 0.0120 - val_loss: 0.0124\n",
      "Epoch 9/25\n",
      "493/493 [==============================] - 4s 9ms/step - loss: 0.0113 - val_loss: 0.0091\n",
      "Epoch 10/25\n",
      "493/493 [==============================] - 4s 9ms/step - loss: 0.0108 - val_loss: 0.0103\n",
      "Epoch 11/25\n",
      "493/493 [==============================] - 4s 9ms/step - loss: 0.0109 - val_loss: 0.0101\n",
      "Epoch 12/25\n",
      "493/493 [==============================] - 4s 9ms/step - loss: 0.0097 - val_loss: 0.0088\n",
      "Epoch 13/25\n",
      "493/493 [==============================] - 4s 9ms/step - loss: 0.0095 - val_loss: 0.0091\n",
      "Epoch 14/25\n",
      "493/493 [==============================] - 4s 9ms/step - loss: 0.0092 - val_loss: 0.0077\n",
      "Epoch 15/25\n",
      "493/493 [==============================] - 4s 9ms/step - loss: 0.0093 - val_loss: 0.0076\n",
      "Epoch 16/25\n",
      "493/493 [==============================] - 4s 9ms/step - loss: 0.0089 - val_loss: 0.0077\n",
      "Epoch 17/25\n",
      "493/493 [==============================] - 4s 9ms/step - loss: 0.0088 - val_loss: 0.0073\n",
      "Epoch 18/25\n",
      "493/493 [==============================] - 4s 9ms/step - loss: 0.0083 - val_loss: 0.0085\n",
      "Epoch 19/25\n",
      "493/493 [==============================] - 4s 9ms/step - loss: 0.0086 - val_loss: 0.0078\n",
      "Epoch 20/25\n",
      "493/493 [==============================] - 4s 9ms/step - loss: 0.0080 - val_loss: 0.0079\n",
      "Epoch 21/25\n",
      "493/493 [==============================] - 4s 9ms/step - loss: 0.0077 - val_loss: 0.0066\n",
      "Epoch 22/25\n",
      "493/493 [==============================] - 4s 9ms/step - loss: 0.0077 - val_loss: 0.0072\n",
      "Epoch 23/25\n",
      "493/493 [==============================] - 4s 9ms/step - loss: 0.0077 - val_loss: 0.0084\n",
      "Epoch 24/25\n",
      "493/493 [==============================] - 4s 9ms/step - loss: 0.0078 - val_loss: 0.0084\n",
      "Epoch 25/25\n",
      "493/493 [==============================] - 4s 9ms/step - loss: 0.0074 - val_loss: 0.0072\n"
     ]
    },
    {
     "data": {
      "text/plain": [
       "<tensorflow.python.keras.callbacks.History at 0x1680eb400>"
      ]
     },
     "execution_count": 7,
     "metadata": {},
     "output_type": "execute_result"
    }
   ],
   "source": [
    "model.fit(x = X_train, y = y_train, epochs = 25, batch_size = 256, verbose = 1, validation_data = (X_test,y_test))"
   ]
  },
  {
   "cell_type": "code",
   "execution_count": 8,
   "id": "3763b868",
   "metadata": {},
   "outputs": [
    {
     "data": {
      "image/png": "[encoded data removed]",
      "text/plain": [
       "<Figure size 432x288 with 1 Axes>"
      ]
     },
     "metadata": {
      "needs_background": "light"
     },
     "output_type": "display_data"
    }
   ],
   "source": [
    "model_loss = pd.DataFrame(model.history.history)\n",
    "model_loss.plot()\n",
    "plt.show()"
   ]
  },
  {
   "cell_type": "code",
   "execution_count": 9,
   "id": "ed515500",
   "metadata": {},
   "outputs": [
    {
     "name": "stderr",
     "output_type": "stream",
     "text": [
      "2021-08-10 10:48:02.080761: I tensorflow/core/grappler/optimizers/custom_graph_optimizer_registry.cc:112] Plugin optimizer for device_type GPU is enabled.\n"
     ]
    }
   ],
   "source": [
    "y_pred = (model.predict(X_test) > 0.5).astype(\"int32\")"
   ]
  },
  {
   "cell_type": "code",
   "execution_count": 10,
   "id": "bf067dfe",
   "metadata": {},
   "outputs": [
    {
     "name": "stdout",
     "output_type": "stream",
     "text": [
      "              precision    recall  f1-score   support\n",
      "\n",
      "           0       1.00      1.00      1.00     67343\n",
      "           1       1.00      1.00      1.00     58630\n",
      "\n",
      "    accuracy                           1.00    125973\n",
      "   macro avg       1.00      1.00      1.00    125973\n",
      "weighted avg       1.00      1.00      1.00    125973\n",
      "\n"
     ]
    }
   ],
   "source": [
    "print(classification_report(y_test,y_pred))"
   ]
  },
  {
   "cell_type": "code",
   "execution_count": 11,
   "id": "34e9dbde",
   "metadata": {},
   "outputs": [
    {
     "name": "stdout",
     "output_type": "stream",
     "text": [
      "[[67135   208]\n",
      " [  150 58480]]\n"
     ]
    }
   ],
   "source": [
    "print(confusion_matrix(y_test,y_pred))"
   ]
  },
  {
   "cell_type": "markdown",
   "id": "85fb8983",
   "metadata": {},
   "source": [
    "## Multiclass Classification"
   ]
  },
  {
   "cell_type": "markdown",
   "id": "770c2675",
   "metadata": {},
   "source": [
    "Assingning training and testing data"
   ]
  },
  {
   "cell_type": "code",
   "execution_count": 32,
   "id": "712e8bd7",
   "metadata": {},
   "outputs": [],
   "source": [
    "X = data.drop(\"target\",axis=1).values\n",
    "y = data[\"target\"].values\n",
    "\n",
    "X_train, X_test, y_train, y_test = train_test_split(X, y, test_size=0.3, random_state=42, stratify = data[\"target\"])"
   ]
  },
  {
   "cell_type": "code",
   "execution_count": 42,
   "id": "8bcbacc6",
   "metadata": {},
   "outputs": [
    {
     "data": {
      "image/png": "[encoded data removed]",
      "text/plain": [
       "<Figure size 432x288 with 1 Axes>"
      ]
     },
     "metadata": {
      "needs_background": "light"
     },
     "output_type": "display_data"
    }
   ],
   "source": [
    "#sns.countplot(x =pd.Series(y_test))\n",
    "sns.countplot(x =pd.Series(y_test))\n",
    "plt.show()"
   ]
  },
  {
   "cell_type": "code",
   "execution_count": 10,
   "id": "1e639aa9",
   "metadata": {},
   "outputs": [],
   "source": [
    "# One hot encode the y values \n",
    "y_train = pd.get_dummies(y_train).values\n",
    "y_test = pd.get_dummies(y_test).values\n",
    "\n",
    "# Scale X values \n",
    "min_max_scaler = MinMaxScaler()\n",
    "X_train = min_max_scaler.fit_transform(X_train)\n",
    "X_test = min_max_scaler.transform(X_test)"
   ]
  },
  {
   "cell_type": "code",
   "execution_count": 11,
   "id": "399a2658",
   "metadata": {},
   "outputs": [
    {
     "name": "stdout",
     "output_type": "stream",
     "text": [
      "Metal device set to: Apple M1\n"
     ]
    },
    {
     "name": "stderr",
     "output_type": "stream",
     "text": [
      "2021-08-16 20:48:22.890050: I tensorflow/core/common_runtime/pluggable_device/pluggable_device_factory.cc:305] Could not identify NUMA node of platform GPU ID 0, defaulting to 0. Your kernel may not have been built with NUMA support.\n",
      "2021-08-16 20:48:22.891070: I tensorflow/core/common_runtime/pluggable_device/pluggable_device_factory.cc:271] Created TensorFlow device (/job:localhost/replica:0/task:0/device:GPU:0 with 0 MB memory) -> physical PluggableDevice (device: 0, name: METAL, pci bus id: <undefined>)\n"
     ]
    }
   ],
   "source": [
    "model = Sequential()\n",
    "\n",
    "model.add(Dense(100, activation = 'relu'))\n",
    "model.add(Dense(100, activation = 'relu'))\n",
    "model.add(Dense(100, activation = 'relu'))\n",
    "model.add(Dense(100, activation = 'relu'))\n",
    "\n",
    "model.add(Dense(y_train.shape[1], activation = 'sigmoid'))\n",
    "\n",
    "model.compile(loss='categorical_crossentropy', optimizer='adam')"
   ]
  },
  {
   "cell_type": "code",
   "execution_count": 12,
   "id": "59bc903c",
   "metadata": {},
   "outputs": [
    {
     "name": "stderr",
     "output_type": "stream",
     "text": [
      "2021-08-16 20:48:25.127857: I tensorflow/compiler/mlir/mlir_graph_optimization_pass.cc:176] None of the MLIR Optimization Passes are enabled (registered 2)\n",
      "2021-08-16 20:48:25.133112: W tensorflow/core/platform/profile_utils/cpu_utils.cc:128] Failed to get CPU frequency: 0 Hz\n",
      "2021-08-16 20:48:25.304372: I tensorflow/core/grappler/optimizers/custom_graph_optimizer_registry.cc:112] Plugin optimizer for device_type GPU is enabled.\n"
     ]
    },
    {
     "name": "stdout",
     "output_type": "stream",
     "text": [
      "Epoch 1/25\n",
      "18/18 [==============================] - 1s 14ms/step - loss: 1.8317 - val_loss: 1.6481\n",
      "Epoch 2/25\n",
      "15/18 [========================>.....] - ETA: 0s - loss: 1.4302"
     ]
    },
    {
     "name": "stderr",
     "output_type": "stream",
     "text": [
      "2021-08-16 20:48:25.736066: I tensorflow/core/grappler/optimizers/custom_graph_optimizer_registry.cc:112] Plugin optimizer for device_type GPU is enabled.\n"
     ]
    },
    {
     "name": "stdout",
     "output_type": "stream",
     "text": [
      "18/18 [==============================] - 0s 10ms/step - loss: 1.3795 - val_loss: 1.0681\n",
      "Epoch 3/25\n",
      "18/18 [==============================] - 0s 10ms/step - loss: 0.9552 - val_loss: 0.7802\n",
      "Epoch 4/25\n",
      "18/18 [==============================] - 0s 10ms/step - loss: 0.7349 - val_loss: 0.6241\n",
      "Epoch 5/25\n",
      "18/18 [==============================] - 0s 10ms/step - loss: 0.5953 - val_loss: 0.5252\n",
      "Epoch 6/25\n",
      "18/18 [==============================] - 0s 10ms/step - loss: 0.5254 - val_loss: 0.4702\n",
      "Epoch 7/25\n",
      "18/18 [==============================] - 0s 10ms/step - loss: 0.4898 - val_loss: 0.4375\n",
      "Epoch 8/25\n",
      "18/18 [==============================] - 0s 10ms/step - loss: 0.4653 - val_loss: 0.4292\n",
      "Epoch 9/25\n",
      "18/18 [==============================] - 0s 10ms/step - loss: 0.4404 - val_loss: 0.3946\n",
      "Epoch 10/25\n",
      "18/18 [==============================] - 0s 10ms/step - loss: 0.4282 - val_loss: 0.3912\n",
      "Epoch 11/25\n",
      "18/18 [==============================] - 0s 10ms/step - loss: 0.4261 - val_loss: 0.3793\n",
      "Epoch 12/25\n",
      "18/18 [==============================] - 0s 10ms/step - loss: 0.4079 - val_loss: 0.3746\n",
      "Epoch 13/25\n",
      "18/18 [==============================] - 0s 10ms/step - loss: 0.4000 - val_loss: 0.3661\n",
      "Epoch 14/25\n",
      "18/18 [==============================] - 0s 10ms/step - loss: 0.3954 - val_loss: 0.3599\n",
      "Epoch 15/25\n",
      "18/18 [==============================] - 0s 10ms/step - loss: 0.3940 - val_loss: 0.3584\n",
      "Epoch 16/25\n",
      "18/18 [==============================] - 0s 10ms/step - loss: 0.3860 - val_loss: 0.3551\n",
      "Epoch 17/25\n",
      "18/18 [==============================] - 0s 10ms/step - loss: 0.3811 - val_loss: 0.3580\n",
      "Epoch 18/25\n",
      "18/18 [==============================] - 0s 10ms/step - loss: 0.3715 - val_loss: 0.3492\n",
      "Epoch 19/25\n",
      "18/18 [==============================] - 0s 10ms/step - loss: 0.3710 - val_loss: 0.3441\n",
      "Epoch 20/25\n",
      "18/18 [==============================] - 0s 10ms/step - loss: 0.3775 - val_loss: 0.3594\n",
      "Epoch 21/25\n",
      "18/18 [==============================] - 0s 10ms/step - loss: 0.3675 - val_loss: 0.3422\n",
      "Epoch 22/25\n",
      "18/18 [==============================] - 0s 10ms/step - loss: 0.3587 - val_loss: 0.3345\n",
      "Epoch 23/25\n",
      "18/18 [==============================] - 0s 10ms/step - loss: 0.3581 - val_loss: 0.3337\n",
      "Epoch 24/25\n",
      "18/18 [==============================] - 0s 10ms/step - loss: 0.3580 - val_loss: 0.3316\n",
      "Epoch 25/25\n",
      "18/18 [==============================] - 0s 10ms/step - loss: 0.3454 - val_loss: 0.3422\n"
     ]
    },
    {
     "data": {
      "text/plain": [
       "<tensorflow.python.keras.callbacks.History at 0x298bdcc70>"
      ]
     },
     "execution_count": 12,
     "metadata": {},
     "output_type": "execute_result"
    }
   ],
   "source": [
    "model.fit(x = X_train, y = y_train, epochs = 25, batch_size = 256, verbose = 1, validation_data = (X_test,y_test))"
   ]
  },
  {
   "cell_type": "code",
   "execution_count": 13,
   "id": "de645ca5",
   "metadata": {},
   "outputs": [
    {
     "data": {
      "image/png": "[encoded data removed]",
      "text/plain": [
       "<Figure size 432x288 with 1 Axes>"
      ]
     },
     "metadata": {
      "needs_background": "light"
     },
     "output_type": "display_data"
    }
   ],
   "source": [
    "model_loss = pd.DataFrame(model.history.history)\n",
    "model_loss.plot()\n",
    "plt.show()"
   ]
  },
  {
   "cell_type": "code",
   "execution_count": 14,
   "id": "f9922c2e",
   "metadata": {},
   "outputs": [
    {
     "name": "stderr",
     "output_type": "stream",
     "text": [
      "2021-08-16 20:48:38.132869: I tensorflow/core/grappler/optimizers/custom_graph_optimizer_registry.cc:112] Plugin optimizer for device_type GPU is enabled.\n"
     ]
    },
    {
     "data": {
      "text/plain": [
       "array([6, 4, 1, ..., 4, 0, 2])"
      ]
     },
     "execution_count": 14,
     "metadata": {},
     "output_type": "execute_result"
    }
   ],
   "source": [
    "predictions = np.argmax(model.predict(X_test), axis=-1)\n",
    "predictions"
   ]
  },
  {
   "cell_type": "code",
   "execution_count": 15,
   "id": "c9d967e5",
   "metadata": {},
   "outputs": [],
   "source": [
    "y_compare = np.argmax(y_test,axis=1)"
   ]
  },
  {
   "cell_type": "code",
   "execution_count": 19,
   "id": "c016046a",
   "metadata": {},
   "outputs": [
    {
     "name": "stdout",
     "output_type": "stream",
     "text": [
      "              precision    recall  f1-score   support\n",
      "\n",
      "           0       0.60      0.41      0.49       272\n",
      "           1       1.00      1.00      1.00       285\n",
      "           2       0.99      1.00      1.00       288\n",
      "           3       0.79      0.88      0.83       247\n",
      "           4       0.55      0.64      0.59       269\n",
      "           5       0.89      0.93      0.91       289\n",
      "           6       1.00      1.00      1.00       298\n",
      "\n",
      "    accuracy                           0.84      1948\n",
      "   macro avg       0.83      0.84      0.83      1948\n",
      "weighted avg       0.84      0.84      0.84      1948\n",
      "\n"
     ]
    }
   ],
   "source": [
    "print(classification_report(y_compare, predictions))"
   ]
  },
  {
   "cell_type": "code",
   "execution_count": 43,
   "id": "6631e961",
   "metadata": {},
   "outputs": [
    {
     "name": "stdout",
     "output_type": "stream",
     "text": [
      "[[112   0   1  25 130   4   0]\n",
      " [  0 285   0   0   0   0   0]\n",
      " [  0   0 288   0   0   0   0]\n",
      " [  2   0   0 217   1  27   0]\n",
      " [ 72   0   1  23 171   1   1]\n",
      " [  1   0   0  11   8 269   0]\n",
      " [  1   0   0   0   0   0 297]]\n"
     ]
    }
   ],
   "source": [
    "print(confusion_matrix(y_compare, predictions))"
   ]
  },
  {
   "cell_type": "code",
   "execution_count": 44,
   "id": "41855fc2",
   "metadata": {},
   "outputs": [
    {
     "data": {
      "text/plain": [
       "<AxesSubplot:>"
      ]
     },
     "execution_count": 44,
     "metadata": {},
     "output_type": "execute_result"
    },
    {
     "data": {
      "image/png": "[encoded data removed]",
      "text/plain": [
       "<Figure size 432x288 with 2 Axes>"
      ]
     },
     "metadata": {
      "needs_background": "light"
     },
     "output_type": "display_data"
    }
   ],
   "source": [
    "sns.heatmap(confusion_matrix(y_compare, predictions))"
   ]
  },
  {
   "cell_type": "code",
   "execution_count": null,
   "id": "9a988818",
   "metadata": {},
   "outputs": [],
   "source": []
  }
 ],
 "metadata": {
  "kernelspec": {
   "display_name": "Python 3.9 (tensorflow)",
   "language": "python",
   "name": "tensorflow"
  },
  "language_info": {
   "codemirror_mode": {
    "name": "ipython",
    "version": 3
   },
   "file_extension": ".py",
   "mimetype": "text/x-python",
   "name": "python",
   "nbconvert_exporter": "python",
   "pygments_lexer": "ipython3",
   "version": "3.9.6"
  }
 },
 "nbformat": 4,
 "nbformat_minor": 5
}
