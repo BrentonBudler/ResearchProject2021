{
 "cells": [
  {
   "cell_type": "code",
   "execution_count": 1,
   "id": "c1ac43c5",
   "metadata": {},
   "outputs": [],
   "source": [
    "import numpy as np\n",
    "import pandas as pd \n",
    "import matplotlib.pyplot as plt \n",
    "import seaborn as sns \n",
    "from IPython.display import Audio"
   ]
  },
  {
   "cell_type": "markdown",
   "id": "ea44576b",
   "metadata": {},
   "source": [
    "## Different attack styles "
   ]
  },
  {
   "cell_type": "markdown",
   "id": "a8394f2f",
   "metadata": {},
   "source": [
    "The dataset contains benign data and 5 different attack types: \n",
    "* 0 - benign \n",
    "* 1 - Bruteforce attack \n",
    "* 2 - DoS attack  \n",
    "* 3 - Web attack\n",
    "* 4 - Inflitration attack \n",
    "* 5 - Botnet attack \n",
    "* 6 - DDoS attack "
   ]
  },
  {
   "cell_type": "code",
   "execution_count": 2,
   "id": "d09acec0",
   "metadata": {},
   "outputs": [],
   "source": [
    "def encode_target(label):\n",
    "    if label==\"Benign\":\n",
    "        return 0 # Benign network traffic\n",
    "    if \"Bruteforce\" in label or \"BruteForce\" in label:\n",
    "        return 1 # Bruteforce attack\n",
    "    if \"GoldenEye\" in label or \"Slowloris\" in label or \"Hulk\" in label or \"SlowHTTPTest\" in label:\n",
    "        return 2 # DoS attack\n",
    "    if \"Web\" in label or \"XSS\" in label or \"SQL\" in label:\n",
    "        return 3 # Web attack\n",
    "    if \"Infilteration\" in label:\n",
    "        return 4 # Infiltration attack\n",
    "    if \"Bot\" in label:\n",
    "        return 5 # Botnet attack \n",
    "    if \"DDoS\" in label or \"DDOS\":\n",
    "        return 6 # DDoS attack"
   ]
  },
  {
   "cell_type": "code",
   "execution_count": 3,
   "id": "e2e4923a",
   "metadata": {},
   "outputs": [],
   "source": [
    "def clean_data(data, time=False):\n",
    "    # Drop Dst Port : REASON TO COME \n",
    "    data = data.drop(\"Dst Port\", axis = 1)\n",
    "    \n",
    "    # Drop any rows with \"Infinity\" values or labels with the value \"Label\"\n",
    "    data = data.drop(data[data.eq(\"Infinity\").any(1)].index,axis=0)\n",
    "    data = data.drop(data[data.eq(\"Label\").any(1)].index,axis=0)\n",
    "    \n",
    "    # Percent of missing data \n",
    "    print(\"Missing Data:\",round(data.isnull().sum().sum()/len(data)*100,3),\"%\") # Just over 0.2%, very minimal so we can remove this \n",
    "    data = data.dropna()\n",
    "\n",
    "    # Percent of duplicated data\n",
    "    print(\"Duplicated Data:\", round(len(data[data.duplicated()])/len(data)*100,2),\"%\")\n",
    "    data = data.drop_duplicates()\n",
    "\n",
    "    if not time:\n",
    "        # Dropping the timestamp feature \n",
    "        data = data.drop(\"Timestamp\", axis = 1)\n",
    "\n",
    "    # One hot encoding the protocol feature \n",
    "    data['Protocol'] = data['Protocol'].astype(int)\n",
    "    dum_df = pd.get_dummies(data[\"Protocol\"],prefix=\"prot_\")\n",
    "    data = data.drop([\"Protocol\"],axis=1)\n",
    "    data = pd.concat([data,dum_df],axis=1) \n",
    "    \n",
    "    data[\"target\"] = np.vectorize(encode_target)(data[\"Label\"])\n",
    "    data = data.drop(\"Label\", axis = 1)\n",
    "\n",
    "    return data "
   ]
  },
  {
   "cell_type": "markdown",
   "id": "4130a3fa",
   "metadata": {},
   "source": [
    "### Brute-force Attacks"
   ]
  },
  {
   "cell_type": "code",
   "execution_count": 4,
   "id": "6b57167d",
   "metadata": {},
   "outputs": [],
   "source": [
    "bruteforce = pd.read_csv(\"02-14-2018.csv\")"
   ]
  },
  {
   "cell_type": "code",
   "execution_count": 5,
   "id": "6f5f31c1",
   "metadata": {
    "scrolled": false
   },
   "outputs": [
    {
     "data": {
      "text/plain": [
       "Benign            667626\n",
       "FTP-BruteForce    193360\n",
       "SSH-Bruteforce    187589\n",
       "Name: Label, dtype: int64"
      ]
     },
     "execution_count": 5,
     "metadata": {},
     "output_type": "execute_result"
    }
   ],
   "source": [
    "bruteforce['Label'].value_counts()"
   ]
  },
  {
   "cell_type": "code",
   "execution_count": 6,
   "id": "94ede426",
   "metadata": {},
   "outputs": [
    {
     "name": "stdout",
     "output_type": "stream",
     "text": [
      "Missing Data: 0.217 %\n",
      "Duplicated Data: 21.65 %\n"
     ]
    }
   ],
   "source": [
    "bruteforce = clean_data(bruteforce,time=False)"
   ]
  },
  {
   "cell_type": "code",
   "execution_count": 7,
   "id": "5dd73a3a",
   "metadata": {},
   "outputs": [
    {
     "data": {
      "text/html": [
       "<div>\n",
       "<style scoped>\n",
       "    .dataframe tbody tr th:only-of-type {\n",
       "        vertical-align: middle;\n",
       "    }\n",
       "\n",
       "    .dataframe tbody tr th {\n",
       "        vertical-align: top;\n",
       "    }\n",
       "\n",
       "    .dataframe thead th {\n",
       "        text-align: right;\n",
       "    }\n",
       "</style>\n",
       "<table border=\"1\" class=\"dataframe\">\n",
       "  <thead>\n",
       "    <tr style=\"text-align: right;\">\n",
       "      <th></th>\n",
       "      <th>Flow Duration</th>\n",
       "      <th>Tot Fwd Pkts</th>\n",
       "      <th>Tot Bwd Pkts</th>\n",
       "      <th>TotLen Fwd Pkts</th>\n",
       "      <th>TotLen Bwd Pkts</th>\n",
       "      <th>Fwd Pkt Len Max</th>\n",
       "      <th>Fwd Pkt Len Min</th>\n",
       "      <th>Fwd Pkt Len Mean</th>\n",
       "      <th>Fwd Pkt Len Std</th>\n",
       "      <th>Bwd Pkt Len Max</th>\n",
       "      <th>...</th>\n",
       "      <th>Active Max</th>\n",
       "      <th>Active Min</th>\n",
       "      <th>Idle Mean</th>\n",
       "      <th>Idle Std</th>\n",
       "      <th>Idle Max</th>\n",
       "      <th>Idle Min</th>\n",
       "      <th>prot__0</th>\n",
       "      <th>prot__6</th>\n",
       "      <th>prot__17</th>\n",
       "      <th>target</th>\n",
       "    </tr>\n",
       "  </thead>\n",
       "  <tbody>\n",
       "    <tr>\n",
       "      <th>0</th>\n",
       "      <td>112641719</td>\n",
       "      <td>3</td>\n",
       "      <td>0</td>\n",
       "      <td>0</td>\n",
       "      <td>0</td>\n",
       "      <td>0</td>\n",
       "      <td>0</td>\n",
       "      <td>0.000000</td>\n",
       "      <td>0.000000</td>\n",
       "      <td>0</td>\n",
       "      <td>...</td>\n",
       "      <td>0</td>\n",
       "      <td>0</td>\n",
       "      <td>56320859.5</td>\n",
       "      <td>139.300036</td>\n",
       "      <td>56320958</td>\n",
       "      <td>56320761</td>\n",
       "      <td>1</td>\n",
       "      <td>0</td>\n",
       "      <td>0</td>\n",
       "      <td>0</td>\n",
       "    </tr>\n",
       "    <tr>\n",
       "      <th>1</th>\n",
       "      <td>112641466</td>\n",
       "      <td>3</td>\n",
       "      <td>0</td>\n",
       "      <td>0</td>\n",
       "      <td>0</td>\n",
       "      <td>0</td>\n",
       "      <td>0</td>\n",
       "      <td>0.000000</td>\n",
       "      <td>0.000000</td>\n",
       "      <td>0</td>\n",
       "      <td>...</td>\n",
       "      <td>0</td>\n",
       "      <td>0</td>\n",
       "      <td>56320733.0</td>\n",
       "      <td>114.551299</td>\n",
       "      <td>56320814</td>\n",
       "      <td>56320652</td>\n",
       "      <td>1</td>\n",
       "      <td>0</td>\n",
       "      <td>0</td>\n",
       "      <td>0</td>\n",
       "    </tr>\n",
       "    <tr>\n",
       "      <th>2</th>\n",
       "      <td>112638623</td>\n",
       "      <td>3</td>\n",
       "      <td>0</td>\n",
       "      <td>0</td>\n",
       "      <td>0</td>\n",
       "      <td>0</td>\n",
       "      <td>0</td>\n",
       "      <td>0.000000</td>\n",
       "      <td>0.000000</td>\n",
       "      <td>0</td>\n",
       "      <td>...</td>\n",
       "      <td>0</td>\n",
       "      <td>0</td>\n",
       "      <td>56319311.5</td>\n",
       "      <td>301.934596</td>\n",
       "      <td>56319525</td>\n",
       "      <td>56319098</td>\n",
       "      <td>1</td>\n",
       "      <td>0</td>\n",
       "      <td>0</td>\n",
       "      <td>0</td>\n",
       "    </tr>\n",
       "    <tr>\n",
       "      <th>3</th>\n",
       "      <td>6453966</td>\n",
       "      <td>15</td>\n",
       "      <td>10</td>\n",
       "      <td>1239</td>\n",
       "      <td>2273</td>\n",
       "      <td>744</td>\n",
       "      <td>0</td>\n",
       "      <td>82.600000</td>\n",
       "      <td>196.741237</td>\n",
       "      <td>976</td>\n",
       "      <td>...</td>\n",
       "      <td>0</td>\n",
       "      <td>0</td>\n",
       "      <td>0.0</td>\n",
       "      <td>0.000000</td>\n",
       "      <td>0</td>\n",
       "      <td>0</td>\n",
       "      <td>0</td>\n",
       "      <td>1</td>\n",
       "      <td>0</td>\n",
       "      <td>0</td>\n",
       "    </tr>\n",
       "    <tr>\n",
       "      <th>4</th>\n",
       "      <td>8804066</td>\n",
       "      <td>14</td>\n",
       "      <td>11</td>\n",
       "      <td>1143</td>\n",
       "      <td>2209</td>\n",
       "      <td>744</td>\n",
       "      <td>0</td>\n",
       "      <td>81.642857</td>\n",
       "      <td>203.745545</td>\n",
       "      <td>976</td>\n",
       "      <td>...</td>\n",
       "      <td>0</td>\n",
       "      <td>0</td>\n",
       "      <td>0.0</td>\n",
       "      <td>0.000000</td>\n",
       "      <td>0</td>\n",
       "      <td>0</td>\n",
       "      <td>0</td>\n",
       "      <td>1</td>\n",
       "      <td>0</td>\n",
       "      <td>0</td>\n",
       "    </tr>\n",
       "  </tbody>\n",
       "</table>\n",
       "<p>5 rows × 80 columns</p>\n",
       "</div>"
      ],
      "text/plain": [
       "   Flow Duration  Tot Fwd Pkts  Tot Bwd Pkts  TotLen Fwd Pkts  \\\n",
       "0      112641719             3             0                0   \n",
       "1      112641466             3             0                0   \n",
       "2      112638623             3             0                0   \n",
       "3        6453966            15            10             1239   \n",
       "4        8804066            14            11             1143   \n",
       "\n",
       "   TotLen Bwd Pkts  Fwd Pkt Len Max  Fwd Pkt Len Min  Fwd Pkt Len Mean  \\\n",
       "0                0                0                0          0.000000   \n",
       "1                0                0                0          0.000000   \n",
       "2                0                0                0          0.000000   \n",
       "3             2273              744                0         82.600000   \n",
       "4             2209              744                0         81.642857   \n",
       "\n",
       "   Fwd Pkt Len Std  Bwd Pkt Len Max  ...  Active Max  Active Min   Idle Mean  \\\n",
       "0         0.000000                0  ...           0           0  56320859.5   \n",
       "1         0.000000                0  ...           0           0  56320733.0   \n",
       "2         0.000000                0  ...           0           0  56319311.5   \n",
       "3       196.741237              976  ...           0           0         0.0   \n",
       "4       203.745545              976  ...           0           0         0.0   \n",
       "\n",
       "     Idle Std  Idle Max  Idle Min  prot__0  prot__6  prot__17  target  \n",
       "0  139.300036  56320958  56320761        1        0         0       0  \n",
       "1  114.551299  56320814  56320652        1        0         0       0  \n",
       "2  301.934596  56319525  56319098        1        0         0       0  \n",
       "3    0.000000         0         0        0        1         0       0  \n",
       "4    0.000000         0         0        0        1         0       0  \n",
       "\n",
       "[5 rows x 80 columns]"
      ]
     },
     "execution_count": 7,
     "metadata": {},
     "output_type": "execute_result"
    }
   ],
   "source": [
    "bruteforce.head()"
   ]
  },
  {
   "cell_type": "code",
   "execution_count": 8,
   "id": "09f652d1",
   "metadata": {},
   "outputs": [
    {
     "data": {
      "text/plain": [
       "0    663094\n",
       "1    156668\n",
       "Name: target, dtype: int64"
      ]
     },
     "execution_count": 8,
     "metadata": {},
     "output_type": "execute_result"
    }
   ],
   "source": [
    "bruteforce[\"target\"].value_counts()"
   ]
  },
  {
   "cell_type": "markdown",
   "id": "cc12bad7",
   "metadata": {},
   "source": [
    "### Dos Attacks"
   ]
  },
  {
   "cell_type": "code",
   "execution_count": 9,
   "id": "653917a9",
   "metadata": {},
   "outputs": [],
   "source": [
    "dos = pd.concat([pd.read_csv(\"02-15-2018.csv\",low_memory=False), pd.read_csv(\"02-16-2018.csv\",low_memory=False)])"
   ]
  },
  {
   "cell_type": "code",
   "execution_count": 10,
   "id": "0a4f116f",
   "metadata": {
    "scrolled": true
   },
   "outputs": [
    {
     "data": {
      "text/plain": [
       "Benign                      1442849\n",
       "DoS attacks-Hulk             461912\n",
       "DoS attacks-SlowHTTPTest     139890\n",
       "DoS attacks-GoldenEye         41508\n",
       "DoS attacks-Slowloris         10990\n",
       "Label                             1\n",
       "Name: Label, dtype: int64"
      ]
     },
     "execution_count": 10,
     "metadata": {},
     "output_type": "execute_result"
    }
   ],
   "source": [
    "dos[\"Label\"].value_counts()"
   ]
  },
  {
   "cell_type": "code",
   "execution_count": 11,
   "id": "f0f7b9e5",
   "metadata": {
    "scrolled": true
   },
   "outputs": [
    {
     "name": "stdout",
     "output_type": "stream",
     "text": [
      "Missing Data: 0.235 %\n",
      "Duplicated Data: 7.26 %\n"
     ]
    }
   ],
   "source": [
    "dos = clean_data(dos)"
   ]
  },
  {
   "cell_type": "code",
   "execution_count": 12,
   "id": "1bda507d",
   "metadata": {},
   "outputs": [
    {
     "data": {
      "text/html": [
       "<div>\n",
       "<style scoped>\n",
       "    .dataframe tbody tr th:only-of-type {\n",
       "        vertical-align: middle;\n",
       "    }\n",
       "\n",
       "    .dataframe tbody tr th {\n",
       "        vertical-align: top;\n",
       "    }\n",
       "\n",
       "    .dataframe thead th {\n",
       "        text-align: right;\n",
       "    }\n",
       "</style>\n",
       "<table border=\"1\" class=\"dataframe\">\n",
       "  <thead>\n",
       "    <tr style=\"text-align: right;\">\n",
       "      <th></th>\n",
       "      <th>Flow Duration</th>\n",
       "      <th>Tot Fwd Pkts</th>\n",
       "      <th>Tot Bwd Pkts</th>\n",
       "      <th>TotLen Fwd Pkts</th>\n",
       "      <th>TotLen Bwd Pkts</th>\n",
       "      <th>Fwd Pkt Len Max</th>\n",
       "      <th>Fwd Pkt Len Min</th>\n",
       "      <th>Fwd Pkt Len Mean</th>\n",
       "      <th>Fwd Pkt Len Std</th>\n",
       "      <th>Bwd Pkt Len Max</th>\n",
       "      <th>...</th>\n",
       "      <th>Active Max</th>\n",
       "      <th>Active Min</th>\n",
       "      <th>Idle Mean</th>\n",
       "      <th>Idle Std</th>\n",
       "      <th>Idle Max</th>\n",
       "      <th>Idle Min</th>\n",
       "      <th>prot__0</th>\n",
       "      <th>prot__6</th>\n",
       "      <th>prot__17</th>\n",
       "      <th>target</th>\n",
       "    </tr>\n",
       "  </thead>\n",
       "  <tbody>\n",
       "    <tr>\n",
       "      <th>0</th>\n",
       "      <td>112641158</td>\n",
       "      <td>3</td>\n",
       "      <td>0</td>\n",
       "      <td>0</td>\n",
       "      <td>0</td>\n",
       "      <td>0</td>\n",
       "      <td>0</td>\n",
       "      <td>0.0</td>\n",
       "      <td>0.0</td>\n",
       "      <td>0</td>\n",
       "      <td>...</td>\n",
       "      <td>0</td>\n",
       "      <td>0</td>\n",
       "      <td>56320579.0</td>\n",
       "      <td>704.278354</td>\n",
       "      <td>56321077</td>\n",
       "      <td>56320081</td>\n",
       "      <td>1</td>\n",
       "      <td>0</td>\n",
       "      <td>0</td>\n",
       "      <td>0</td>\n",
       "    </tr>\n",
       "    <tr>\n",
       "      <th>1</th>\n",
       "      <td>37366762</td>\n",
       "      <td>14</td>\n",
       "      <td>12</td>\n",
       "      <td>2168</td>\n",
       "      <td>2993</td>\n",
       "      <td>712</td>\n",
       "      <td>0</td>\n",
       "      <td>154.857143</td>\n",
       "      <td>254.85527</td>\n",
       "      <td>976</td>\n",
       "      <td>...</td>\n",
       "      <td>1601183</td>\n",
       "      <td>321569</td>\n",
       "      <td>11431221.0</td>\n",
       "      <td>3644990.559845</td>\n",
       "      <td>15617415</td>\n",
       "      <td>8960247</td>\n",
       "      <td>0</td>\n",
       "      <td>1</td>\n",
       "      <td>0</td>\n",
       "      <td>0</td>\n",
       "    </tr>\n",
       "    <tr>\n",
       "      <th>2</th>\n",
       "      <td>543</td>\n",
       "      <td>2</td>\n",
       "      <td>0</td>\n",
       "      <td>64</td>\n",
       "      <td>0</td>\n",
       "      <td>64</td>\n",
       "      <td>0</td>\n",
       "      <td>32.0</td>\n",
       "      <td>45.254834</td>\n",
       "      <td>0</td>\n",
       "      <td>...</td>\n",
       "      <td>0</td>\n",
       "      <td>0</td>\n",
       "      <td>0.0</td>\n",
       "      <td>0.0</td>\n",
       "      <td>0</td>\n",
       "      <td>0</td>\n",
       "      <td>0</td>\n",
       "      <td>1</td>\n",
       "      <td>0</td>\n",
       "      <td>0</td>\n",
       "    </tr>\n",
       "    <tr>\n",
       "      <th>3</th>\n",
       "      <td>112640703</td>\n",
       "      <td>3</td>\n",
       "      <td>0</td>\n",
       "      <td>0</td>\n",
       "      <td>0</td>\n",
       "      <td>0</td>\n",
       "      <td>0</td>\n",
       "      <td>0.0</td>\n",
       "      <td>0.0</td>\n",
       "      <td>0</td>\n",
       "      <td>...</td>\n",
       "      <td>0</td>\n",
       "      <td>0</td>\n",
       "      <td>56320351.5</td>\n",
       "      <td>366.988419</td>\n",
       "      <td>56320611</td>\n",
       "      <td>56320092</td>\n",
       "      <td>1</td>\n",
       "      <td>0</td>\n",
       "      <td>0</td>\n",
       "      <td>0</td>\n",
       "    </tr>\n",
       "    <tr>\n",
       "      <th>4</th>\n",
       "      <td>112640874</td>\n",
       "      <td>3</td>\n",
       "      <td>0</td>\n",
       "      <td>0</td>\n",
       "      <td>0</td>\n",
       "      <td>0</td>\n",
       "      <td>0</td>\n",
       "      <td>0.0</td>\n",
       "      <td>0.0</td>\n",
       "      <td>0</td>\n",
       "      <td>...</td>\n",
       "      <td>0</td>\n",
       "      <td>0</td>\n",
       "      <td>56320437.0</td>\n",
       "      <td>719.834703</td>\n",
       "      <td>56320946</td>\n",
       "      <td>56319928</td>\n",
       "      <td>1</td>\n",
       "      <td>0</td>\n",
       "      <td>0</td>\n",
       "      <td>0</td>\n",
       "    </tr>\n",
       "  </tbody>\n",
       "</table>\n",
       "<p>5 rows × 80 columns</p>\n",
       "</div>"
      ],
      "text/plain": [
       "  Flow Duration Tot Fwd Pkts Tot Bwd Pkts TotLen Fwd Pkts TotLen Bwd Pkts  \\\n",
       "0     112641158            3            0               0               0   \n",
       "1      37366762           14           12            2168            2993   \n",
       "2           543            2            0              64               0   \n",
       "3     112640703            3            0               0               0   \n",
       "4     112640874            3            0               0               0   \n",
       "\n",
       "  Fwd Pkt Len Max Fwd Pkt Len Min Fwd Pkt Len Mean Fwd Pkt Len Std  \\\n",
       "0               0               0              0.0             0.0   \n",
       "1             712               0       154.857143       254.85527   \n",
       "2              64               0             32.0       45.254834   \n",
       "3               0               0              0.0             0.0   \n",
       "4               0               0              0.0             0.0   \n",
       "\n",
       "  Bwd Pkt Len Max  ... Active Max Active Min   Idle Mean        Idle Std  \\\n",
       "0               0  ...          0          0  56320579.0      704.278354   \n",
       "1             976  ...    1601183     321569  11431221.0  3644990.559845   \n",
       "2               0  ...          0          0         0.0             0.0   \n",
       "3               0  ...          0          0  56320351.5      366.988419   \n",
       "4               0  ...          0          0  56320437.0      719.834703   \n",
       "\n",
       "   Idle Max  Idle Min prot__0 prot__6 prot__17 target  \n",
       "0  56321077  56320081       1       0        0      0  \n",
       "1  15617415   8960247       0       1        0      0  \n",
       "2         0         0       0       1        0      0  \n",
       "3  56320611  56320092       1       0        0      0  \n",
       "4  56320946  56319928       1       0        0      0  \n",
       "\n",
       "[5 rows x 80 columns]"
      ]
     },
     "execution_count": 12,
     "metadata": {},
     "output_type": "execute_result"
    }
   ],
   "source": [
    "dos.head()"
   ]
  },
  {
   "cell_type": "code",
   "execution_count": 13,
   "id": "f3fe4c1b",
   "metadata": {},
   "outputs": [
    {
     "data": {
      "text/plain": [
       "0    1434272\n",
       "2     506075\n",
       "Name: target, dtype: int64"
      ]
     },
     "execution_count": 13,
     "metadata": {},
     "output_type": "execute_result"
    }
   ],
   "source": [
    "dos[\"target\"].value_counts()"
   ]
  },
  {
   "cell_type": "markdown",
   "id": "487f6958",
   "metadata": {},
   "source": [
    "### Web Attacks"
   ]
  },
  {
   "cell_type": "code",
   "execution_count": 14,
   "id": "3d420f29",
   "metadata": {},
   "outputs": [],
   "source": [
    "web = pd.concat([pd.read_csv(\"02-22-2018.csv\",low_memory=False), pd.read_csv(\"02-23-2018.csv\",low_memory=False)])"
   ]
  },
  {
   "cell_type": "code",
   "execution_count": 15,
   "id": "8686afea",
   "metadata": {
    "scrolled": true
   },
   "outputs": [
    {
     "data": {
      "text/plain": [
       "Benign              2096222\n",
       "Brute Force -Web        611\n",
       "Brute Force -XSS        230\n",
       "SQL Injection            87\n",
       "Name: Label, dtype: int64"
      ]
     },
     "execution_count": 15,
     "metadata": {},
     "output_type": "execute_result"
    }
   ],
   "source": [
    "web[\"Label\"].value_counts()"
   ]
  },
  {
   "cell_type": "code",
   "execution_count": 16,
   "id": "442dda3a",
   "metadata": {},
   "outputs": [
    {
     "data": {
      "text/plain": [
       "928"
      ]
     },
     "execution_count": 16,
     "metadata": {},
     "output_type": "execute_result"
    }
   ],
   "source": [
    "611 + 230 + 87"
   ]
  },
  {
   "cell_type": "code",
   "execution_count": 17,
   "id": "db02c580",
   "metadata": {},
   "outputs": [
    {
     "name": "stdout",
     "output_type": "stream",
     "text": [
      "Missing Data: 0.349 %\n",
      "Duplicated Data: 0.43 %\n"
     ]
    }
   ],
   "source": [
    "web = clean_data(web)"
   ]
  },
  {
   "cell_type": "code",
   "execution_count": 18,
   "id": "7cda4c94",
   "metadata": {
    "scrolled": true
   },
   "outputs": [
    {
     "data": {
      "text/html": [
       "<div>\n",
       "<style scoped>\n",
       "    .dataframe tbody tr th:only-of-type {\n",
       "        vertical-align: middle;\n",
       "    }\n",
       "\n",
       "    .dataframe tbody tr th {\n",
       "        vertical-align: top;\n",
       "    }\n",
       "\n",
       "    .dataframe thead th {\n",
       "        text-align: right;\n",
       "    }\n",
       "</style>\n",
       "<table border=\"1\" class=\"dataframe\">\n",
       "  <thead>\n",
       "    <tr style=\"text-align: right;\">\n",
       "      <th></th>\n",
       "      <th>Flow Duration</th>\n",
       "      <th>Tot Fwd Pkts</th>\n",
       "      <th>Tot Bwd Pkts</th>\n",
       "      <th>TotLen Fwd Pkts</th>\n",
       "      <th>TotLen Bwd Pkts</th>\n",
       "      <th>Fwd Pkt Len Max</th>\n",
       "      <th>Fwd Pkt Len Min</th>\n",
       "      <th>Fwd Pkt Len Mean</th>\n",
       "      <th>Fwd Pkt Len Std</th>\n",
       "      <th>Bwd Pkt Len Max</th>\n",
       "      <th>...</th>\n",
       "      <th>Active Max</th>\n",
       "      <th>Active Min</th>\n",
       "      <th>Idle Mean</th>\n",
       "      <th>Idle Std</th>\n",
       "      <th>Idle Max</th>\n",
       "      <th>Idle Min</th>\n",
       "      <th>prot__0</th>\n",
       "      <th>prot__6</th>\n",
       "      <th>prot__17</th>\n",
       "      <th>target</th>\n",
       "    </tr>\n",
       "  </thead>\n",
       "  <tbody>\n",
       "    <tr>\n",
       "      <th>0</th>\n",
       "      <td>20553406</td>\n",
       "      <td>10</td>\n",
       "      <td>7</td>\n",
       "      <td>1063</td>\n",
       "      <td>1297</td>\n",
       "      <td>744</td>\n",
       "      <td>0</td>\n",
       "      <td>106.3</td>\n",
       "      <td>239.357496</td>\n",
       "      <td>976</td>\n",
       "      <td>...</td>\n",
       "      <td>1027304</td>\n",
       "      <td>1027304</td>\n",
       "      <td>1.952608e+07</td>\n",
       "      <td>0.000000e+00</td>\n",
       "      <td>19526080</td>\n",
       "      <td>19526080</td>\n",
       "      <td>0</td>\n",
       "      <td>1</td>\n",
       "      <td>0</td>\n",
       "      <td>0</td>\n",
       "    </tr>\n",
       "    <tr>\n",
       "      <th>1</th>\n",
       "      <td>790</td>\n",
       "      <td>2</td>\n",
       "      <td>0</td>\n",
       "      <td>848</td>\n",
       "      <td>0</td>\n",
       "      <td>848</td>\n",
       "      <td>0</td>\n",
       "      <td>424.0</td>\n",
       "      <td>599.626550</td>\n",
       "      <td>0</td>\n",
       "      <td>...</td>\n",
       "      <td>0</td>\n",
       "      <td>0</td>\n",
       "      <td>0.000000e+00</td>\n",
       "      <td>0.000000e+00</td>\n",
       "      <td>0</td>\n",
       "      <td>0</td>\n",
       "      <td>0</td>\n",
       "      <td>1</td>\n",
       "      <td>0</td>\n",
       "      <td>0</td>\n",
       "    </tr>\n",
       "    <tr>\n",
       "      <th>2</th>\n",
       "      <td>99745913</td>\n",
       "      <td>5</td>\n",
       "      <td>0</td>\n",
       "      <td>2500</td>\n",
       "      <td>0</td>\n",
       "      <td>500</td>\n",
       "      <td>500</td>\n",
       "      <td>500.0</td>\n",
       "      <td>0.000000</td>\n",
       "      <td>0</td>\n",
       "      <td>...</td>\n",
       "      <td>4000203</td>\n",
       "      <td>4000203</td>\n",
       "      <td>3.191524e+07</td>\n",
       "      <td>3.792787e+07</td>\n",
       "      <td>75584115</td>\n",
       "      <td>7200679</td>\n",
       "      <td>0</td>\n",
       "      <td>0</td>\n",
       "      <td>1</td>\n",
       "      <td>0</td>\n",
       "    </tr>\n",
       "    <tr>\n",
       "      <th>3</th>\n",
       "      <td>99745913</td>\n",
       "      <td>5</td>\n",
       "      <td>0</td>\n",
       "      <td>2500</td>\n",
       "      <td>0</td>\n",
       "      <td>500</td>\n",
       "      <td>500</td>\n",
       "      <td>500.0</td>\n",
       "      <td>0.000000</td>\n",
       "      <td>0</td>\n",
       "      <td>...</td>\n",
       "      <td>4000189</td>\n",
       "      <td>4000189</td>\n",
       "      <td>3.191524e+07</td>\n",
       "      <td>3.792788e+07</td>\n",
       "      <td>75584130</td>\n",
       "      <td>7200693</td>\n",
       "      <td>0</td>\n",
       "      <td>0</td>\n",
       "      <td>1</td>\n",
       "      <td>0</td>\n",
       "    </tr>\n",
       "    <tr>\n",
       "      <th>4</th>\n",
       "      <td>89481361</td>\n",
       "      <td>6</td>\n",
       "      <td>0</td>\n",
       "      <td>3000</td>\n",
       "      <td>0</td>\n",
       "      <td>500</td>\n",
       "      <td>500</td>\n",
       "      <td>500.0</td>\n",
       "      <td>0.000000</td>\n",
       "      <td>0</td>\n",
       "      <td>...</td>\n",
       "      <td>4000554</td>\n",
       "      <td>4000554</td>\n",
       "      <td>2.137020e+07</td>\n",
       "      <td>1.528109e+07</td>\n",
       "      <td>41990741</td>\n",
       "      <td>7200848</td>\n",
       "      <td>0</td>\n",
       "      <td>0</td>\n",
       "      <td>1</td>\n",
       "      <td>0</td>\n",
       "    </tr>\n",
       "  </tbody>\n",
       "</table>\n",
       "<p>5 rows × 80 columns</p>\n",
       "</div>"
      ],
      "text/plain": [
       "   Flow Duration  Tot Fwd Pkts  Tot Bwd Pkts  TotLen Fwd Pkts  \\\n",
       "0       20553406            10             7             1063   \n",
       "1            790             2             0              848   \n",
       "2       99745913             5             0             2500   \n",
       "3       99745913             5             0             2500   \n",
       "4       89481361             6             0             3000   \n",
       "\n",
       "   TotLen Bwd Pkts  Fwd Pkt Len Max  Fwd Pkt Len Min  Fwd Pkt Len Mean  \\\n",
       "0             1297              744                0             106.3   \n",
       "1                0              848                0             424.0   \n",
       "2                0              500              500             500.0   \n",
       "3                0              500              500             500.0   \n",
       "4                0              500              500             500.0   \n",
       "\n",
       "   Fwd Pkt Len Std  Bwd Pkt Len Max  ...  Active Max  Active Min  \\\n",
       "0       239.357496              976  ...     1027304     1027304   \n",
       "1       599.626550                0  ...           0           0   \n",
       "2         0.000000                0  ...     4000203     4000203   \n",
       "3         0.000000                0  ...     4000189     4000189   \n",
       "4         0.000000                0  ...     4000554     4000554   \n",
       "\n",
       "      Idle Mean      Idle Std  Idle Max  Idle Min  prot__0  prot__6  prot__17  \\\n",
       "0  1.952608e+07  0.000000e+00  19526080  19526080        0        1         0   \n",
       "1  0.000000e+00  0.000000e+00         0         0        0        1         0   \n",
       "2  3.191524e+07  3.792787e+07  75584115   7200679        0        0         1   \n",
       "3  3.191524e+07  3.792788e+07  75584130   7200693        0        0         1   \n",
       "4  2.137020e+07  1.528109e+07  41990741   7200848        0        0         1   \n",
       "\n",
       "   target  \n",
       "0       0  \n",
       "1       0  \n",
       "2       0  \n",
       "3       0  \n",
       "4       0  \n",
       "\n",
       "[5 rows x 80 columns]"
      ]
     },
     "execution_count": 18,
     "metadata": {},
     "output_type": "execute_result"
    }
   ],
   "source": [
    "web.head()"
   ]
  },
  {
   "cell_type": "code",
   "execution_count": 19,
   "id": "77d91f93",
   "metadata": {},
   "outputs": [
    {
     "data": {
      "text/plain": [
       "0    2079841\n",
       "3        928\n",
       "Name: target, dtype: int64"
      ]
     },
     "execution_count": 19,
     "metadata": {},
     "output_type": "execute_result"
    }
   ],
   "source": [
    "web[\"target\"].value_counts()"
   ]
  },
  {
   "cell_type": "markdown",
   "id": "effed1e9",
   "metadata": {},
   "source": [
    "### Infiltration Attacks"
   ]
  },
  {
   "cell_type": "code",
   "execution_count": 20,
   "id": "b9b4a0df",
   "metadata": {},
   "outputs": [],
   "source": [
    "infl =  pd.concat([pd.read_csv(\"02-28-2018.csv\",low_memory=False), pd.read_csv(\"03-01-2018.csv\",low_memory=False)])"
   ]
  },
  {
   "cell_type": "code",
   "execution_count": 21,
   "id": "f5a38fe0",
   "metadata": {},
   "outputs": [
    {
     "data": {
      "text/plain": [
       "Benign           782237\n",
       "Infilteration    161934\n",
       "Label                58\n",
       "Name: Label, dtype: int64"
      ]
     },
     "execution_count": 21,
     "metadata": {},
     "output_type": "execute_result"
    }
   ],
   "source": [
    "infl[\"Label\"].value_counts()"
   ]
  },
  {
   "cell_type": "code",
   "execution_count": 22,
   "id": "0f94a70d",
   "metadata": {
    "scrolled": true
   },
   "outputs": [
    {
     "name": "stdout",
     "output_type": "stream",
     "text": [
      "Missing Data: 0.0 %\n",
      "Duplicated Data: 8.24 %\n"
     ]
    }
   ],
   "source": [
    "infl = clean_data(infl)"
   ]
  },
  {
   "cell_type": "code",
   "execution_count": 23,
   "id": "aab24823",
   "metadata": {},
   "outputs": [
    {
     "data": {
      "text/plain": [
       "0    716935\n",
       "4    135270\n",
       "Name: target, dtype: int64"
      ]
     },
     "execution_count": 23,
     "metadata": {},
     "output_type": "execute_result"
    }
   ],
   "source": [
    "infl[\"target\"].value_counts()"
   ]
  },
  {
   "cell_type": "markdown",
   "id": "25eb8cf5",
   "metadata": {},
   "source": [
    "### Botnet"
   ]
  },
  {
   "cell_type": "code",
   "execution_count": 24,
   "id": "7331c79e",
   "metadata": {},
   "outputs": [],
   "source": [
    "botnet = pd.read_csv(\"03-02-2018.csv\",low_memory=False)"
   ]
  },
  {
   "cell_type": "code",
   "execution_count": 25,
   "id": "8fab3d3e",
   "metadata": {},
   "outputs": [
    {
     "data": {
      "text/plain": [
       "Benign    762384\n",
       "Bot       286191\n",
       "Name: Label, dtype: int64"
      ]
     },
     "execution_count": 25,
     "metadata": {},
     "output_type": "execute_result"
    }
   ],
   "source": [
    "botnet[\"Label\"].value_counts()"
   ]
  },
  {
   "cell_type": "code",
   "execution_count": 26,
   "id": "4dd4acc0",
   "metadata": {},
   "outputs": [
    {
     "name": "stdout",
     "output_type": "stream",
     "text": [
      "Missing Data: 0.244 %\n",
      "Duplicated Data: 0.64 %\n"
     ]
    }
   ],
   "source": [
    "botnet = clean_data(botnet)"
   ]
  },
  {
   "cell_type": "code",
   "execution_count": 27,
   "id": "5a875b56",
   "metadata": {
    "scrolled": true
   },
   "outputs": [
    {
     "data": {
      "text/html": [
       "<div>\n",
       "<style scoped>\n",
       "    .dataframe tbody tr th:only-of-type {\n",
       "        vertical-align: middle;\n",
       "    }\n",
       "\n",
       "    .dataframe tbody tr th {\n",
       "        vertical-align: top;\n",
       "    }\n",
       "\n",
       "    .dataframe thead th {\n",
       "        text-align: right;\n",
       "    }\n",
       "</style>\n",
       "<table border=\"1\" class=\"dataframe\">\n",
       "  <thead>\n",
       "    <tr style=\"text-align: right;\">\n",
       "      <th></th>\n",
       "      <th>Flow Duration</th>\n",
       "      <th>Tot Fwd Pkts</th>\n",
       "      <th>Tot Bwd Pkts</th>\n",
       "      <th>TotLen Fwd Pkts</th>\n",
       "      <th>TotLen Bwd Pkts</th>\n",
       "      <th>Fwd Pkt Len Max</th>\n",
       "      <th>Fwd Pkt Len Min</th>\n",
       "      <th>Fwd Pkt Len Mean</th>\n",
       "      <th>Fwd Pkt Len Std</th>\n",
       "      <th>Bwd Pkt Len Max</th>\n",
       "      <th>...</th>\n",
       "      <th>Active Max</th>\n",
       "      <th>Active Min</th>\n",
       "      <th>Idle Mean</th>\n",
       "      <th>Idle Std</th>\n",
       "      <th>Idle Max</th>\n",
       "      <th>Idle Min</th>\n",
       "      <th>prot__0</th>\n",
       "      <th>prot__6</th>\n",
       "      <th>prot__17</th>\n",
       "      <th>target</th>\n",
       "    </tr>\n",
       "  </thead>\n",
       "  <tbody>\n",
       "    <tr>\n",
       "      <th>0</th>\n",
       "      <td>141385</td>\n",
       "      <td>9</td>\n",
       "      <td>7</td>\n",
       "      <td>553</td>\n",
       "      <td>3773.0</td>\n",
       "      <td>202</td>\n",
       "      <td>0</td>\n",
       "      <td>61.444444</td>\n",
       "      <td>87.534438</td>\n",
       "      <td>1460</td>\n",
       "      <td>...</td>\n",
       "      <td>0.0</td>\n",
       "      <td>0.0</td>\n",
       "      <td>0.0</td>\n",
       "      <td>0.0</td>\n",
       "      <td>0.0</td>\n",
       "      <td>0.0</td>\n",
       "      <td>0</td>\n",
       "      <td>1</td>\n",
       "      <td>0</td>\n",
       "      <td>0</td>\n",
       "    </tr>\n",
       "    <tr>\n",
       "      <th>1</th>\n",
       "      <td>281</td>\n",
       "      <td>2</td>\n",
       "      <td>1</td>\n",
       "      <td>38</td>\n",
       "      <td>0.0</td>\n",
       "      <td>38</td>\n",
       "      <td>0</td>\n",
       "      <td>19.000000</td>\n",
       "      <td>26.870058</td>\n",
       "      <td>0</td>\n",
       "      <td>...</td>\n",
       "      <td>0.0</td>\n",
       "      <td>0.0</td>\n",
       "      <td>0.0</td>\n",
       "      <td>0.0</td>\n",
       "      <td>0.0</td>\n",
       "      <td>0.0</td>\n",
       "      <td>0</td>\n",
       "      <td>1</td>\n",
       "      <td>0</td>\n",
       "      <td>0</td>\n",
       "    </tr>\n",
       "    <tr>\n",
       "      <th>2</th>\n",
       "      <td>279824</td>\n",
       "      <td>11</td>\n",
       "      <td>15</td>\n",
       "      <td>1086</td>\n",
       "      <td>10527.0</td>\n",
       "      <td>385</td>\n",
       "      <td>0</td>\n",
       "      <td>98.727273</td>\n",
       "      <td>129.392497</td>\n",
       "      <td>1460</td>\n",
       "      <td>...</td>\n",
       "      <td>0.0</td>\n",
       "      <td>0.0</td>\n",
       "      <td>0.0</td>\n",
       "      <td>0.0</td>\n",
       "      <td>0.0</td>\n",
       "      <td>0.0</td>\n",
       "      <td>0</td>\n",
       "      <td>1</td>\n",
       "      <td>0</td>\n",
       "      <td>0</td>\n",
       "    </tr>\n",
       "    <tr>\n",
       "      <th>3</th>\n",
       "      <td>132</td>\n",
       "      <td>2</td>\n",
       "      <td>0</td>\n",
       "      <td>0</td>\n",
       "      <td>0.0</td>\n",
       "      <td>0</td>\n",
       "      <td>0</td>\n",
       "      <td>0.000000</td>\n",
       "      <td>0.000000</td>\n",
       "      <td>0</td>\n",
       "      <td>...</td>\n",
       "      <td>0.0</td>\n",
       "      <td>0.0</td>\n",
       "      <td>0.0</td>\n",
       "      <td>0.0</td>\n",
       "      <td>0.0</td>\n",
       "      <td>0.0</td>\n",
       "      <td>0</td>\n",
       "      <td>1</td>\n",
       "      <td>0</td>\n",
       "      <td>0</td>\n",
       "    </tr>\n",
       "    <tr>\n",
       "      <th>4</th>\n",
       "      <td>274016</td>\n",
       "      <td>9</td>\n",
       "      <td>13</td>\n",
       "      <td>1285</td>\n",
       "      <td>6141.0</td>\n",
       "      <td>517</td>\n",
       "      <td>0</td>\n",
       "      <td>142.777778</td>\n",
       "      <td>183.887722</td>\n",
       "      <td>1460</td>\n",
       "      <td>...</td>\n",
       "      <td>0.0</td>\n",
       "      <td>0.0</td>\n",
       "      <td>0.0</td>\n",
       "      <td>0.0</td>\n",
       "      <td>0.0</td>\n",
       "      <td>0.0</td>\n",
       "      <td>0</td>\n",
       "      <td>1</td>\n",
       "      <td>0</td>\n",
       "      <td>0</td>\n",
       "    </tr>\n",
       "  </tbody>\n",
       "</table>\n",
       "<p>5 rows × 80 columns</p>\n",
       "</div>"
      ],
      "text/plain": [
       "   Flow Duration  Tot Fwd Pkts  Tot Bwd Pkts  TotLen Fwd Pkts  \\\n",
       "0         141385             9             7              553   \n",
       "1            281             2             1               38   \n",
       "2         279824            11            15             1086   \n",
       "3            132             2             0                0   \n",
       "4         274016             9            13             1285   \n",
       "\n",
       "   TotLen Bwd Pkts  Fwd Pkt Len Max  Fwd Pkt Len Min  Fwd Pkt Len Mean  \\\n",
       "0           3773.0              202                0         61.444444   \n",
       "1              0.0               38                0         19.000000   \n",
       "2          10527.0              385                0         98.727273   \n",
       "3              0.0                0                0          0.000000   \n",
       "4           6141.0              517                0        142.777778   \n",
       "\n",
       "   Fwd Pkt Len Std  Bwd Pkt Len Max  ...  Active Max  Active Min  Idle Mean  \\\n",
       "0        87.534438             1460  ...         0.0         0.0        0.0   \n",
       "1        26.870058                0  ...         0.0         0.0        0.0   \n",
       "2       129.392497             1460  ...         0.0         0.0        0.0   \n",
       "3         0.000000                0  ...         0.0         0.0        0.0   \n",
       "4       183.887722             1460  ...         0.0         0.0        0.0   \n",
       "\n",
       "   Idle Std  Idle Max  Idle Min  prot__0  prot__6  prot__17  target  \n",
       "0       0.0       0.0       0.0        0        1         0       0  \n",
       "1       0.0       0.0       0.0        0        1         0       0  \n",
       "2       0.0       0.0       0.0        0        1         0       0  \n",
       "3       0.0       0.0       0.0        0        1         0       0  \n",
       "4       0.0       0.0       0.0        0        1         0       0  \n",
       "\n",
       "[5 rows x 80 columns]"
      ]
     },
     "execution_count": 27,
     "metadata": {},
     "output_type": "execute_result"
    }
   ],
   "source": [
    "botnet.head()"
   ]
  },
  {
   "cell_type": "code",
   "execution_count": 28,
   "id": "0bc7fbb2",
   "metadata": {},
   "outputs": [
    {
     "data": {
      "text/plain": [
       "0    757011\n",
       "5    282310\n",
       "Name: target, dtype: int64"
      ]
     },
     "execution_count": 28,
     "metadata": {},
     "output_type": "execute_result"
    }
   ],
   "source": [
    "botnet[\"target\"].value_counts()"
   ]
  },
  {
   "cell_type": "markdown",
   "id": "d3620aaa",
   "metadata": {},
   "source": [
    "### DDoS"
   ]
  },
  {
   "cell_type": "code",
   "execution_count": 29,
   "id": "6d370f71",
   "metadata": {},
   "outputs": [],
   "source": [
    "# Reading in web attacks but dropping the unnecessary columns Flow ID, Src IP, Src Port and Dst IP\n",
    "ddos = pd.concat([pd.read_csv(\"02-20-2018.csv\"), pd.read_csv(\"02-21-2018.csv\")])\n",
    "ddos = ddos.drop([\"Flow ID\",\"Src IP\",\"Src Port\",\"Dst IP\"], axis=1)"
   ]
  },
  {
   "cell_type": "code",
   "execution_count": 30,
   "id": "beefa250",
   "metadata": {
    "scrolled": true
   },
   "outputs": [
    {
     "data": {
      "text/plain": [
       "Benign                    7733390\n",
       "DDOS attack-HOIC           686012\n",
       "DDoS attacks-LOIC-HTTP     576191\n",
       "DDOS attack-LOIC-UDP         1730\n",
       "Name: Label, dtype: int64"
      ]
     },
     "execution_count": 30,
     "metadata": {},
     "output_type": "execute_result"
    }
   ],
   "source": [
    "ddos[\"Label\"].value_counts()"
   ]
  },
  {
   "cell_type": "code",
   "execution_count": 31,
   "id": "41fd8a1b",
   "metadata": {},
   "outputs": [
    {
     "data": {
      "text/plain": [
       "1263933"
      ]
     },
     "execution_count": 31,
     "metadata": {},
     "output_type": "execute_result"
    }
   ],
   "source": [
    "686012+576191+1730"
   ]
  },
  {
   "cell_type": "code",
   "execution_count": 32,
   "id": "593e54f4",
   "metadata": {},
   "outputs": [
    {
     "name": "stdout",
     "output_type": "stream",
     "text": [
      "Missing Data: 0.409 %\n",
      "Duplicated Data: 0.69 %\n"
     ]
    }
   ],
   "source": [
    "ddos = clean_data(ddos)"
   ]
  },
  {
   "cell_type": "code",
   "execution_count": 33,
   "id": "6efd4365",
   "metadata": {},
   "outputs": [
    {
     "data": {
      "text/plain": [
       "0    7652511\n",
       "6    1246366\n",
       "Name: target, dtype: int64"
      ]
     },
     "execution_count": 33,
     "metadata": {},
     "output_type": "execute_result"
    }
   ],
   "source": [
    "ddos[\"target\"].value_counts()"
   ]
  },
  {
   "cell_type": "markdown",
   "id": "b1643143",
   "metadata": {},
   "source": [
    "## Visualization of Data Set after cleaning "
   ]
  },
  {
   "cell_type": "code",
   "execution_count": 34,
   "id": "07ea7d78",
   "metadata": {},
   "outputs": [
    {
     "data": {
      "text/html": [
       "<div>\n",
       "<style scoped>\n",
       "    .dataframe tbody tr th:only-of-type {\n",
       "        vertical-align: middle;\n",
       "    }\n",
       "\n",
       "    .dataframe tbody tr th {\n",
       "        vertical-align: top;\n",
       "    }\n",
       "\n",
       "    .dataframe thead th {\n",
       "        text-align: right;\n",
       "    }\n",
       "</style>\n",
       "<table border=\"1\" class=\"dataframe\">\n",
       "  <thead>\n",
       "    <tr style=\"text-align: right;\">\n",
       "      <th></th>\n",
       "      <th>Attack Type</th>\n",
       "      <th>Records</th>\n",
       "      <th>Percentage</th>\n",
       "    </tr>\n",
       "  </thead>\n",
       "  <tbody>\n",
       "    <tr>\n",
       "      <th>0</th>\n",
       "      <td>Benign</td>\n",
       "      <td>13303664</td>\n",
       "      <td>85.109</td>\n",
       "    </tr>\n",
       "    <tr>\n",
       "      <th>1</th>\n",
       "      <td>Brute-Force</td>\n",
       "      <td>156668</td>\n",
       "      <td>1.002</td>\n",
       "    </tr>\n",
       "    <tr>\n",
       "      <th>2</th>\n",
       "      <td>DoS</td>\n",
       "      <td>506075</td>\n",
       "      <td>3.238</td>\n",
       "    </tr>\n",
       "    <tr>\n",
       "      <th>3</th>\n",
       "      <td>Web</td>\n",
       "      <td>928</td>\n",
       "      <td>0.006</td>\n",
       "    </tr>\n",
       "    <tr>\n",
       "      <th>4</th>\n",
       "      <td>Infiltration</td>\n",
       "      <td>135270</td>\n",
       "      <td>0.865</td>\n",
       "    </tr>\n",
       "    <tr>\n",
       "      <th>5</th>\n",
       "      <td>Botnet</td>\n",
       "      <td>282310</td>\n",
       "      <td>1.806</td>\n",
       "    </tr>\n",
       "    <tr>\n",
       "      <th>6</th>\n",
       "      <td>DDoS</td>\n",
       "      <td>1246366</td>\n",
       "      <td>7.974</td>\n",
       "    </tr>\n",
       "  </tbody>\n",
       "</table>\n",
       "</div>"
      ],
      "text/plain": [
       "    Attack Type   Records  Percentage\n",
       "0        Benign  13303664      85.109\n",
       "1   Brute-Force    156668       1.002\n",
       "2           DoS    506075       3.238\n",
       "3           Web       928       0.006\n",
       "4  Infiltration    135270       0.865\n",
       "5        Botnet    282310       1.806\n",
       "6          DDoS   1246366       7.974"
      ]
     },
     "execution_count": 34,
     "metadata": {},
     "output_type": "execute_result"
    }
   ],
   "source": [
    "# Calculate sum of benign records across partitions\n",
    "benign_records = bruteforce[\"target\"].value_counts()[0] + dos[\"target\"].value_counts()[0] + \\\n",
    "                 web[\"target\"].value_counts()[0] + infl[\"target\"].value_counts()[0] + \\\n",
    "                 botnet[\"target\"].value_counts()[0] + ddos[\"target\"].value_counts()[0]\n",
    "\n",
    "# Get the number of attack records in each parition after cleaning \n",
    "brute_force_attacks = bruteforce[\"target\"].value_counts()[1]\n",
    "dos_attacks = dos[\"target\"].value_counts()[2]\n",
    "web_attacks = web[\"target\"].value_counts()[3]\n",
    "infl_attacks = infl[\"target\"].value_counts()[4]\n",
    "botnet_attacks = botnet[\"target\"].value_counts()[5]\n",
    "ddos_attacks = ddos[\"target\"].value_counts()[6]\n",
    "\n",
    "org_distribution = pd.DataFrame({\"Attack Type\":[\"Benign\",\"Brute-Force\",\"DoS\",\"Web\",\"Infiltration\",\"Botnet\",\"DDoS\"],\n",
    "                             \"Records\":[benign_records, brute_force_attacks, dos_attacks, web_attacks,\n",
    "                                         infl_attacks, botnet_attacks, ddos_attacks]})\n",
    "\n",
    "org_distribution[\"Percentage\"] = round(org_distribution[\"Records\"]/org_distribution[\"Records\"].sum()*100,3)\n",
    "\n",
    "org_distribution"
   ]
  },
  {
   "cell_type": "markdown",
   "id": "cc360715",
   "metadata": {},
   "source": [
    "## Data Set with undersampling"
   ]
  },
  {
   "cell_type": "markdown",
   "id": "b86c1366",
   "metadata": {},
   "source": [
    "For the undersampling dataset we will balance classes by selecting records of each class equal to the number of classes in the class which appears the least (Web attack class with 928 instances). We will also choose a number of benign classes from each day equal to the proportion of total benign classes they represented in the original dataset."
   ]
  },
  {
   "cell_type": "markdown",
   "id": "58fd15c6",
   "metadata": {},
   "source": [
    "num_ben_in_one_class / total_number_of_benign_classes_in_original_data_set"
   ]
  },
  {
   "cell_type": "code",
   "execution_count": 35,
   "id": "3eed0936",
   "metadata": {
    "scrolled": true
   },
   "outputs": [],
   "source": [
    "bruteforce_sample = bruteforce.loc[bruteforce[\"target\"]==1].sample(n=928).copy()\n",
    "dos_sample = dos.loc[dos[\"target\"]==2].sample(n=928).copy()\n",
    "web_sample = web.loc[web[\"target\"]==3].sample(n=928).copy()\n",
    "infl_sample = infl.loc[infl[\"target\"]==4].sample(n=928).copy()\n",
    "botnet_sample = botnet.loc[botnet[\"target\"]==5].sample(n=928).copy()\n",
    "ddos_sample = ddos.loc[ddos[\"target\"]==6].sample(n=928).copy()"
   ]
  },
  {
   "cell_type": "code",
   "execution_count": 36,
   "id": "34d5b3aa",
   "metadata": {},
   "outputs": [],
   "source": [
    "bruteforce_benign = bruteforce.loc[bruteforce[\"target\"]==0].copy()\n",
    "dos_benign = dos.loc[dos[\"target\"]==0].copy()\n",
    "web_benign = web.loc[web[\"target\"]==0].copy()\n",
    "infl_benign = infl.loc[infl[\"target\"]==0].copy()\n",
    "botnet_benign = botnet.loc[botnet[\"target\"]==0].copy()\n",
    "ddos_benign = ddos.loc[ddos[\"target\"]==0].copy()"
   ]
  },
  {
   "cell_type": "code",
   "execution_count": 37,
   "id": "5f1c6796",
   "metadata": {},
   "outputs": [],
   "source": [
    "total_benign = len(bruteforce_benign) + len(dos_benign) + len(web_benign) + len(infl_benign) + len(botnet_benign) + len(ddos_benign)"
   ]
  },
  {
   "cell_type": "code",
   "execution_count": 38,
   "id": "4a18825d",
   "metadata": {},
   "outputs": [],
   "source": [
    "bruteforce_ratio = len(bruteforce_benign)/total_benign\n",
    "dos_ratio = len(dos_benign)/total_benign\n",
    "web_ratio = len(web_benign)/total_benign\n",
    "infl_ratio = len(infl_benign)/total_benign\n",
    "botnet_ratio = len(botnet_benign)/total_benign\n",
    "ddos_ratio = len(ddos_benign)/total_benign"
   ]
  },
  {
   "cell_type": "code",
   "execution_count": 39,
   "id": "8e1b8482",
   "metadata": {},
   "outputs": [],
   "source": [
    "bruteforce_benign = bruteforce_benign.sample(n = int(bruteforce_ratio*928))\n",
    "dos_benign = dos_benign.sample(n = int(dos_ratio*928))\n",
    "web_benign = web_benign.sample(n = int(web_ratio*928))\n",
    "infl_benign = infl_benign.sample(n = int(infl_ratio*928))\n",
    "botnet_benign = botnet_benign.sample(n = int(botnet_ratio*928))\n",
    "ddos_benign = ddos_benign.sample(n = int(ddos_ratio*928))"
   ]
  },
  {
   "cell_type": "markdown",
   "id": "685b530d",
   "metadata": {},
   "source": [
    "To check if the combination has resulted in the correct number of benign class instances"
   ]
  },
  {
   "cell_type": "code",
   "execution_count": 40,
   "id": "eb7c47c0",
   "metadata": {},
   "outputs": [
    {
     "data": {
      "text/plain": [
       "926"
      ]
     },
     "execution_count": 40,
     "metadata": {},
     "output_type": "execute_result"
    }
   ],
   "source": [
    "len(bruteforce_benign) + len(dos_benign) + len(web_benign) + len(infl_benign) + len(botnet_benign) + len(ddos_benign) "
   ]
  },
  {
   "cell_type": "code",
   "execution_count": 41,
   "id": "b1117559",
   "metadata": {},
   "outputs": [],
   "source": [
    "benign_sample = pd.concat([bruteforce_benign, dos_benign, web_benign, infl_benign, botnet_benign, ddos_benign],axis=0)"
   ]
  },
  {
   "cell_type": "code",
   "execution_count": 42,
   "id": "f66cac01",
   "metadata": {},
   "outputs": [],
   "source": [
    "undersampled_dataset = pd.concat([benign_sample,bruteforce_sample, dos_sample, web_sample, infl_sample, botnet_sample, ddos_sample],axis=0).sample(frac = 1)"
   ]
  },
  {
   "cell_type": "code",
   "execution_count": 43,
   "id": "f1a73344",
   "metadata": {},
   "outputs": [
    {
     "data": {
      "text/html": [
       "<div>\n",
       "<style scoped>\n",
       "    .dataframe tbody tr th:only-of-type {\n",
       "        vertical-align: middle;\n",
       "    }\n",
       "\n",
       "    .dataframe tbody tr th {\n",
       "        vertical-align: top;\n",
       "    }\n",
       "\n",
       "    .dataframe thead th {\n",
       "        text-align: right;\n",
       "    }\n",
       "</style>\n",
       "<table border=\"1\" class=\"dataframe\">\n",
       "  <thead>\n",
       "    <tr style=\"text-align: right;\">\n",
       "      <th></th>\n",
       "      <th>Attack Type</th>\n",
       "      <th>Records</th>\n",
       "      <th>Percentage</th>\n",
       "    </tr>\n",
       "  </thead>\n",
       "  <tbody>\n",
       "    <tr>\n",
       "      <th>0</th>\n",
       "      <td>Benign</td>\n",
       "      <td>926</td>\n",
       "      <td>14.259</td>\n",
       "    </tr>\n",
       "    <tr>\n",
       "      <th>1</th>\n",
       "      <td>Brute-Force</td>\n",
       "      <td>928</td>\n",
       "      <td>14.290</td>\n",
       "    </tr>\n",
       "    <tr>\n",
       "      <th>2</th>\n",
       "      <td>DoS</td>\n",
       "      <td>928</td>\n",
       "      <td>14.290</td>\n",
       "    </tr>\n",
       "    <tr>\n",
       "      <th>3</th>\n",
       "      <td>Web</td>\n",
       "      <td>928</td>\n",
       "      <td>14.290</td>\n",
       "    </tr>\n",
       "    <tr>\n",
       "      <th>4</th>\n",
       "      <td>Infiltration</td>\n",
       "      <td>928</td>\n",
       "      <td>14.290</td>\n",
       "    </tr>\n",
       "    <tr>\n",
       "      <th>5</th>\n",
       "      <td>Botnet</td>\n",
       "      <td>928</td>\n",
       "      <td>14.290</td>\n",
       "    </tr>\n",
       "    <tr>\n",
       "      <th>6</th>\n",
       "      <td>DDoS</td>\n",
       "      <td>928</td>\n",
       "      <td>14.290</td>\n",
       "    </tr>\n",
       "  </tbody>\n",
       "</table>\n",
       "</div>"
      ],
      "text/plain": [
       "    Attack Type  Records  Percentage\n",
       "0        Benign      926      14.259\n",
       "1   Brute-Force      928      14.290\n",
       "2           DoS      928      14.290\n",
       "3           Web      928      14.290\n",
       "4  Infiltration      928      14.290\n",
       "5        Botnet      928      14.290\n",
       "6          DDoS      928      14.290"
      ]
     },
     "execution_count": 43,
     "metadata": {},
     "output_type": "execute_result"
    }
   ],
   "source": [
    "new_distribtuion = pd.DataFrame({'Attack Type':[\"Benign\",\"Brute-Force\",\"DoS\",\"Web\",\"Infiltration\",\"Botnet\",\"DDoS\"],\n",
    "                                 'Records': undersampled_dataset['target'].value_counts().sort_index().values})\n",
    "\n",
    "new_distribtuion[\"Percentage\"] = round(new_distribtuion[\"Records\"]/new_distribtuion[\"Records\"].sum()*100,3)\n",
    "new_distribtuion"
   ]
  },
  {
   "cell_type": "code",
   "execution_count": 44,
   "id": "b576fd8d",
   "metadata": {
    "scrolled": false
   },
   "outputs": [
    {
     "data": {
      "image/png": "[encoded data removed]",
      "text/plain": [
       "<Figure size 7500x3000 with 2 Axes>"
      ]
     },
     "metadata": {
      "needs_background": "light"
     },
     "output_type": "display_data"
    }
   ],
   "source": [
    "fig,ax = plt.subplots(nrows=1,ncols=2, figsize=(15,6),dpi=500)\n",
    "\n",
    "sns.barplot(x=\"Attack Type\", y = 'Percentage', data = org_distribution, palette='Blues_d', ax=ax[0])\n",
    "sns.barplot(x=\"Attack Type\", y = 'Percentage', data = new_distribtuion, palette='Blues_d', ax=ax[1])\n",
    "\n",
    "ax[0].set_title(\"CSE-CIC-IDS2018 Class Distribution\")\n",
    "ax[1].set_title(\"CSE-CIC-IDS2018 Class Distribution with Undersampling\")\n",
    "ax[0].set_xlabel(\"\")\n",
    "\n",
    "ax[1].set_xlabel(\"\")\n",
    "ax[1].set_ylabel(\"\")\n",
    "plt.savefig('dist1.png')\n",
    "plt.show()"
   ]
  },
  {
   "cell_type": "code",
   "execution_count": 45,
   "id": "905dea47",
   "metadata": {},
   "outputs": [],
   "source": [
    "undersampled_dataset.to_csv(\"undersampled_cic.csv\", index=False)"
   ]
  },
  {
   "cell_type": "code",
   "execution_count": null,
   "id": "a89a8a35",
   "metadata": {},
   "outputs": [],
   "source": []
  },
  {
   "cell_type": "code",
   "execution_count": null,
   "id": "37f1ba89",
   "metadata": {},
   "outputs": [],
   "source": []
  }
 ],
 "metadata": {
  "kernelspec": {
   "display_name": "Python 3.9 (tensorflow)",
   "language": "python",
   "name": "tensorflow"
  },
  "language_info": {
   "codemirror_mode": {
    "name": "ipython",
    "version": 3
   },
   "file_extension": ".py",
   "mimetype": "text/x-python",
   "name": "python",
   "nbconvert_exporter": "python",
   "pygments_lexer": "ipython3",
   "version": "3.9.7"
  }
 },
 "nbformat": 4,
 "nbformat_minor": 5
}
