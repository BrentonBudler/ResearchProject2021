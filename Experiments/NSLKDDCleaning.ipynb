{
 "cells": [
  {
   "cell_type": "markdown",
   "id": "1bc58334",
   "metadata": {},
   "source": [
    "# NSLKDD Dataset Cleaning"
   ]
  },
  {
   "cell_type": "code",
   "execution_count": 7,
   "id": "3e586a47",
   "metadata": {},
   "outputs": [],
   "source": [
    "import numpy as np\n",
    "import pandas as pd \n",
    "import matplotlib.pyplot as plt \n",
    "import seaborn as sns "
   ]
  },
  {
   "cell_type": "markdown",
   "id": "5ce5871e",
   "metadata": {},
   "source": [
    "The features spreadsheet contains  the name of each feature as well as a brief description of what information each feature stores. "
   ]
  },
  {
   "cell_type": "code",
   "execution_count": 8,
   "id": "10c6bec8",
   "metadata": {
    "scrolled": true
   },
   "outputs": [
    {
     "data": {
      "text/html": [
       "<div>\n",
       "<style scoped>\n",
       "    .dataframe tbody tr th:only-of-type {\n",
       "        vertical-align: middle;\n",
       "    }\n",
       "\n",
       "    .dataframe tbody tr th {\n",
       "        vertical-align: top;\n",
       "    }\n",
       "\n",
       "    .dataframe thead th {\n",
       "        text-align: right;\n",
       "    }\n",
       "</style>\n",
       "<table border=\"1\" class=\"dataframe\">\n",
       "  <thead>\n",
       "    <tr style=\"text-align: right;\">\n",
       "      <th></th>\n",
       "      <th>Feature</th>\n",
       "      <th>Feature Name</th>\n",
       "      <th>Description</th>\n",
       "      <th>Type</th>\n",
       "      <th>Value Type</th>\n",
       "      <th>Ranges (Between both train and test)</th>\n",
       "    </tr>\n",
       "    <tr>\n",
       "      <th>#</th>\n",
       "      <th></th>\n",
       "      <th></th>\n",
       "      <th></th>\n",
       "      <th></th>\n",
       "      <th></th>\n",
       "      <th></th>\n",
       "    </tr>\n",
       "  </thead>\n",
       "  <tbody>\n",
       "    <tr>\n",
       "      <th>1</th>\n",
       "      <td>duration</td>\n",
       "      <td>Duration</td>\n",
       "      <td>Length of time duration of the connection</td>\n",
       "      <td>Continuous</td>\n",
       "      <td>Integers</td>\n",
       "      <td>0 - 54451</td>\n",
       "    </tr>\n",
       "    <tr>\n",
       "      <th>2</th>\n",
       "      <td>protocol_type</td>\n",
       "      <td>Protocol Type</td>\n",
       "      <td>Protocol used in the connection</td>\n",
       "      <td>Categorical</td>\n",
       "      <td>Strings</td>\n",
       "      <td>NaN</td>\n",
       "    </tr>\n",
       "    <tr>\n",
       "      <th>3</th>\n",
       "      <td>service</td>\n",
       "      <td>Service</td>\n",
       "      <td>Destination network service used</td>\n",
       "      <td>Categorical</td>\n",
       "      <td>Strings</td>\n",
       "      <td>NaN</td>\n",
       "    </tr>\n",
       "    <tr>\n",
       "      <th>4</th>\n",
       "      <td>flag</td>\n",
       "      <td>Flag</td>\n",
       "      <td>Status of the connection – Normal or Error</td>\n",
       "      <td>Categorical</td>\n",
       "      <td>Strings</td>\n",
       "      <td>NaN</td>\n",
       "    </tr>\n",
       "    <tr>\n",
       "      <th>5</th>\n",
       "      <td>src_bytes</td>\n",
       "      <td>Src Bytes</td>\n",
       "      <td>Number of data bytes transferred from source t...</td>\n",
       "      <td>Continuous</td>\n",
       "      <td>Integers</td>\n",
       "      <td>0 - 1379963888</td>\n",
       "    </tr>\n",
       "  </tbody>\n",
       "</table>\n",
       "</div>"
      ],
      "text/plain": [
       "         Feature   Feature Name  \\\n",
       "#                                 \n",
       "1       duration       Duration   \n",
       "2  protocol_type  Protocol Type   \n",
       "3        service        Service   \n",
       "4           flag           Flag   \n",
       "5      src_bytes      Src Bytes   \n",
       "\n",
       "                                         Description         Type Value Type  \\\n",
       "#                                                                              \n",
       "1          Length of time duration of the connection   Continuous   Integers   \n",
       "2                    Protocol used in the connection  Categorical    Strings   \n",
       "3                   Destination network service used  Categorical    Strings   \n",
       "4         Status of the connection – Normal or Error  Categorical    Strings   \n",
       "5  Number of data bytes transferred from source t...   Continuous   Integers   \n",
       "\n",
       "  Ranges (Between both train and test)  \n",
       "#                                       \n",
       "1                           0 - 54451   \n",
       "2                                  NaN  \n",
       "3                                  NaN  \n",
       "4                                  NaN  \n",
       "5                      0 - 1379963888   "
      ]
     },
     "execution_count": 8,
     "metadata": {},
     "output_type": "execute_result"
    }
   ],
   "source": [
    "features_df = pd.read_excel(\"Features.xlsx\",index_col=\"#\")\n",
    "features_df.head()"
   ]
  },
  {
   "cell_type": "markdown",
   "id": "c1faac7c",
   "metadata": {},
   "source": [
    "The \"Feature\" column of this dataframe can be used to create a list of the features in the same order they appear in the dataset."
   ]
  },
  {
   "cell_type": "code",
   "execution_count": 9,
   "id": "88b43796",
   "metadata": {},
   "outputs": [
    {
     "data": {
      "text/plain": [
       "array(['duration', 'protocol_type', 'service', 'flag', 'src_bytes',\n",
       "       'dst_bytes', 'land', 'wrong_fragment', 'urgent', 'hot',\n",
       "       'num_failed_logins', 'logged_in', 'num_compromised', 'root_shell',\n",
       "       'su_attempted', 'num_root', 'num_file_creations', 'num_shells',\n",
       "       'num_access_files', 'num_outbound_cmds', 'is_hot_login',\n",
       "       'is_guest_login', 'count', 'srv_count', 'serror_rate',\n",
       "       'srv_serror_rate', 'rerror_rate', 'srv_rerror_rate',\n",
       "       'same_srv_rate', 'diff_srv_rate', 'srv_diff_host_rate',\n",
       "       'dst_host_count', 'dst_host_srv_count', 'dst_host_same_srv_rate',\n",
       "       'dst_host_diff_srv_rate', 'dst_host_same_src_port_rate',\n",
       "       'dst_host_srv_diff_host_rate', 'dst_host_serror_rate',\n",
       "       'dst_host_srv_serror_rate', 'dst_host_rerror_rate',\n",
       "       'dst_host_srv_rerror_rate', 'class', 'difficulty_level'],\n",
       "      dtype=object)"
      ]
     },
     "execution_count": 9,
     "metadata": {},
     "output_type": "execute_result"
    }
   ],
   "source": [
    "feature_list = features_df[\"Feature\"].values\n",
    "feature_list"
   ]
  },
  {
   "cell_type": "code",
   "execution_count": 10,
   "id": "2af090f5",
   "metadata": {},
   "outputs": [
    {
     "data": {
      "text/plain": [
       "43"
      ]
     },
     "execution_count": 10,
     "metadata": {},
     "output_type": "execute_result"
    }
   ],
   "source": [
    "len(feature_list)"
   ]
  },
  {
   "cell_type": "markdown",
   "id": "f7da45e3",
   "metadata": {},
   "source": [
    "Of these features the following are categorical and require encoding:\n",
    "* <code>protocol_type</code>: Protocol used in the connection (3 categories)\n",
    "* <code>service</code>: Destination network service used (70 categories)\n",
    "* <code>flag</code>:  Status of the connection (11 categories)\n",
    "* <code>class</code>: Classification of the traffic input (23 categories)"
   ]
  },
  {
   "cell_type": "markdown",
   "id": "1c42ab8d",
   "metadata": {},
   "source": [
    "The <code>class</code> feature contains all attack types which needs to be encoded for five-class classification."
   ]
  },
  {
   "cell_type": "code",
   "execution_count": 11,
   "id": "ddc23799",
   "metadata": {},
   "outputs": [],
   "source": [
    "# Five class classification \n",
    "DoS_attacks = ['back','land','neptune','teardrop','smurf','pod','apache2','processtable','mailbomb','worm','udpstorm']\n",
    "Probe_attacks = ['ipsweep','portsweep','nmap','satan','saint','mscan']\n",
    "U2R_attacks = ['rootkit','buffer_overflow','loadmodule','perl','ps','xterm','sqlattack']\n",
    "R2L_attacks = ['warezclient','guess_passwd','ftp_write','multihop','imap','warezmaster','phf','spy','snmpgetattack',\n",
    "              'httptunnel','snmpguess','named','sendmail','xlock','xsnoop'] "
   ]
  },
  {
   "cell_type": "code",
   "execution_count": 12,
   "id": "20375ff6",
   "metadata": {},
   "outputs": [],
   "source": [
    "def encode_target(class_feature):\n",
    "    \"\"\"Returns the encoded integer for five-class classification\n",
    "       0 - Benign \n",
    "       1 - DoS Attack \n",
    "       2 - Probe Attack\n",
    "       3 - U2R Attack \n",
    "       4 - R2L Attack\"\"\"\n",
    "    \n",
    "    if class_feature == \"normal\": return 0\n",
    "    elif class_feature in DoS_attacks: return 1 \n",
    "    elif class_feature in Probe_attacks: return 2\n",
    "    elif class_feature in U2R_attacks: return 3\n",
    "    elif class_feature in R2L_attacks: return 4\n",
    "    else: return np.nan"
   ]
  },
  {
   "cell_type": "code",
   "execution_count": 13,
   "id": "c81eceb7",
   "metadata": {},
   "outputs": [],
   "source": [
    "def clean_nslkdd_dataset(data):\n",
    "\n",
    "    # Drop difficulty level as it was derived \n",
    "    data = data.drop(\"difficulty_level\", axis=1)\n",
    "\n",
    "    # Drop num_outbounds_cmds as it always zero\n",
    "    data = data.drop(\"num_outbound_cmds\", axis=1)\n",
    "\n",
    "    # Encode categorical features using one-hot encoding \n",
    "    dum_df = pd.get_dummies(data[[\"protocol_type\",\"service\",\"flag\"]])\n",
    "    data = data.drop([\"protocol_type\",\"service\",\"flag\"],axis=1)\n",
    "    data = pd.concat([data,dum_df],axis=1)\n",
    "    \n",
    "    # Create Five-class Classification Target\n",
    "    data[\"target\"] = np.vectorize(encode_target)(data[\"class\"])\n",
    "    \n",
    "    # Drop original class feature\n",
    "    data = data.drop(\"class\", axis=1)\n",
    "    \n",
    "    # Return cleaned data set\n",
    "    return data "
   ]
  },
  {
   "cell_type": "markdown",
   "id": "c0bb15b8",
   "metadata": {},
   "source": [
    "Reading in and cleaning the train and test data"
   ]
  },
  {
   "cell_type": "code",
   "execution_count": 14,
   "id": "e5411605",
   "metadata": {},
   "outputs": [],
   "source": [
    "train_data = pd.read_csv(\"KDDTrain+.txt\",names = feature_list)\n",
    "test_data = pd.read_csv(\"KDDTest+.txt\",names = feature_list)"
   ]
  },
  {
   "cell_type": "code",
   "execution_count": 15,
   "id": "8e333d9d",
   "metadata": {},
   "outputs": [],
   "source": [
    "combined_data = pd.concat([train_data,test_data])\n",
    "cleaned_data = clean_nslkdd_dataset(combined_data)\n",
    "cleaned_train_data = cleaned_data[0:len(train_data)]\n",
    "cleaned_test_data = cleaned_data[len(train_data):]"
   ]
  },
  {
   "cell_type": "markdown",
   "id": "b66de559",
   "metadata": {},
   "source": [
    "Exploring the target class distribution in both the train and test data"
   ]
  },
  {
   "cell_type": "code",
   "execution_count": 16,
   "id": "74628ac2",
   "metadata": {
    "scrolled": true
   },
   "outputs": [
    {
     "data": {
      "text/plain": [
       "0    67343\n",
       "1    45927\n",
       "2    11656\n",
       "3       52\n",
       "4      995\n",
       "Name: target, dtype: int64"
      ]
     },
     "execution_count": 16,
     "metadata": {},
     "output_type": "execute_result"
    }
   ],
   "source": [
    "cleaned_train_data[\"target\"].value_counts().sort_index()"
   ]
  },
  {
   "cell_type": "code",
   "execution_count": 18,
   "id": "491c8a4a",
   "metadata": {},
   "outputs": [
    {
     "data": {
      "text/plain": [
       "(125973, 122)"
      ]
     },
     "execution_count": 18,
     "metadata": {},
     "output_type": "execute_result"
    }
   ],
   "source": [
    "cleaned_train_data.shape"
   ]
  },
  {
   "cell_type": "code",
   "execution_count": 108,
   "id": "5fb03f67",
   "metadata": {},
   "outputs": [
    {
     "data": {
      "text/plain": [
       "0    9711\n",
       "1    7460\n",
       "2    2421\n",
       "3      67\n",
       "4    2885\n",
       "Name: target, dtype: int64"
      ]
     },
     "execution_count": 108,
     "metadata": {},
     "output_type": "execute_result"
    }
   ],
   "source": [
    "cleaned_test_data[\"target\"].value_counts().sort_index()"
   ]
  },
  {
   "cell_type": "code",
   "execution_count": 109,
   "id": "8f6c9ee1",
   "metadata": {},
   "outputs": [
    {
     "data": {
      "image/png": "[encoded data removed]",
      "text/plain": [
       "<Figure size 720x360 with 2 Axes>"
      ]
     },
     "metadata": {
      "needs_background": "light"
     },
     "output_type": "display_data"
    }
   ],
   "source": [
    "fig , axs = plt.subplots(nrows=1,ncols=2, figsize=(10,5))\n",
    "\n",
    "fig.suptitle(\"Target Class Distribution\")\n",
    "\n",
    "sns.countplot(x = 'target', data = cleaned_train_data, ax=axs[0])\n",
    "axs[0].set_title(\"Train Data\")\n",
    "\n",
    "sns.countplot(x = 'target', data = cleaned_test_data, ax=axs[1])\n",
    "axs[1].set_title(\"Test Data\")\n",
    "\n",
    "plt.tight_layout()\n",
    "plt.show()"
   ]
  },
  {
   "cell_type": "code",
   "execution_count": 15,
   "id": "d000e655",
   "metadata": {},
   "outputs": [],
   "source": [
    "# Exporting Data \n",
    "cleaned_train_data.to_csv(\"nslkdd_train_cleaned.csv\",index=False)\n",
    "cleaned_test_data.to_csv(\"nslkdd_test_cleaned.csv\",index=False)"
   ]
  }
 ],
 "metadata": {
  "kernelspec": {
   "display_name": "Python 3.9 (tensorflow)",
   "language": "python",
   "name": "tensorflow"
  },
  "language_info": {
   "codemirror_mode": {
    "name": "ipython",
    "version": 3
   },
   "file_extension": ".py",
   "mimetype": "text/x-python",
   "name": "python",
   "nbconvert_exporter": "python",
   "pygments_lexer": "ipython3",
   "version": "3.9.7"
  }
 },
 "nbformat": 4,
 "nbformat_minor": 5
}
