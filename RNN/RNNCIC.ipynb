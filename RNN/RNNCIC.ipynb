{
 "cells": [
  {
   "cell_type": "code",
   "execution_count": 16,
   "id": "09d168d0",
   "metadata": {},
   "outputs": [],
   "source": [
    "import tensorflow as tf \n",
    "import numpy as np\n",
    "import pandas as pd \n",
    "import matplotlib.pyplot as plt \n",
    "import seaborn as sns \n",
    "\n",
    "from sklearn.model_selection import train_test_split\n",
    "from sklearn.preprocessing import MinMaxScaler\n",
    "from sklearn.metrics import classification_report, confusion_matrix\n",
    "from sklearn.linear_model import LogisticRegression\n",
    "\n",
    "from tensorflow.keras.models import Sequential\n",
    "from tensorflow.keras.layers import Dense, Dropout, LSTM\n",
    "#from tensorflow.keras.optimizers import SGD\n",
    "from tensorflow.keras import regularizers\n",
    "from keras.layers import CuDNNLSTM"
   ]
  },
  {
   "cell_type": "code",
   "execution_count": 17,
   "id": "53044368",
   "metadata": {},
   "outputs": [
    {
     "data": {
      "text/html": [
       "<div>\n",
       "<style scoped>\n",
       "    .dataframe tbody tr th:only-of-type {\n",
       "        vertical-align: middle;\n",
       "    }\n",
       "\n",
       "    .dataframe tbody tr th {\n",
       "        vertical-align: top;\n",
       "    }\n",
       "\n",
       "    .dataframe thead th {\n",
       "        text-align: right;\n",
       "    }\n",
       "</style>\n",
       "<table border=\"1\" class=\"dataframe\">\n",
       "  <thead>\n",
       "    <tr style=\"text-align: right;\">\n",
       "      <th></th>\n",
       "      <th>Flow Duration</th>\n",
       "      <th>Tot Fwd Pkts</th>\n",
       "      <th>Tot Bwd Pkts</th>\n",
       "      <th>TotLen Fwd Pkts</th>\n",
       "      <th>TotLen Bwd Pkts</th>\n",
       "      <th>Fwd Pkt Len Max</th>\n",
       "      <th>Fwd Pkt Len Min</th>\n",
       "      <th>Fwd Pkt Len Mean</th>\n",
       "      <th>Fwd Pkt Len Std</th>\n",
       "      <th>Bwd Pkt Len Max</th>\n",
       "      <th>...</th>\n",
       "      <th>Active Max</th>\n",
       "      <th>Active Min</th>\n",
       "      <th>Idle Mean</th>\n",
       "      <th>Idle Std</th>\n",
       "      <th>Idle Max</th>\n",
       "      <th>Idle Min</th>\n",
       "      <th>protocol__0</th>\n",
       "      <th>protocol__6</th>\n",
       "      <th>protocol__17</th>\n",
       "      <th>target</th>\n",
       "    </tr>\n",
       "  </thead>\n",
       "  <tbody>\n",
       "    <tr>\n",
       "      <th>0</th>\n",
       "      <td>551</td>\n",
       "      <td>2</td>\n",
       "      <td>0</td>\n",
       "      <td>0.0</td>\n",
       "      <td>0.0</td>\n",
       "      <td>0.0</td>\n",
       "      <td>0.0</td>\n",
       "      <td>0.000000</td>\n",
       "      <td>0.000000</td>\n",
       "      <td>0.0</td>\n",
       "      <td>...</td>\n",
       "      <td>0.0</td>\n",
       "      <td>0.0</td>\n",
       "      <td>0.000000e+00</td>\n",
       "      <td>0.000000</td>\n",
       "      <td>0.0</td>\n",
       "      <td>0.0</td>\n",
       "      <td>0</td>\n",
       "      <td>1</td>\n",
       "      <td>0</td>\n",
       "      <td>3</td>\n",
       "    </tr>\n",
       "    <tr>\n",
       "      <th>1</th>\n",
       "      <td>112638867</td>\n",
       "      <td>3</td>\n",
       "      <td>0</td>\n",
       "      <td>0.0</td>\n",
       "      <td>0.0</td>\n",
       "      <td>0.0</td>\n",
       "      <td>0.0</td>\n",
       "      <td>0.000000</td>\n",
       "      <td>0.000000</td>\n",
       "      <td>0.0</td>\n",
       "      <td>...</td>\n",
       "      <td>0.0</td>\n",
       "      <td>0.0</td>\n",
       "      <td>5.631943e+07</td>\n",
       "      <td>1679.378605</td>\n",
       "      <td>56320621.0</td>\n",
       "      <td>56318246.0</td>\n",
       "      <td>1</td>\n",
       "      <td>0</td>\n",
       "      <td>0</td>\n",
       "      <td>3</td>\n",
       "    </tr>\n",
       "    <tr>\n",
       "      <th>2</th>\n",
       "      <td>8966</td>\n",
       "      <td>3</td>\n",
       "      <td>4</td>\n",
       "      <td>326.0</td>\n",
       "      <td>129.0</td>\n",
       "      <td>326.0</td>\n",
       "      <td>0.0</td>\n",
       "      <td>108.666667</td>\n",
       "      <td>188.216188</td>\n",
       "      <td>112.0</td>\n",
       "      <td>...</td>\n",
       "      <td>0.0</td>\n",
       "      <td>0.0</td>\n",
       "      <td>0.000000e+00</td>\n",
       "      <td>0.000000</td>\n",
       "      <td>0.0</td>\n",
       "      <td>0.0</td>\n",
       "      <td>0</td>\n",
       "      <td>1</td>\n",
       "      <td>0</td>\n",
       "      <td>5</td>\n",
       "    </tr>\n",
       "    <tr>\n",
       "      <th>3</th>\n",
       "      <td>111816159</td>\n",
       "      <td>17</td>\n",
       "      <td>23</td>\n",
       "      <td>2872.0</td>\n",
       "      <td>1709.0</td>\n",
       "      <td>1460.0</td>\n",
       "      <td>0.0</td>\n",
       "      <td>168.941176</td>\n",
       "      <td>474.948217</td>\n",
       "      <td>428.0</td>\n",
       "      <td>...</td>\n",
       "      <td>578105.0</td>\n",
       "      <td>63064.0</td>\n",
       "      <td>9.999056e+06</td>\n",
       "      <td>23491.769152</td>\n",
       "      <td>10014914.0</td>\n",
       "      <td>9952970.0</td>\n",
       "      <td>0</td>\n",
       "      <td>1</td>\n",
       "      <td>0</td>\n",
       "      <td>0</td>\n",
       "    </tr>\n",
       "    <tr>\n",
       "      <th>4</th>\n",
       "      <td>369756</td>\n",
       "      <td>22</td>\n",
       "      <td>22</td>\n",
       "      <td>1976.0</td>\n",
       "      <td>2665.0</td>\n",
       "      <td>640.0</td>\n",
       "      <td>0.0</td>\n",
       "      <td>89.818182</td>\n",
       "      <td>138.033687</td>\n",
       "      <td>976.0</td>\n",
       "      <td>...</td>\n",
       "      <td>0.0</td>\n",
       "      <td>0.0</td>\n",
       "      <td>0.000000e+00</td>\n",
       "      <td>0.000000</td>\n",
       "      <td>0.0</td>\n",
       "      <td>0.0</td>\n",
       "      <td>0</td>\n",
       "      <td>1</td>\n",
       "      <td>0</td>\n",
       "      <td>1</td>\n",
       "    </tr>\n",
       "  </tbody>\n",
       "</table>\n",
       "<p>5 rows × 80 columns</p>\n",
       "</div>"
      ],
      "text/plain": [
       "   Flow Duration  Tot Fwd Pkts  Tot Bwd Pkts  TotLen Fwd Pkts  \\\n",
       "0            551             2             0              0.0   \n",
       "1      112638867             3             0              0.0   \n",
       "2           8966             3             4            326.0   \n",
       "3      111816159            17            23           2872.0   \n",
       "4         369756            22            22           1976.0   \n",
       "\n",
       "   TotLen Bwd Pkts  Fwd Pkt Len Max  Fwd Pkt Len Min  Fwd Pkt Len Mean  \\\n",
       "0              0.0              0.0              0.0          0.000000   \n",
       "1              0.0              0.0              0.0          0.000000   \n",
       "2            129.0            326.0              0.0        108.666667   \n",
       "3           1709.0           1460.0              0.0        168.941176   \n",
       "4           2665.0            640.0              0.0         89.818182   \n",
       "\n",
       "   Fwd Pkt Len Std  Bwd Pkt Len Max  ...  Active Max  Active Min  \\\n",
       "0         0.000000              0.0  ...         0.0         0.0   \n",
       "1         0.000000              0.0  ...         0.0         0.0   \n",
       "2       188.216188            112.0  ...         0.0         0.0   \n",
       "3       474.948217            428.0  ...    578105.0     63064.0   \n",
       "4       138.033687            976.0  ...         0.0         0.0   \n",
       "\n",
       "      Idle Mean      Idle Std    Idle Max    Idle Min  protocol__0  \\\n",
       "0  0.000000e+00      0.000000         0.0         0.0            0   \n",
       "1  5.631943e+07   1679.378605  56320621.0  56318246.0            1   \n",
       "2  0.000000e+00      0.000000         0.0         0.0            0   \n",
       "3  9.999056e+06  23491.769152  10014914.0   9952970.0            0   \n",
       "4  0.000000e+00      0.000000         0.0         0.0            0   \n",
       "\n",
       "   protocol__6  protocol__17  target  \n",
       "0            1             0       3  \n",
       "1            0             0       3  \n",
       "2            1             0       5  \n",
       "3            1             0       0  \n",
       "4            1             0       1  \n",
       "\n",
       "[5 rows x 80 columns]"
      ]
     },
     "execution_count": 17,
     "metadata": {},
     "output_type": "execute_result"
    }
   ],
   "source": [
    "data = pd.read_csv(\"undersampled_cic.csv\")\n",
    "data.head()"
   ]
  },
  {
   "cell_type": "code",
   "execution_count": 18,
   "id": "58ff6ea1",
   "metadata": {},
   "outputs": [],
   "source": [
    "X = data.drop(\"target\",axis=1).values\n",
    "y = data[\"target\"].values\n",
    "\n",
    "X_train, X_test, y_train, y_test = train_test_split(X, y, test_size=0.3, random_state=42)\n",
    "\n",
    "# One hot encode the y values \n",
    "#y_train = pd.get_dummies(y_train).values\n",
    "#y_test = pd.get_dummies(y_test).values\n",
    "\n",
    "# Scale X values \n",
    "min_max_scaler = MinMaxScaler()\n",
    "X_train = min_max_scaler.fit_transform(X_train)\n",
    "X_test = min_max_scaler.transform(X_test)\n",
    "\n",
    "# Add time dimension\n",
    "X_train = X_train.reshape(-1, 1, 79)\n",
    "X_test  = X_test.reshape(-1, 1, 79)\n",
    "#y_train = y_train.reshape(-1, 1, len(y_train))\n",
    "#y_test = y_test.reshape(-1, 1, len(y_test))"
   ]
  },
  {
   "cell_type": "code",
   "execution_count": 22,
   "id": "7464a08d",
   "metadata": {},
   "outputs": [
    {
     "data": {
      "text/plain": [
       "(4545, 1, 79)"
      ]
     },
     "execution_count": 22,
     "metadata": {},
     "output_type": "execute_result"
    }
   ],
   "source": [
    "X_train.shape"
   ]
  },
  {
   "cell_type": "code",
   "execution_count": 27,
   "id": "a09e9302",
   "metadata": {},
   "outputs": [],
   "source": [
    "model = Sequential()\n",
    "\n",
    "model.add(CuDNNLSTM(128, input_shape = (1,79), return_sequences=True))\n",
    "#model.add(Dropout(0.2))\n",
    "\n",
    "model.add(CuDNNLSTM(128))\n",
    "#model.add(Dropout(0.2))\n",
    "\n",
    "model.add(Dense(32,activation='relu'))\n",
    "#model.add(Dropout(0.2))\n",
    "\n",
    "model.add(Dense(7, activation ='softmax'))\n",
    "\n",
    "model.compile(loss='sparse_categorical_crossentropy',\n",
    "             optimizer = 'adam',\n",
    "             metrics = ['accuracy'])"
   ]
  },
  {
   "cell_type": "code",
   "execution_count": 28,
   "id": "4d3510da",
   "metadata": {
    "collapsed": true
   },
   "outputs": [
    {
     "name": "stdout",
     "output_type": "stream",
     "text": [
      "Epoch 1/50\n",
      " 1/18 [>.............................] - ETA: 8s - loss: 1.9452 - accuracy: 0.2461"
     ]
    },
    {
     "name": "stderr",
     "output_type": "stream",
     "text": [
      "2021-08-23 19:50:44.258414: I tensorflow/core/grappler/optimizers/custom_graph_optimizer_registry.cc:112] Plugin optimizer for device_type GPU is enabled.\n"
     ]
    },
    {
     "name": "stdout",
     "output_type": "stream",
     "text": [
      "18/18 [==============================] - 1s 30ms/step - loss: 1.9280 - accuracy: 0.3707 - val_loss: 1.8992 - val_accuracy: 0.4245\n",
      "Epoch 2/50\n",
      " 4/18 [=====>........................] - ETA: 0s - loss: 1.8894 - accuracy: 0.4189"
     ]
    },
    {
     "name": "stderr",
     "output_type": "stream",
     "text": [
      "2021-08-23 19:50:44.791086: I tensorflow/core/grappler/optimizers/custom_graph_optimizer_registry.cc:112] Plugin optimizer for device_type GPU is enabled.\n"
     ]
    },
    {
     "name": "stdout",
     "output_type": "stream",
     "text": [
      "18/18 [==============================] - 0s 22ms/step - loss: 1.8441 - accuracy: 0.4240 - val_loss: 1.7418 - val_accuracy: 0.4964\n",
      "Epoch 3/50\n",
      "18/18 [==============================] - 0s 22ms/step - loss: 1.5928 - accuracy: 0.4768 - val_loss: 1.3937 - val_accuracy: 0.5293\n",
      "Epoch 4/50\n",
      "18/18 [==============================] - 0s 22ms/step - loss: 1.2693 - accuracy: 0.5287 - val_loss: 1.0987 - val_accuracy: 0.5847\n",
      "Epoch 5/50\n",
      "18/18 [==============================] - 0s 22ms/step - loss: 1.0193 - accuracy: 0.6147 - val_loss: 0.8701 - val_accuracy: 0.6458\n",
      "Epoch 6/50\n",
      "18/18 [==============================] - 0s 22ms/step - loss: 0.8381 - accuracy: 0.7124 - val_loss: 0.7255 - val_accuracy: 0.7618\n",
      "Epoch 7/50\n",
      "18/18 [==============================] - 0s 22ms/step - loss: 0.7175 - accuracy: 0.7479 - val_loss: 0.6314 - val_accuracy: 0.7731\n",
      "Epoch 8/50\n",
      "18/18 [==============================] - 0s 22ms/step - loss: 0.6350 - accuracy: 0.7657 - val_loss: 0.5565 - val_accuracy: 0.7757\n",
      "Epoch 9/50\n",
      "18/18 [==============================] - 0s 22ms/step - loss: 0.5740 - accuracy: 0.7824 - val_loss: 0.5190 - val_accuracy: 0.7936\n",
      "Epoch 10/50\n",
      "18/18 [==============================] - 0s 22ms/step - loss: 0.5367 - accuracy: 0.7897 - val_loss: 0.4852 - val_accuracy: 0.7952\n",
      "Epoch 11/50\n",
      "18/18 [==============================] - 0s 22ms/step - loss: 0.5106 - accuracy: 0.7978 - val_loss: 0.4618 - val_accuracy: 0.8065\n",
      "Epoch 12/50\n",
      "18/18 [==============================] - 0s 21ms/step - loss: 0.4906 - accuracy: 0.8000 - val_loss: 0.4450 - val_accuracy: 0.8018\n",
      "Epoch 13/50\n",
      "18/18 [==============================] - 0s 22ms/step - loss: 0.4697 - accuracy: 0.8068 - val_loss: 0.4332 - val_accuracy: 0.8167\n",
      "Epoch 14/50\n",
      "18/18 [==============================] - 0s 22ms/step - loss: 0.4617 - accuracy: 0.8013 - val_loss: 0.4234 - val_accuracy: 0.8116\n",
      "Epoch 15/50\n",
      "18/18 [==============================] - 0s 22ms/step - loss: 0.4541 - accuracy: 0.8002 - val_loss: 0.4291 - val_accuracy: 0.7721\n",
      "Epoch 16/50\n",
      "18/18 [==============================] - 0s 21ms/step - loss: 0.4452 - accuracy: 0.8114 - val_loss: 0.4137 - val_accuracy: 0.8193\n",
      "Epoch 17/50\n",
      "18/18 [==============================] - 0s 21ms/step - loss: 0.4362 - accuracy: 0.8154 - val_loss: 0.4058 - val_accuracy: 0.8106\n",
      "Epoch 18/50\n",
      "18/18 [==============================] - 0s 21ms/step - loss: 0.4303 - accuracy: 0.8150 - val_loss: 0.4059 - val_accuracy: 0.8178\n",
      "Epoch 19/50\n",
      "18/18 [==============================] - 0s 22ms/step - loss: 0.4243 - accuracy: 0.8145 - val_loss: 0.3973 - val_accuracy: 0.8172\n",
      "Epoch 20/50\n",
      "18/18 [==============================] - 0s 21ms/step - loss: 0.4190 - accuracy: 0.8158 - val_loss: 0.3941 - val_accuracy: 0.8244\n",
      "Epoch 21/50\n",
      "18/18 [==============================] - 0s 21ms/step - loss: 0.4167 - accuracy: 0.8216 - val_loss: 0.3921 - val_accuracy: 0.8326\n",
      "Epoch 22/50\n",
      "18/18 [==============================] - 0s 21ms/step - loss: 0.4117 - accuracy: 0.8218 - val_loss: 0.3933 - val_accuracy: 0.8270\n",
      "Epoch 23/50\n",
      "18/18 [==============================] - 0s 21ms/step - loss: 0.4130 - accuracy: 0.8150 - val_loss: 0.3918 - val_accuracy: 0.8172\n",
      "Epoch 24/50\n",
      "18/18 [==============================] - 0s 21ms/step - loss: 0.4086 - accuracy: 0.8163 - val_loss: 0.3804 - val_accuracy: 0.8183\n",
      "Epoch 25/50\n",
      "18/18 [==============================] - 0s 21ms/step - loss: 0.3986 - accuracy: 0.8271 - val_loss: 0.3829 - val_accuracy: 0.8234\n",
      "Epoch 26/50\n",
      "18/18 [==============================] - 0s 22ms/step - loss: 0.4007 - accuracy: 0.8312 - val_loss: 0.3868 - val_accuracy: 0.8178\n",
      "Epoch 27/50\n",
      "18/18 [==============================] - 0s 22ms/step - loss: 0.3973 - accuracy: 0.8290 - val_loss: 0.3782 - val_accuracy: 0.8137\n",
      "Epoch 28/50\n",
      "18/18 [==============================] - 0s 21ms/step - loss: 0.3921 - accuracy: 0.8260 - val_loss: 0.3697 - val_accuracy: 0.8219\n",
      "Epoch 29/50\n",
      "18/18 [==============================] - 0s 22ms/step - loss: 0.3888 - accuracy: 0.8312 - val_loss: 0.3740 - val_accuracy: 0.8280\n",
      "Epoch 30/50\n",
      "18/18 [==============================] - 0s 22ms/step - loss: 0.3873 - accuracy: 0.8282 - val_loss: 0.3642 - val_accuracy: 0.8270\n",
      "Epoch 31/50\n",
      "18/18 [==============================] - 0s 22ms/step - loss: 0.3813 - accuracy: 0.8317 - val_loss: 0.3810 - val_accuracy: 0.8496\n",
      "Epoch 32/50\n",
      "18/18 [==============================] - 0s 22ms/step - loss: 0.3820 - accuracy: 0.8374 - val_loss: 0.3687 - val_accuracy: 0.8224\n",
      "Epoch 33/50\n",
      "18/18 [==============================] - 0s 22ms/step - loss: 0.3820 - accuracy: 0.8301 - val_loss: 0.3665 - val_accuracy: 0.8224\n",
      "Epoch 34/50\n",
      "18/18 [==============================] - 0s 22ms/step - loss: 0.3860 - accuracy: 0.8205 - val_loss: 0.3737 - val_accuracy: 0.8419\n",
      "Epoch 35/50\n",
      "18/18 [==============================] - 0s 22ms/step - loss: 0.3765 - accuracy: 0.8345 - val_loss: 0.3625 - val_accuracy: 0.8368\n",
      "Epoch 36/50\n",
      "18/18 [==============================] - 0s 22ms/step - loss: 0.3714 - accuracy: 0.8383 - val_loss: 0.3679 - val_accuracy: 0.8383\n",
      "Epoch 37/50\n",
      "18/18 [==============================] - 0s 22ms/step - loss: 0.3738 - accuracy: 0.8352 - val_loss: 0.3555 - val_accuracy: 0.8280\n",
      "Epoch 38/50\n",
      "18/18 [==============================] - 0s 22ms/step - loss: 0.3661 - accuracy: 0.8433 - val_loss: 0.3536 - val_accuracy: 0.8260\n",
      "Epoch 39/50\n",
      "18/18 [==============================] - 0s 22ms/step - loss: 0.3629 - accuracy: 0.8447 - val_loss: 0.3675 - val_accuracy: 0.8491\n",
      "Epoch 40/50\n",
      "18/18 [==============================] - 0s 22ms/step - loss: 0.3627 - accuracy: 0.8447 - val_loss: 0.3557 - val_accuracy: 0.8378\n",
      "Epoch 41/50\n",
      "18/18 [==============================] - 0s 22ms/step - loss: 0.3679 - accuracy: 0.8341 - val_loss: 0.3533 - val_accuracy: 0.8337\n",
      "Epoch 42/50\n",
      "18/18 [==============================] - 0s 22ms/step - loss: 0.3664 - accuracy: 0.8345 - val_loss: 0.3544 - val_accuracy: 0.8260\n",
      "Epoch 43/50\n",
      "18/18 [==============================] - 0s 22ms/step - loss: 0.3601 - accuracy: 0.8460 - val_loss: 0.3545 - val_accuracy: 0.8280\n",
      "Epoch 44/50\n",
      "18/18 [==============================] - 0s 22ms/step - loss: 0.3607 - accuracy: 0.8405 - val_loss: 0.3545 - val_accuracy: 0.8424\n",
      "Epoch 45/50\n",
      "18/18 [==============================] - 0s 22ms/step - loss: 0.3552 - accuracy: 0.8451 - val_loss: 0.3495 - val_accuracy: 0.8403\n",
      "Epoch 46/50\n",
      "18/18 [==============================] - 0s 22ms/step - loss: 0.3526 - accuracy: 0.8464 - val_loss: 0.3463 - val_accuracy: 0.8419\n",
      "Epoch 47/50\n",
      "18/18 [==============================] - 0s 22ms/step - loss: 0.3509 - accuracy: 0.8460 - val_loss: 0.3437 - val_accuracy: 0.8352\n",
      "Epoch 48/50\n",
      "18/18 [==============================] - 0s 22ms/step - loss: 0.3499 - accuracy: 0.8455 - val_loss: 0.3640 - val_accuracy: 0.7906\n",
      "Epoch 49/50\n",
      "18/18 [==============================] - 0s 22ms/step - loss: 0.3544 - accuracy: 0.8387 - val_loss: 0.3599 - val_accuracy: 0.8516\n",
      "Epoch 50/50\n",
      "18/18 [==============================] - 0s 22ms/step - loss: 0.3503 - accuracy: 0.8477 - val_loss: 0.3593 - val_accuracy: 0.8480\n"
     ]
    },
    {
     "data": {
      "text/plain": [
       "<tensorflow.python.keras.callbacks.History at 0x287425be0>"
      ]
     },
     "execution_count": 28,
     "metadata": {},
     "output_type": "execute_result"
    }
   ],
   "source": [
    "model.fit(x = X_train, y = y_train, epochs = 50, batch_size = 256, verbose = 1, validation_data = (X_test,y_test))"
   ]
  },
  {
   "cell_type": "code",
   "execution_count": 29,
   "id": "9eca56f9",
   "metadata": {},
   "outputs": [
    {
     "data": {
      "image/png": "[encoded data removed]",
      "text/plain": [
       "<Figure size 432x288 with 1 Axes>"
      ]
     },
     "metadata": {
      "needs_background": "light"
     },
     "output_type": "display_data"
    }
   ],
   "source": [
    "model_loss = pd.DataFrame(model.history.history)\n",
    "model_loss.plot()\n",
    "plt.show()"
   ]
  },
  {
   "cell_type": "code",
   "execution_count": 23,
   "id": "12cff608",
   "metadata": {},
   "outputs": [
    {
     "name": "stderr",
     "output_type": "stream",
     "text": [
      "2021-08-23 19:49:13.849327: I tensorflow/core/grappler/optimizers/custom_graph_optimizer_registry.cc:112] Plugin optimizer for device_type GPU is enabled.\n"
     ]
    },
    {
     "data": {
      "text/plain": [
       "array([6, 4, 1, ..., 4, 4, 2])"
      ]
     },
     "execution_count": 23,
     "metadata": {},
     "output_type": "execute_result"
    }
   ],
   "source": [
    "predictions = np.argmax(model.predict(X_test), axis=-1)\n",
    "predictions"
   ]
  },
  {
   "cell_type": "code",
   "execution_count": 24,
   "id": "aad60997",
   "metadata": {
    "scrolled": true
   },
   "outputs": [
    {
     "name": "stdout",
     "output_type": "stream",
     "text": [
      "              precision    recall  f1-score   support\n",
      "\n",
      "           0       0.65      0.33      0.44       272\n",
      "           1       1.00      1.00      1.00       285\n",
      "           2       0.99      1.00      0.99       288\n",
      "           3       0.83      0.70      0.76       247\n",
      "           4       0.56      0.71      0.63       269\n",
      "           5       0.75      1.00      0.85       289\n",
      "           6       0.99      1.00      1.00       298\n",
      "\n",
      "    accuracy                           0.83      1948\n",
      "   macro avg       0.82      0.82      0.81      1948\n",
      "weighted avg       0.83      0.83      0.82      1948\n",
      "\n"
     ]
    }
   ],
   "source": [
    "print(classification_report(y_test, predictions))"
   ]
  }
 ],
 "metadata": {
  "kernelspec": {
   "display_name": "Python 3.9 (tensorflow)",
   "language": "python",
   "name": "tensorflow"
  },
  "language_info": {
   "codemirror_mode": {
    "name": "ipython",
    "version": 3
   },
   "file_extension": ".py",
   "mimetype": "text/x-python",
   "name": "python",
   "nbconvert_exporter": "python",
   "pygments_lexer": "ipython3",
   "version": "3.9.6"
  }
 },
 "nbformat": 4,
 "nbformat_minor": 5
}
